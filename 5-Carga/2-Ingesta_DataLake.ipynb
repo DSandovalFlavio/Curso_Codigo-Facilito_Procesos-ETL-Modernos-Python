{
 "cells": [
  {
   "cell_type": "markdown",
   "metadata": {},
   "source": [
    "# Polars"
   ]
  },
  {
   "cell_type": "code",
   "execution_count": 2,
   "metadata": {},
   "outputs": [
    {
     "data": {
      "text/html": [
       "<div><style>\n",
       ".dataframe > thead > tr,\n",
       ".dataframe > tbody > tr {\n",
       "  text-align: right;\n",
       "  white-space: pre-wrap;\n",
       "}\n",
       "</style>\n",
       "<small>shape: (5, 28)</small><table border=\"1\" class=\"dataframe\"><thead><tr><th>ID</th><th>YearBirth</th><th>Education</th><th>MaritalStatus</th><th>Income</th><th>Kidhome</th><th>Teenhome</th><th>DtCustomer</th><th>Recency</th><th>MntWines</th><th>MntFruits</th><th>MntMeatProducts</th><th>MntFishProducts</th><th>MntSweetProducts</th><th>MntGoldProds</th><th>NumDealsPurchases</th><th>NumWebPurchases</th><th>NumCatalogPurchases</th><th>NumStorePurchases</th><th>NumWebVisitsMonth</th><th>AcceptedCmp3</th><th>AcceptedCmp4</th><th>AcceptedCmp5</th><th>AcceptedCmp1</th><th>AcceptedCmp2</th><th>Response</th><th>Complain</th><th>Country</th></tr><tr><td>i64</td><td>i64</td><td>str</td><td>str</td><td>f64</td><td>i64</td><td>i64</td><td>date</td><td>i64</td><td>i64</td><td>i64</td><td>i64</td><td>i64</td><td>i64</td><td>i64</td><td>i64</td><td>i64</td><td>i64</td><td>i64</td><td>i64</td><td>i64</td><td>i64</td><td>i64</td><td>i64</td><td>i64</td><td>i64</td><td>i64</td><td>str</td></tr></thead><tbody><tr><td>1826</td><td>1970</td><td>&quot;Graduation&quot;</td><td>&quot;Divorced&quot;</td><td>84835.0</td><td>0</td><td>0</td><td>2014-06-16</td><td>0</td><td>189</td><td>104</td><td>379</td><td>111</td><td>189</td><td>218</td><td>1</td><td>4</td><td>4</td><td>6</td><td>1</td><td>0</td><td>0</td><td>0</td><td>0</td><td>0</td><td>1</td><td>0</td><td>&quot;SP&quot;</td></tr><tr><td>1</td><td>1961</td><td>&quot;Graduation&quot;</td><td>&quot;Single&quot;</td><td>57091.0</td><td>0</td><td>0</td><td>2014-06-15</td><td>0</td><td>464</td><td>5</td><td>64</td><td>7</td><td>0</td><td>37</td><td>1</td><td>7</td><td>3</td><td>7</td><td>5</td><td>0</td><td>0</td><td>0</td><td>0</td><td>1</td><td>1</td><td>0</td><td>&quot;CA&quot;</td></tr><tr><td>10476</td><td>1958</td><td>&quot;Graduation&quot;</td><td>&quot;Married&quot;</td><td>67267.0</td><td>0</td><td>1</td><td>2014-05-13</td><td>0</td><td>134</td><td>11</td><td>59</td><td>15</td><td>2</td><td>30</td><td>1</td><td>3</td><td>2</td><td>5</td><td>2</td><td>0</td><td>0</td><td>0</td><td>0</td><td>0</td><td>0</td><td>0</td><td>&quot;US&quot;</td></tr><tr><td>1386</td><td>1967</td><td>&quot;Graduation&quot;</td><td>&quot;Together&quot;</td><td>32474.0</td><td>1</td><td>1</td><td>2014-05-11</td><td>0</td><td>10</td><td>0</td><td>1</td><td>0</td><td>0</td><td>0</td><td>1</td><td>1</td><td>0</td><td>2</td><td>7</td><td>0</td><td>0</td><td>0</td><td>0</td><td>0</td><td>0</td><td>0</td><td>&quot;AUS&quot;</td></tr><tr><td>5371</td><td>1989</td><td>&quot;Graduation&quot;</td><td>&quot;Single&quot;</td><td>21474.0</td><td>1</td><td>0</td><td>2014-04-08</td><td>0</td><td>6</td><td>16</td><td>24</td><td>11</td><td>0</td><td>34</td><td>2</td><td>3</td><td>1</td><td>2</td><td>7</td><td>1</td><td>0</td><td>0</td><td>0</td><td>0</td><td>1</td><td>0</td><td>&quot;SP&quot;</td></tr></tbody></table></div>"
      ],
      "text/plain": [
       "shape: (5, 28)\n",
       "┌───────┬───────────┬────────────┬──────────────┬───┬──────────────┬──────────┬──────────┬─────────┐\n",
       "│ ID    ┆ YearBirth ┆ Education  ┆ MaritalStatu ┆ … ┆ AcceptedCmp2 ┆ Response ┆ Complain ┆ Country │\n",
       "│ ---   ┆ ---       ┆ ---        ┆ s            ┆   ┆ ---          ┆ ---      ┆ ---      ┆ ---     │\n",
       "│ i64   ┆ i64       ┆ str        ┆ ---          ┆   ┆ i64          ┆ i64      ┆ i64      ┆ str     │\n",
       "│       ┆           ┆            ┆ str          ┆   ┆              ┆          ┆          ┆         │\n",
       "╞═══════╪═══════════╪════════════╪══════════════╪═══╪══════════════╪══════════╪══════════╪═════════╡\n",
       "│ 1826  ┆ 1970      ┆ Graduation ┆ Divorced     ┆ … ┆ 0            ┆ 1        ┆ 0        ┆ SP      │\n",
       "│ 1     ┆ 1961      ┆ Graduation ┆ Single       ┆ … ┆ 1            ┆ 1        ┆ 0        ┆ CA      │\n",
       "│ 10476 ┆ 1958      ┆ Graduation ┆ Married      ┆ … ┆ 0            ┆ 0        ┆ 0        ┆ US      │\n",
       "│ 1386  ┆ 1967      ┆ Graduation ┆ Together     ┆ … ┆ 0            ┆ 0        ┆ 0        ┆ AUS     │\n",
       "│ 5371  ┆ 1989      ┆ Graduation ┆ Single       ┆ … ┆ 0            ┆ 1        ┆ 0        ┆ SP      │\n",
       "└───────┴───────────┴────────────┴──────────────┴───┴──────────────┴──────────┴──────────┴─────────┘"
      ]
     },
     "execution_count": 2,
     "metadata": {},
     "output_type": "execute_result"
    }
   ],
   "source": [
    "import polars as pl\n",
    "import os\n",
    "\n",
    "path_data = os.path.join(os.getcwd(), 'data') \n",
    "\n",
    "df = pl.read_csv(path_data + '/marketing_data.csv')\n",
    "df = df.with_columns(pl.col(\"Dt_Customer\").str.strptime(pl.Date, \"%m/%d/%y\"))\n",
    "df = df.rename({col: col.replace(' ', '').replace('_', '') for col in df.columns})\n",
    "df = df.with_columns(\n",
    "    pl.col(\"Income\")\n",
    "    .str.replace_all(r'[$,]', '')\n",
    "    .str.replace_all(' ', '')\n",
    "    .cast(pl.Float64)\n",
    "    .fill_null(0)\n",
    ")\n",
    "df.head()"
   ]
  },
  {
   "cell_type": "code",
   "execution_count": 22,
   "metadata": {},
   "outputs": [
    {
     "name": "stderr",
     "output_type": "stream",
     "text": [
      "C:\\Users\\flavi\\AppData\\Local\\Temp\\ipykernel_14224\\51357722.py:10: UserWarning: Polars found a filename. Ensure you pass a path to the file instead of a python file object when possible for best performance.\n",
      "  df.write_parquet(f)\n"
     ]
    }
   ],
   "source": [
    "import gcsfs\n",
    "import os\n",
    "\n",
    "credentials = 'secretos/credentials.json'\n",
    "os.environ['GOOGLE_APPLICATION_CREDENTIALS'] = credentials\n",
    "\n",
    "fs = gcsfs.GCSFileSystem()\n",
    "destination = \"gs://data-hist-cf/dlt/deltamkt.parquet\"\n",
    "with fs.open(destination, 'wb') as f:\n",
    "    df.write_parquet(f)"
   ]
  }
 ],
 "metadata": {
  "kernelspec": {
   "display_name": "curso_cf_etl",
   "language": "python",
   "name": "python3"
  },
  "language_info": {
   "codemirror_mode": {
    "name": "ipython",
    "version": 3
   },
   "file_extension": ".py",
   "mimetype": "text/x-python",
   "name": "python",
   "nbconvert_exporter": "python",
   "pygments_lexer": "ipython3",
   "version": "3.11.9"
  }
 },
 "nbformat": 4,
 "nbformat_minor": 2
}
