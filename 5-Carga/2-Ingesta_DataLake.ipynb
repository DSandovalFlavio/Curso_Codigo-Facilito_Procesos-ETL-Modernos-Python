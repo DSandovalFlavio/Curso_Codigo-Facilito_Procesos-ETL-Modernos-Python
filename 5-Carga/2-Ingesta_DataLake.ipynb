{
 "cells": [
  {
   "cell_type": "markdown",
   "metadata": {},
   "source": [
    "# Polars"
   ]
  },
  {
   "cell_type": "code",
   "execution_count": 9,
   "metadata": {},
   "outputs": [
    {
     "data": {
      "text/html": [
       "<div><style>\n",
       ".dataframe > thead > tr,\n",
       ".dataframe > tbody > tr {\n",
       "  text-align: right;\n",
       "  white-space: pre-wrap;\n",
       "}\n",
       "</style>\n",
       "<small>shape: (5, 28)</small><table border=\"1\" class=\"dataframe\"><thead><tr><th>ID</th><th>YearBirth</th><th>Education</th><th>MaritalStatus</th><th>Income</th><th>Kidhome</th><th>Teenhome</th><th>DtCustomer</th><th>Recency</th><th>MntWines</th><th>MntFruits</th><th>MntMeatProducts</th><th>MntFishProducts</th><th>MntSweetProducts</th><th>MntGoldProds</th><th>NumDealsPurchases</th><th>NumWebPurchases</th><th>NumCatalogPurchases</th><th>NumStorePurchases</th><th>NumWebVisitsMonth</th><th>AcceptedCmp3</th><th>AcceptedCmp4</th><th>AcceptedCmp5</th><th>AcceptedCmp1</th><th>AcceptedCmp2</th><th>Response</th><th>Complain</th><th>Country</th></tr><tr><td>i64</td><td>i64</td><td>str</td><td>str</td><td>f64</td><td>i64</td><td>i64</td><td>date</td><td>i64</td><td>i64</td><td>i64</td><td>i64</td><td>i64</td><td>i64</td><td>i64</td><td>i64</td><td>i64</td><td>i64</td><td>i64</td><td>i64</td><td>i64</td><td>i64</td><td>i64</td><td>i64</td><td>i64</td><td>i64</td><td>i64</td><td>str</td></tr></thead><tbody><tr><td>1826</td><td>1970</td><td>&quot;Graduation&quot;</td><td>&quot;Divorced&quot;</td><td>84835.0</td><td>0</td><td>0</td><td>2014-06-16</td><td>0</td><td>189</td><td>104</td><td>379</td><td>111</td><td>189</td><td>218</td><td>1</td><td>4</td><td>4</td><td>6</td><td>1</td><td>0</td><td>0</td><td>0</td><td>0</td><td>0</td><td>1</td><td>0</td><td>&quot;SP&quot;</td></tr><tr><td>1</td><td>1961</td><td>&quot;Graduation&quot;</td><td>&quot;Single&quot;</td><td>57091.0</td><td>0</td><td>0</td><td>2014-06-15</td><td>0</td><td>464</td><td>5</td><td>64</td><td>7</td><td>0</td><td>37</td><td>1</td><td>7</td><td>3</td><td>7</td><td>5</td><td>0</td><td>0</td><td>0</td><td>0</td><td>1</td><td>1</td><td>0</td><td>&quot;CA&quot;</td></tr><tr><td>10476</td><td>1958</td><td>&quot;Graduation&quot;</td><td>&quot;Married&quot;</td><td>67267.0</td><td>0</td><td>1</td><td>2014-05-13</td><td>0</td><td>134</td><td>11</td><td>59</td><td>15</td><td>2</td><td>30</td><td>1</td><td>3</td><td>2</td><td>5</td><td>2</td><td>0</td><td>0</td><td>0</td><td>0</td><td>0</td><td>0</td><td>0</td><td>&quot;US&quot;</td></tr><tr><td>1386</td><td>1967</td><td>&quot;Graduation&quot;</td><td>&quot;Together&quot;</td><td>32474.0</td><td>1</td><td>1</td><td>2014-05-11</td><td>0</td><td>10</td><td>0</td><td>1</td><td>0</td><td>0</td><td>0</td><td>1</td><td>1</td><td>0</td><td>2</td><td>7</td><td>0</td><td>0</td><td>0</td><td>0</td><td>0</td><td>0</td><td>0</td><td>&quot;AUS&quot;</td></tr><tr><td>5371</td><td>1989</td><td>&quot;Graduation&quot;</td><td>&quot;Single&quot;</td><td>21474.0</td><td>1</td><td>0</td><td>2014-04-08</td><td>0</td><td>6</td><td>16</td><td>24</td><td>11</td><td>0</td><td>34</td><td>2</td><td>3</td><td>1</td><td>2</td><td>7</td><td>1</td><td>0</td><td>0</td><td>0</td><td>0</td><td>1</td><td>0</td><td>&quot;SP&quot;</td></tr></tbody></table></div>"
      ],
      "text/plain": [
       "shape: (5, 28)\n",
       "┌───────┬───────────┬────────────┬──────────────┬───┬──────────────┬──────────┬──────────┬─────────┐\n",
       "│ ID    ┆ YearBirth ┆ Education  ┆ MaritalStatu ┆ … ┆ AcceptedCmp2 ┆ Response ┆ Complain ┆ Country │\n",
       "│ ---   ┆ ---       ┆ ---        ┆ s            ┆   ┆ ---          ┆ ---      ┆ ---      ┆ ---     │\n",
       "│ i64   ┆ i64       ┆ str        ┆ ---          ┆   ┆ i64          ┆ i64      ┆ i64      ┆ str     │\n",
       "│       ┆           ┆            ┆ str          ┆   ┆              ┆          ┆          ┆         │\n",
       "╞═══════╪═══════════╪════════════╪══════════════╪═══╪══════════════╪══════════╪══════════╪═════════╡\n",
       "│ 1826  ┆ 1970      ┆ Graduation ┆ Divorced     ┆ … ┆ 0            ┆ 1        ┆ 0        ┆ SP      │\n",
       "│ 1     ┆ 1961      ┆ Graduation ┆ Single       ┆ … ┆ 1            ┆ 1        ┆ 0        ┆ CA      │\n",
       "│ 10476 ┆ 1958      ┆ Graduation ┆ Married      ┆ … ┆ 0            ┆ 0        ┆ 0        ┆ US      │\n",
       "│ 1386  ┆ 1967      ┆ Graduation ┆ Together     ┆ … ┆ 0            ┆ 0        ┆ 0        ┆ AUS     │\n",
       "│ 5371  ┆ 1989      ┆ Graduation ┆ Single       ┆ … ┆ 0            ┆ 1        ┆ 0        ┆ SP      │\n",
       "└───────┴───────────┴────────────┴──────────────┴───┴──────────────┴──────────┴──────────┴─────────┘"
      ]
     },
     "execution_count": 9,
     "metadata": {},
     "output_type": "execute_result"
    }
   ],
   "source": [
    "import polars as pl\n",
    "import os\n",
    "\n",
    "path_data = os.path.join(os.getcwd(), 'data') \n",
    "\n",
    "df = pl.read_csv(path_data + '/marketing_data.csv')\n",
    "df = df.with_columns(pl.col(\"Dt_Customer\").str.strptime(pl.Date, \"%m/%d/%y\"))\n",
    "df = df.rename({col: col.replace(' ', '').replace('_', '') for col in df.columns})\n",
    "df = df.with_columns(\n",
    "    pl.col(\"Income\")\n",
    "    .str.replace_all(r'[$,]', '')\n",
    "    .str.replace_all(' ', '')\n",
    "    .cast(pl.Float64)\n",
    "    .fill_null(0)\n",
    ")\n",
    "df.head()"
   ]
  },
  {
   "cell_type": "code",
   "execution_count": 11,
   "metadata": {},
   "outputs": [
    {
     "name": "stderr",
     "output_type": "stream",
     "text": [
      "C:\\Users\\flavi\\AppData\\Local\\Temp\\ipykernel_13836\\51357722.py:10: UserWarning: Polars found a filename. Ensure you pass a path to the file instead of a python file object when possible for best performance.\n",
      "  df.write_parquet(f)\n",
      "_request non-retriable exception: Anonymous caller does not have storage.objects.create access to the Google Cloud Storage object. Permission 'storage.objects.create' denied on resource (or it may not exist)., 401\n",
      "Traceback (most recent call last):\n",
      "  File \"c:\\Users\\flavi\\anaconda3\\envs\\curso_cf_etl\\Lib\\site-packages\\gcsfs\\retry.py\", line 130, in retry_request\n",
      "    return await func(*args, **kwargs)\n",
      "           ^^^^^^^^^^^^^^^^^^^^^^^^^^^\n",
      "  File \"c:\\Users\\flavi\\anaconda3\\envs\\curso_cf_etl\\Lib\\site-packages\\gcsfs\\core.py\", line 440, in _request\n",
      "    validate_response(status, contents, path, args)\n",
      "  File \"c:\\Users\\flavi\\anaconda3\\envs\\curso_cf_etl\\Lib\\site-packages\\gcsfs\\retry.py\", line 117, in validate_response\n",
      "    raise HttpError(error)\n",
      "gcsfs.retry.HttpError: Anonymous caller does not have storage.objects.create access to the Google Cloud Storage object. Permission 'storage.objects.create' denied on resource (or it may not exist)., 401\n"
     ]
    },
    {
     "ename": "HttpError",
     "evalue": "Anonymous caller does not have storage.objects.create access to the Google Cloud Storage object. Permission 'storage.objects.create' denied on resource (or it may not exist)., 401",
     "output_type": "error",
     "traceback": [
      "\u001b[1;31m---------------------------------------------------------------------------\u001b[0m",
      "\u001b[1;31mHttpError\u001b[0m                                 Traceback (most recent call last)",
      "Cell \u001b[1;32mIn[11], line 9\u001b[0m\n\u001b[0;32m      7\u001b[0m fs \u001b[38;5;241m=\u001b[39m gcsfs\u001b[38;5;241m.\u001b[39mGCSFileSystem()\n\u001b[0;32m      8\u001b[0m destination \u001b[38;5;241m=\u001b[39m \u001b[38;5;124m\"\u001b[39m\u001b[38;5;124mgs://data-hist-cf/dlt/deltamkt.parquet\u001b[39m\u001b[38;5;124m\"\u001b[39m\n\u001b[1;32m----> 9\u001b[0m \u001b[38;5;28;01mwith\u001b[39;00m fs\u001b[38;5;241m.\u001b[39mopen(destination, \u001b[38;5;124m'\u001b[39m\u001b[38;5;124mwb\u001b[39m\u001b[38;5;124m'\u001b[39m) \u001b[38;5;28;01mas\u001b[39;00m f:\n\u001b[0;32m     10\u001b[0m     df\u001b[38;5;241m.\u001b[39mwrite_parquet(f)\n",
      "File \u001b[1;32mc:\\Users\\flavi\\anaconda3\\envs\\curso_cf_etl\\Lib\\site-packages\\fsspec\\spec.py:1963\u001b[0m, in \u001b[0;36mAbstractBufferedFile.__exit__\u001b[1;34m(self, *args)\u001b[0m\n\u001b[0;32m   1962\u001b[0m \u001b[38;5;28;01mdef\u001b[39;00m \u001b[38;5;21m__exit__\u001b[39m(\u001b[38;5;28mself\u001b[39m, \u001b[38;5;241m*\u001b[39margs):\n\u001b[1;32m-> 1963\u001b[0m     \u001b[38;5;28mself\u001b[39m\u001b[38;5;241m.\u001b[39mclose()\n",
      "File \u001b[1;32mc:\\Users\\flavi\\anaconda3\\envs\\curso_cf_etl\\Lib\\site-packages\\fsspec\\spec.py:1930\u001b[0m, in \u001b[0;36mAbstractBufferedFile.close\u001b[1;34m(self)\u001b[0m\n\u001b[0;32m   1928\u001b[0m \u001b[38;5;28;01melse\u001b[39;00m:\n\u001b[0;32m   1929\u001b[0m     \u001b[38;5;28;01mif\u001b[39;00m \u001b[38;5;129;01mnot\u001b[39;00m \u001b[38;5;28mself\u001b[39m\u001b[38;5;241m.\u001b[39mforced:\n\u001b[1;32m-> 1930\u001b[0m         \u001b[38;5;28mself\u001b[39m\u001b[38;5;241m.\u001b[39mflush(force\u001b[38;5;241m=\u001b[39m\u001b[38;5;28;01mTrue\u001b[39;00m)\n\u001b[0;32m   1932\u001b[0m     \u001b[38;5;28;01mif\u001b[39;00m \u001b[38;5;28mself\u001b[39m\u001b[38;5;241m.\u001b[39mfs \u001b[38;5;129;01mis\u001b[39;00m \u001b[38;5;129;01mnot\u001b[39;00m \u001b[38;5;28;01mNone\u001b[39;00m:\n\u001b[0;32m   1933\u001b[0m         \u001b[38;5;28mself\u001b[39m\u001b[38;5;241m.\u001b[39mfs\u001b[38;5;241m.\u001b[39minvalidate_cache(\u001b[38;5;28mself\u001b[39m\u001b[38;5;241m.\u001b[39mpath)\n",
      "File \u001b[1;32mc:\\Users\\flavi\\anaconda3\\envs\\curso_cf_etl\\Lib\\site-packages\\fsspec\\spec.py:1796\u001b[0m, in \u001b[0;36mAbstractBufferedFile.flush\u001b[1;34m(self, force)\u001b[0m\n\u001b[0;32m   1794\u001b[0m \u001b[38;5;28mself\u001b[39m\u001b[38;5;241m.\u001b[39moffset \u001b[38;5;241m=\u001b[39m \u001b[38;5;241m0\u001b[39m\n\u001b[0;32m   1795\u001b[0m \u001b[38;5;28;01mtry\u001b[39;00m:\n\u001b[1;32m-> 1796\u001b[0m     \u001b[38;5;28mself\u001b[39m\u001b[38;5;241m.\u001b[39m_initiate_upload()\n\u001b[0;32m   1797\u001b[0m \u001b[38;5;28;01mexcept\u001b[39;00m:  \u001b[38;5;66;03m# noqa: E722\u001b[39;00m\n\u001b[0;32m   1798\u001b[0m     \u001b[38;5;28mself\u001b[39m\u001b[38;5;241m.\u001b[39mclosed \u001b[38;5;241m=\u001b[39m \u001b[38;5;28;01mTrue\u001b[39;00m\n",
      "File \u001b[1;32mc:\\Users\\flavi\\anaconda3\\envs\\curso_cf_etl\\Lib\\site-packages\\gcsfs\\core.py:1873\u001b[0m, in \u001b[0;36mGCSFile._initiate_upload\u001b[1;34m(self)\u001b[0m\n\u001b[0;32m   1871\u001b[0m \u001b[38;5;28;01mdef\u001b[39;00m \u001b[38;5;21m_initiate_upload\u001b[39m(\u001b[38;5;28mself\u001b[39m):\n\u001b[0;32m   1872\u001b[0m \u001b[38;5;250m    \u001b[39m\u001b[38;5;124;03m\"\"\"Create multi-upload\"\"\"\u001b[39;00m\n\u001b[1;32m-> 1873\u001b[0m     \u001b[38;5;28mself\u001b[39m\u001b[38;5;241m.\u001b[39mlocation \u001b[38;5;241m=\u001b[39m asyn\u001b[38;5;241m.\u001b[39msync(\n\u001b[0;32m   1874\u001b[0m         \u001b[38;5;28mself\u001b[39m\u001b[38;5;241m.\u001b[39mgcsfs\u001b[38;5;241m.\u001b[39mloop,\n\u001b[0;32m   1875\u001b[0m         initiate_upload,\n\u001b[0;32m   1876\u001b[0m         \u001b[38;5;28mself\u001b[39m\u001b[38;5;241m.\u001b[39mgcsfs,\n\u001b[0;32m   1877\u001b[0m         \u001b[38;5;28mself\u001b[39m\u001b[38;5;241m.\u001b[39mbucket,\n\u001b[0;32m   1878\u001b[0m         \u001b[38;5;28mself\u001b[39m\u001b[38;5;241m.\u001b[39mkey,\n\u001b[0;32m   1879\u001b[0m         \u001b[38;5;28mself\u001b[39m\u001b[38;5;241m.\u001b[39mcontent_type,\n\u001b[0;32m   1880\u001b[0m         \u001b[38;5;28mself\u001b[39m\u001b[38;5;241m.\u001b[39mmetadata,\n\u001b[0;32m   1881\u001b[0m         \u001b[38;5;28mself\u001b[39m\u001b[38;5;241m.\u001b[39mfixed_key_metadata,\n\u001b[0;32m   1882\u001b[0m         timeout\u001b[38;5;241m=\u001b[39m\u001b[38;5;28mself\u001b[39m\u001b[38;5;241m.\u001b[39mtimeout,\n\u001b[0;32m   1883\u001b[0m     )\n",
      "File \u001b[1;32mc:\\Users\\flavi\\anaconda3\\envs\\curso_cf_etl\\Lib\\site-packages\\fsspec\\asyn.py:103\u001b[0m, in \u001b[0;36msync\u001b[1;34m(loop, func, timeout, *args, **kwargs)\u001b[0m\n\u001b[0;32m    101\u001b[0m     \u001b[38;5;28;01mraise\u001b[39;00m FSTimeoutError \u001b[38;5;28;01mfrom\u001b[39;00m \u001b[38;5;21;01mreturn_result\u001b[39;00m\n\u001b[0;32m    102\u001b[0m \u001b[38;5;28;01melif\u001b[39;00m \u001b[38;5;28misinstance\u001b[39m(return_result, \u001b[38;5;167;01mBaseException\u001b[39;00m):\n\u001b[1;32m--> 103\u001b[0m     \u001b[38;5;28;01mraise\u001b[39;00m return_result\n\u001b[0;32m    104\u001b[0m \u001b[38;5;28;01melse\u001b[39;00m:\n\u001b[0;32m    105\u001b[0m     \u001b[38;5;28;01mreturn\u001b[39;00m return_result\n",
      "File \u001b[1;32mc:\\Users\\flavi\\anaconda3\\envs\\curso_cf_etl\\Lib\\site-packages\\fsspec\\asyn.py:56\u001b[0m, in \u001b[0;36m_runner\u001b[1;34m(event, coro, result, timeout)\u001b[0m\n\u001b[0;32m     54\u001b[0m     coro \u001b[38;5;241m=\u001b[39m asyncio\u001b[38;5;241m.\u001b[39mwait_for(coro, timeout\u001b[38;5;241m=\u001b[39mtimeout)\n\u001b[0;32m     55\u001b[0m \u001b[38;5;28;01mtry\u001b[39;00m:\n\u001b[1;32m---> 56\u001b[0m     result[\u001b[38;5;241m0\u001b[39m] \u001b[38;5;241m=\u001b[39m \u001b[38;5;28;01mawait\u001b[39;00m coro\n\u001b[0;32m     57\u001b[0m \u001b[38;5;28;01mexcept\u001b[39;00m \u001b[38;5;167;01mException\u001b[39;00m \u001b[38;5;28;01mas\u001b[39;00m ex:\n\u001b[0;32m     58\u001b[0m     result[\u001b[38;5;241m0\u001b[39m] \u001b[38;5;241m=\u001b[39m ex\n",
      "File \u001b[1;32mc:\\Users\\flavi\\anaconda3\\envs\\curso_cf_etl\\Lib\\site-packages\\gcsfs\\core.py:1990\u001b[0m, in \u001b[0;36minitiate_upload\u001b[1;34m(fs, bucket, key, content_type, metadata, fixed_key_metadata)\u001b[0m\n\u001b[0;32m   1988\u001b[0m     j[\u001b[38;5;124m\"\u001b[39m\u001b[38;5;124mmetadata\u001b[39m\u001b[38;5;124m\"\u001b[39m] \u001b[38;5;241m=\u001b[39m metadata\n\u001b[0;32m   1989\u001b[0m j\u001b[38;5;241m.\u001b[39mupdate(_convert_fixed_key_metadata(fixed_key_metadata))\n\u001b[1;32m-> 1990\u001b[0m headers, _ \u001b[38;5;241m=\u001b[39m \u001b[38;5;28;01mawait\u001b[39;00m fs\u001b[38;5;241m.\u001b[39m_call(\n\u001b[0;32m   1991\u001b[0m     method\u001b[38;5;241m=\u001b[39m\u001b[38;5;124m\"\u001b[39m\u001b[38;5;124mPOST\u001b[39m\u001b[38;5;124m\"\u001b[39m,\n\u001b[0;32m   1992\u001b[0m     path\u001b[38;5;241m=\u001b[39m\u001b[38;5;124mf\u001b[39m\u001b[38;5;124m\"\u001b[39m\u001b[38;5;132;01m{\u001b[39;00mfs\u001b[38;5;241m.\u001b[39m_location\u001b[38;5;132;01m}\u001b[39;00m\u001b[38;5;124m/upload/storage/v1/b/\u001b[39m\u001b[38;5;132;01m{\u001b[39;00mquote(bucket)\u001b[38;5;132;01m}\u001b[39;00m\u001b[38;5;124m/o\u001b[39m\u001b[38;5;124m\"\u001b[39m,\n\u001b[0;32m   1993\u001b[0m     uploadType\u001b[38;5;241m=\u001b[39m\u001b[38;5;124m\"\u001b[39m\u001b[38;5;124mresumable\u001b[39m\u001b[38;5;124m\"\u001b[39m,\n\u001b[0;32m   1994\u001b[0m     json\u001b[38;5;241m=\u001b[39mj,\n\u001b[0;32m   1995\u001b[0m     headers\u001b[38;5;241m=\u001b[39m{\u001b[38;5;124m\"\u001b[39m\u001b[38;5;124mX-Upload-Content-Type\u001b[39m\u001b[38;5;124m\"\u001b[39m: content_type},\n\u001b[0;32m   1996\u001b[0m )\n\u001b[0;32m   1997\u001b[0m loc \u001b[38;5;241m=\u001b[39m headers[\u001b[38;5;124m\"\u001b[39m\u001b[38;5;124mLocation\u001b[39m\u001b[38;5;124m\"\u001b[39m]\n\u001b[0;32m   1998\u001b[0m out \u001b[38;5;241m=\u001b[39m loc[\u001b[38;5;241m0\u001b[39m] \u001b[38;5;28;01mif\u001b[39;00m \u001b[38;5;28misinstance\u001b[39m(loc, \u001b[38;5;28mlist\u001b[39m) \u001b[38;5;28;01melse\u001b[39;00m loc  \u001b[38;5;66;03m# <- for CVR responses\u001b[39;00m\n",
      "File \u001b[1;32mc:\\Users\\flavi\\anaconda3\\envs\\curso_cf_etl\\Lib\\site-packages\\gcsfs\\core.py:447\u001b[0m, in \u001b[0;36mGCSFileSystem._call\u001b[1;34m(self, method, path, json_out, info_out, *args, **kwargs)\u001b[0m\n\u001b[0;32m    443\u001b[0m \u001b[38;5;28;01masync\u001b[39;00m \u001b[38;5;28;01mdef\u001b[39;00m \u001b[38;5;21m_call\u001b[39m(\n\u001b[0;32m    444\u001b[0m     \u001b[38;5;28mself\u001b[39m, method, path, \u001b[38;5;241m*\u001b[39margs, json_out\u001b[38;5;241m=\u001b[39m\u001b[38;5;28;01mFalse\u001b[39;00m, info_out\u001b[38;5;241m=\u001b[39m\u001b[38;5;28;01mFalse\u001b[39;00m, \u001b[38;5;241m*\u001b[39m\u001b[38;5;241m*\u001b[39mkwargs\n\u001b[0;32m    445\u001b[0m ):\n\u001b[0;32m    446\u001b[0m     logger\u001b[38;5;241m.\u001b[39mdebug(\u001b[38;5;124mf\u001b[39m\u001b[38;5;124m\"\u001b[39m\u001b[38;5;132;01m{\u001b[39;00mmethod\u001b[38;5;241m.\u001b[39mupper()\u001b[38;5;132;01m}\u001b[39;00m\u001b[38;5;124m: \u001b[39m\u001b[38;5;132;01m{\u001b[39;00mpath\u001b[38;5;132;01m}\u001b[39;00m\u001b[38;5;124m, \u001b[39m\u001b[38;5;132;01m{\u001b[39;00margs\u001b[38;5;132;01m}\u001b[39;00m\u001b[38;5;124m, \u001b[39m\u001b[38;5;132;01m{\u001b[39;00mkwargs\u001b[38;5;241m.\u001b[39mget(\u001b[38;5;124m'\u001b[39m\u001b[38;5;124mheaders\u001b[39m\u001b[38;5;124m'\u001b[39m)\u001b[38;5;132;01m}\u001b[39;00m\u001b[38;5;124m\"\u001b[39m)\n\u001b[1;32m--> 447\u001b[0m     status, headers, info, contents \u001b[38;5;241m=\u001b[39m \u001b[38;5;28;01mawait\u001b[39;00m \u001b[38;5;28mself\u001b[39m\u001b[38;5;241m.\u001b[39m_request(\n\u001b[0;32m    448\u001b[0m         method, path, \u001b[38;5;241m*\u001b[39margs, \u001b[38;5;241m*\u001b[39m\u001b[38;5;241m*\u001b[39mkwargs\n\u001b[0;32m    449\u001b[0m     )\n\u001b[0;32m    450\u001b[0m     \u001b[38;5;28;01mif\u001b[39;00m json_out:\n\u001b[0;32m    451\u001b[0m         \u001b[38;5;28;01mreturn\u001b[39;00m json\u001b[38;5;241m.\u001b[39mloads(contents)\n",
      "File \u001b[1;32mc:\\Users\\flavi\\anaconda3\\envs\\curso_cf_etl\\Lib\\site-packages\\decorator.py:221\u001b[0m, in \u001b[0;36mdecorate.<locals>.fun\u001b[1;34m(*args, **kw)\u001b[0m\n\u001b[0;32m    219\u001b[0m \u001b[38;5;28;01mif\u001b[39;00m \u001b[38;5;129;01mnot\u001b[39;00m kwsyntax:\n\u001b[0;32m    220\u001b[0m     args, kw \u001b[38;5;241m=\u001b[39m fix(args, kw, sig)\n\u001b[1;32m--> 221\u001b[0m \u001b[38;5;28;01mreturn\u001b[39;00m \u001b[38;5;28;01mawait\u001b[39;00m caller(func, \u001b[38;5;241m*\u001b[39m(extras \u001b[38;5;241m+\u001b[39m args), \u001b[38;5;241m*\u001b[39m\u001b[38;5;241m*\u001b[39mkw)\n",
      "File \u001b[1;32mc:\\Users\\flavi\\anaconda3\\envs\\curso_cf_etl\\Lib\\site-packages\\gcsfs\\retry.py:165\u001b[0m, in \u001b[0;36mretry_request\u001b[1;34m(func, retries, *args, **kwargs)\u001b[0m\n\u001b[0;32m    163\u001b[0m     \u001b[38;5;28;01mcontinue\u001b[39;00m\n\u001b[0;32m    164\u001b[0m logger\u001b[38;5;241m.\u001b[39mexception(\u001b[38;5;124mf\u001b[39m\u001b[38;5;124m\"\u001b[39m\u001b[38;5;132;01m{\u001b[39;00mfunc\u001b[38;5;241m.\u001b[39m\u001b[38;5;18m__name__\u001b[39m\u001b[38;5;132;01m}\u001b[39;00m\u001b[38;5;124m non-retriable exception: \u001b[39m\u001b[38;5;132;01m{\u001b[39;00me\u001b[38;5;132;01m}\u001b[39;00m\u001b[38;5;124m\"\u001b[39m)\n\u001b[1;32m--> 165\u001b[0m \u001b[38;5;28;01mraise\u001b[39;00m e\n",
      "File \u001b[1;32mc:\\Users\\flavi\\anaconda3\\envs\\curso_cf_etl\\Lib\\site-packages\\gcsfs\\retry.py:130\u001b[0m, in \u001b[0;36mretry_request\u001b[1;34m(func, retries, *args, **kwargs)\u001b[0m\n\u001b[0;32m    128\u001b[0m     \u001b[38;5;28;01mif\u001b[39;00m retry \u001b[38;5;241m>\u001b[39m \u001b[38;5;241m0\u001b[39m:\n\u001b[0;32m    129\u001b[0m         \u001b[38;5;28;01mawait\u001b[39;00m asyncio\u001b[38;5;241m.\u001b[39msleep(\u001b[38;5;28mmin\u001b[39m(random\u001b[38;5;241m.\u001b[39mrandom() \u001b[38;5;241m+\u001b[39m \u001b[38;5;241m2\u001b[39m \u001b[38;5;241m*\u001b[39m\u001b[38;5;241m*\u001b[39m (retry \u001b[38;5;241m-\u001b[39m \u001b[38;5;241m1\u001b[39m), \u001b[38;5;241m32\u001b[39m))\n\u001b[1;32m--> 130\u001b[0m     \u001b[38;5;28;01mreturn\u001b[39;00m \u001b[38;5;28;01mawait\u001b[39;00m func(\u001b[38;5;241m*\u001b[39margs, \u001b[38;5;241m*\u001b[39m\u001b[38;5;241m*\u001b[39mkwargs)\n\u001b[0;32m    131\u001b[0m \u001b[38;5;28;01mexcept\u001b[39;00m (\n\u001b[0;32m    132\u001b[0m     HttpError,\n\u001b[0;32m    133\u001b[0m     requests\u001b[38;5;241m.\u001b[39mexceptions\u001b[38;5;241m.\u001b[39mRequestException,\n\u001b[1;32m   (...)\u001b[0m\n\u001b[0;32m    136\u001b[0m     aiohttp\u001b[38;5;241m.\u001b[39mclient_exceptions\u001b[38;5;241m.\u001b[39mClientError,\n\u001b[0;32m    137\u001b[0m ) \u001b[38;5;28;01mas\u001b[39;00m e:\n\u001b[0;32m    138\u001b[0m     \u001b[38;5;28;01mif\u001b[39;00m (\n\u001b[0;32m    139\u001b[0m         \u001b[38;5;28misinstance\u001b[39m(e, HttpError)\n\u001b[0;32m    140\u001b[0m         \u001b[38;5;129;01mand\u001b[39;00m e\u001b[38;5;241m.\u001b[39mcode \u001b[38;5;241m==\u001b[39m \u001b[38;5;241m400\u001b[39m\n\u001b[0;32m    141\u001b[0m         \u001b[38;5;129;01mand\u001b[39;00m \u001b[38;5;124m\"\u001b[39m\u001b[38;5;124mrequester pays\u001b[39m\u001b[38;5;124m\"\u001b[39m \u001b[38;5;129;01min\u001b[39;00m e\u001b[38;5;241m.\u001b[39mmessage\n\u001b[0;32m    142\u001b[0m     ):\n",
      "File \u001b[1;32mc:\\Users\\flavi\\anaconda3\\envs\\curso_cf_etl\\Lib\\site-packages\\gcsfs\\core.py:440\u001b[0m, in \u001b[0;36mGCSFileSystem._request\u001b[1;34m(self, method, path, headers, json, data, *args, **kwargs)\u001b[0m\n\u001b[0;32m    437\u001b[0m info \u001b[38;5;241m=\u001b[39m r\u001b[38;5;241m.\u001b[39mrequest_info  \u001b[38;5;66;03m# for debug only\u001b[39;00m\n\u001b[0;32m    438\u001b[0m contents \u001b[38;5;241m=\u001b[39m \u001b[38;5;28;01mawait\u001b[39;00m r\u001b[38;5;241m.\u001b[39mread()\n\u001b[1;32m--> 440\u001b[0m validate_response(status, contents, path, args)\n\u001b[0;32m    441\u001b[0m \u001b[38;5;28;01mreturn\u001b[39;00m status, headers, info, contents\n",
      "File \u001b[1;32mc:\\Users\\flavi\\anaconda3\\envs\\curso_cf_etl\\Lib\\site-packages\\gcsfs\\retry.py:117\u001b[0m, in \u001b[0;36mvalidate_response\u001b[1;34m(status, content, path, args)\u001b[0m\n\u001b[0;32m    115\u001b[0m     \u001b[38;5;28;01mraise\u001b[39;00m \u001b[38;5;167;01mValueError\u001b[39;00m(\u001b[38;5;124mf\u001b[39m\u001b[38;5;124m\"\u001b[39m\u001b[38;5;124mBad Request: \u001b[39m\u001b[38;5;132;01m{\u001b[39;00mpath\u001b[38;5;132;01m}\u001b[39;00m\u001b[38;5;130;01m\\n\u001b[39;00m\u001b[38;5;132;01m{\u001b[39;00mmsg\u001b[38;5;132;01m}\u001b[39;00m\u001b[38;5;124m\"\u001b[39m)\n\u001b[0;32m    116\u001b[0m \u001b[38;5;28;01melif\u001b[39;00m error \u001b[38;5;129;01mand\u001b[39;00m \u001b[38;5;129;01mnot\u001b[39;00m \u001b[38;5;28misinstance\u001b[39m(error, \u001b[38;5;28mstr\u001b[39m):\n\u001b[1;32m--> 117\u001b[0m     \u001b[38;5;28;01mraise\u001b[39;00m HttpError(error)\n\u001b[0;32m    118\u001b[0m \u001b[38;5;28;01melif\u001b[39;00m status:\n\u001b[0;32m    119\u001b[0m     \u001b[38;5;28;01mraise\u001b[39;00m HttpError({\u001b[38;5;124m\"\u001b[39m\u001b[38;5;124mcode\u001b[39m\u001b[38;5;124m\"\u001b[39m: status, \u001b[38;5;124m\"\u001b[39m\u001b[38;5;124mmessage\u001b[39m\u001b[38;5;124m\"\u001b[39m: msg})  \u001b[38;5;66;03m# text-like\u001b[39;00m\n",
      "\u001b[1;31mHttpError\u001b[0m: Anonymous caller does not have storage.objects.create access to the Google Cloud Storage object. Permission 'storage.objects.create' denied on resource (or it may not exist)., 401"
     ]
    }
   ],
   "source": [
    "import gcsfs\n",
    "import os\n",
    "\n",
    "credentials = 'secretos/credentials.json'\n",
    "os.environ['GOOGLE_APPLICATION_CREDENTIALS'] = credentials\n",
    "\n",
    "fs = gcsfs.GCSFileSystem()\n",
    "destination = \"gs://data-hist-cf/dlt/deltamkt.parquet\"\n",
    "with fs.open(destination, 'wb') as f:\n",
    "    df.write_parquet(f)"
   ]
  },
  {
   "cell_type": "code",
   "execution_count": null,
   "metadata": {},
   "outputs": [],
   "source": []
  }
 ],
 "metadata": {
  "kernelspec": {
   "display_name": "curso_cf_etl",
   "language": "python",
   "name": "python3"
  },
  "language_info": {
   "codemirror_mode": {
    "name": "ipython",
    "version": 3
   },
   "file_extension": ".py",
   "mimetype": "text/x-python",
   "name": "python",
   "nbconvert_exporter": "python",
   "pygments_lexer": "ipython3",
   "version": "3.11.9"
  }
 },
 "nbformat": 4,
 "nbformat_minor": 2
}
