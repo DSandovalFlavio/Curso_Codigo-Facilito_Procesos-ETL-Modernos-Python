{
 "cells": [
  {
   "cell_type": "markdown",
   "metadata": {},
   "source": [
    "# Extracción de datos desde APIs con Python\n"
   ]
  },
  {
   "cell_type": "markdown",
   "metadata": {},
   "source": [
    "## Conceptos básicos de APIs REST y consumo de APIs en Python"
   ]
  },
  {
   "cell_type": "markdown",
   "metadata": {},
   "source": [
    "### ¿Qué son las API?\n",
    "\n",
    "- Son un conjuntos de reglas y protocolos que permiten a diferentes aplicaciones comunicarse entre sí. \n",
    "- Se utilizan para acceder a datos de servicios web, aplicaciones en la nube, redes sociales, entre otros. \n",
    "- Proporcionan una forma estructurada y segura de obtener datos de sistemas externos."
   ]
  },
  {
   "cell_type": "markdown",
   "metadata": {},
   "source": [
    "![API](../Images/API.png)"
   ]
  },
  {
   "cell_type": "markdown",
   "metadata": {},
   "source": [
    "## Extracción de datos JSON desde APIs públicas y privadas"
   ]
  },
  {
   "cell_type": "markdown",
   "metadata": {},
   "source": [
    "![API_Spotify](../Images/API_Spotify.png)"
   ]
  },
  {
   "cell_type": "code",
   "execution_count": null,
   "metadata": {},
   "outputs": [],
   "source": [
    "import pandas as pd # manipular\n",
    "import os # path\n",
    "import json # manipular la respuesta de la api\n",
    "import requests # para conectar a la api\n",
    "import re # limpiar datos regex\n",
    "\n",
    "# %%\n",
    "path = os.getcwd()\n",
    "path_credenciales = os.path.join(path, 'Credentials', 'credentials.json')\n",
    "with open(path_credenciales) as file:\n",
    "    credenciales = json.load(file)['Credentials']\n",
    "    client_id = credenciales['client_id']\n",
    "    client_secret = credenciales['client_secret']\n",
    "# %%\n",
    "data = {\n",
    "    'grant_type': 'client_credentials',\n",
    "    'client_id': client_id,\n",
    "    'client_secret':client_secret\n",
    "}\n",
    "token_url = 'https://accounts.spotify.com/api/token'\n",
    "response = requests.post(token_url, data=data)\n",
    "if response.status_code == 200:\n",
    "    access_token = response.json()['access_token']\n",
    "    print(\"Token de acceso:\", access_token)\n",
    "else:\n",
    "    print(\"Error al solicitar el token de acceso:\", response.text)\n",
    "\n",
    "\n",
    "track = ''\n",
    "\n",
    "# extract data from all tracks\n",
    "def get_track_info(track):\n",
    "    url = f'https://api.spotify.com/v1/audio-features/{track}'\n",
    "    headers = {\n",
    "        'Authorization': f'Bearer {access_token}'\n",
    "    }\n",
    "    response = requests.get(url, headers=headers)\n",
    "    return response.json()\n",
    "\n"
   ]
  },
  {
   "cell_type": "markdown",
   "metadata": {},
   "source": [
    "Consumo de la API de [mockaroo](https://www.mockaroo.com/), que es una herramienta que permite generar datos de prueba en diferentes formatos, como JSON, CSV, SQL y Excel."
   ]
  },
  {
   "cell_type": "code",
   "execution_count": 2,
   "metadata": {},
   "outputs": [],
   "source": [
    "import requests\n",
    "headers = {'X-Api-Key': 'd67d54e0'}\n",
    "response = requests.get('https://my.api.mockaroo.com/mkt_data_cf.json', headers=headers)"
   ]
  },
  {
   "cell_type": "code",
   "execution_count": 3,
   "metadata": {},
   "outputs": [
    {
     "data": {
      "text/plain": [
       "[{'Fecha': '4/6/2020',\n",
       "  'Nombre de la Campaña': 'Honorable',\n",
       "  'Region': 'Australia',\n",
       "  'Clicks': 6533,\n",
       "  'Impresiones': 78913,\n",
       "  'Views': 946856,\n",
       "  'Costo': 99},\n",
       " {'Fecha': '2/3/2021',\n",
       "  'Nombre de la Campaña': 'Rev',\n",
       "  'Region': 'Africa',\n",
       "  'Clicks': 5467,\n",
       "  'Impresiones': 27498,\n",
       "  'Views': 616990,\n",
       "  'Costo': 256},\n",
       " {'Fecha': '9/21/2021',\n",
       "  'Nombre de la Campaña': 'Mr',\n",
       "  'Region': 'Africa',\n",
       "  'Clicks': 6056,\n",
       "  'Impresiones': 33352,\n",
       "  'Views': 560650,\n",
       "  'Costo': 162},\n",
       " {'Fecha': '6/15/2020',\n",
       "  'Nombre de la Campaña': 'Honorable',\n",
       "  'Region': 'Asia',\n",
       "  'Clicks': 3720,\n",
       "  'Impresiones': 95237,\n",
       "  'Views': 426874,\n",
       "  'Costo': 632},\n",
       " {'Fecha': '4/3/2022',\n",
       "  'Nombre de la Campaña': 'Dr',\n",
       "  'Region': 'South America',\n",
       "  'Clicks': 4076,\n",
       "  'Impresiones': 96455,\n",
       "  'Views': 449235,\n",
       "  'Costo': 865},\n",
       " {'Fecha': '8/7/2021',\n",
       "  'Nombre de la Campaña': 'Honorable',\n",
       "  'Region': 'Europe',\n",
       "  'Clicks': 7967,\n",
       "  'Impresiones': 72543,\n",
       "  'Views': 979497,\n",
       "  'Costo': 92},\n",
       " {'Fecha': '7/16/2021',\n",
       "  'Nombre de la Campaña': 'Honorable',\n",
       "  'Region': 'Africa',\n",
       "  'Clicks': 8228,\n",
       "  'Impresiones': 80083,\n",
       "  'Views': 73313,\n",
       "  'Costo': 978},\n",
       " {'Fecha': '5/4/2021',\n",
       "  'Nombre de la Campaña': 'Rev',\n",
       "  'Region': 'Africa',\n",
       "  'Clicks': 4313,\n",
       "  'Impresiones': 83498,\n",
       "  'Views': 914504,\n",
       "  'Costo': 865},\n",
       " {'Fecha': '1/27/2022',\n",
       "  'Nombre de la Campaña': 'Ms',\n",
       "  'Region': 'North America',\n",
       "  'Clicks': 3504,\n",
       "  'Impresiones': 63773,\n",
       "  'Views': 952178,\n",
       "  'Costo': 202},\n",
       " {'Fecha': '7/14/2022',\n",
       "  'Nombre de la Campaña': 'Mrs',\n",
       "  'Region': 'Asia',\n",
       "  'Clicks': 3170,\n",
       "  'Impresiones': 10486,\n",
       "  'Views': 952208,\n",
       "  'Costo': 42}]"
      ]
     },
     "execution_count": 3,
     "metadata": {},
     "output_type": "execute_result"
    }
   ],
   "source": [
    "response.json()"
   ]
  },
  {
   "cell_type": "markdown",
   "metadata": {},
   "source": [
    "### Pandas JSON"
   ]
  },
  {
   "cell_type": "code",
   "execution_count": 4,
   "metadata": {},
   "outputs": [],
   "source": [
    "import pandas as pd\n",
    "from io import StringIO"
   ]
  },
  {
   "cell_type": "code",
   "execution_count": 5,
   "metadata": {},
   "outputs": [
    {
     "data": {
      "text/html": [
       "<div>\n",
       "<style scoped>\n",
       "    .dataframe tbody tr th:only-of-type {\n",
       "        vertical-align: middle;\n",
       "    }\n",
       "\n",
       "    .dataframe tbody tr th {\n",
       "        vertical-align: top;\n",
       "    }\n",
       "\n",
       "    .dataframe thead th {\n",
       "        text-align: right;\n",
       "    }\n",
       "</style>\n",
       "<table border=\"1\" class=\"dataframe\">\n",
       "  <thead>\n",
       "    <tr style=\"text-align: right;\">\n",
       "      <th></th>\n",
       "      <th>Fecha</th>\n",
       "      <th>Nombre de la Campaña</th>\n",
       "      <th>Region</th>\n",
       "      <th>Clicks</th>\n",
       "      <th>Impresiones</th>\n",
       "      <th>Views</th>\n",
       "      <th>Costo</th>\n",
       "    </tr>\n",
       "  </thead>\n",
       "  <tbody>\n",
       "    <tr>\n",
       "      <th>0</th>\n",
       "      <td>4/6/2020</td>\n",
       "      <td>Honorable</td>\n",
       "      <td>Australia</td>\n",
       "      <td>6533</td>\n",
       "      <td>78913</td>\n",
       "      <td>946856</td>\n",
       "      <td>99</td>\n",
       "    </tr>\n",
       "    <tr>\n",
       "      <th>1</th>\n",
       "      <td>2/3/2021</td>\n",
       "      <td>Rev</td>\n",
       "      <td>Africa</td>\n",
       "      <td>5467</td>\n",
       "      <td>27498</td>\n",
       "      <td>616990</td>\n",
       "      <td>256</td>\n",
       "    </tr>\n",
       "    <tr>\n",
       "      <th>2</th>\n",
       "      <td>9/21/2021</td>\n",
       "      <td>Mr</td>\n",
       "      <td>Africa</td>\n",
       "      <td>6056</td>\n",
       "      <td>33352</td>\n",
       "      <td>560650</td>\n",
       "      <td>162</td>\n",
       "    </tr>\n",
       "    <tr>\n",
       "      <th>3</th>\n",
       "      <td>6/15/2020</td>\n",
       "      <td>Honorable</td>\n",
       "      <td>Asia</td>\n",
       "      <td>3720</td>\n",
       "      <td>95237</td>\n",
       "      <td>426874</td>\n",
       "      <td>632</td>\n",
       "    </tr>\n",
       "    <tr>\n",
       "      <th>4</th>\n",
       "      <td>4/3/2022</td>\n",
       "      <td>Dr</td>\n",
       "      <td>South America</td>\n",
       "      <td>4076</td>\n",
       "      <td>96455</td>\n",
       "      <td>449235</td>\n",
       "      <td>865</td>\n",
       "    </tr>\n",
       "    <tr>\n",
       "      <th>5</th>\n",
       "      <td>8/7/2021</td>\n",
       "      <td>Honorable</td>\n",
       "      <td>Europe</td>\n",
       "      <td>7967</td>\n",
       "      <td>72543</td>\n",
       "      <td>979497</td>\n",
       "      <td>92</td>\n",
       "    </tr>\n",
       "    <tr>\n",
       "      <th>6</th>\n",
       "      <td>7/16/2021</td>\n",
       "      <td>Honorable</td>\n",
       "      <td>Africa</td>\n",
       "      <td>8228</td>\n",
       "      <td>80083</td>\n",
       "      <td>73313</td>\n",
       "      <td>978</td>\n",
       "    </tr>\n",
       "    <tr>\n",
       "      <th>7</th>\n",
       "      <td>5/4/2021</td>\n",
       "      <td>Rev</td>\n",
       "      <td>Africa</td>\n",
       "      <td>4313</td>\n",
       "      <td>83498</td>\n",
       "      <td>914504</td>\n",
       "      <td>865</td>\n",
       "    </tr>\n",
       "    <tr>\n",
       "      <th>8</th>\n",
       "      <td>1/27/2022</td>\n",
       "      <td>Ms</td>\n",
       "      <td>North America</td>\n",
       "      <td>3504</td>\n",
       "      <td>63773</td>\n",
       "      <td>952178</td>\n",
       "      <td>202</td>\n",
       "    </tr>\n",
       "    <tr>\n",
       "      <th>9</th>\n",
       "      <td>7/14/2022</td>\n",
       "      <td>Mrs</td>\n",
       "      <td>Asia</td>\n",
       "      <td>3170</td>\n",
       "      <td>10486</td>\n",
       "      <td>952208</td>\n",
       "      <td>42</td>\n",
       "    </tr>\n",
       "  </tbody>\n",
       "</table>\n",
       "</div>"
      ],
      "text/plain": [
       "       Fecha Nombre de la Campaña         Region  Clicks  Impresiones   Views  \\\n",
       "0   4/6/2020            Honorable      Australia    6533        78913  946856   \n",
       "1   2/3/2021                  Rev         Africa    5467        27498  616990   \n",
       "2  9/21/2021                   Mr         Africa    6056        33352  560650   \n",
       "3  6/15/2020            Honorable           Asia    3720        95237  426874   \n",
       "4   4/3/2022                   Dr  South America    4076        96455  449235   \n",
       "5   8/7/2021            Honorable         Europe    7967        72543  979497   \n",
       "6  7/16/2021            Honorable         Africa    8228        80083   73313   \n",
       "7   5/4/2021                  Rev         Africa    4313        83498  914504   \n",
       "8  1/27/2022                   Ms  North America    3504        63773  952178   \n",
       "9  7/14/2022                  Mrs           Asia    3170        10486  952208   \n",
       "\n",
       "   Costo  \n",
       "0     99  \n",
       "1    256  \n",
       "2    162  \n",
       "3    632  \n",
       "4    865  \n",
       "5     92  \n",
       "6    978  \n",
       "7    865  \n",
       "8    202  \n",
       "9     42  "
      ]
     },
     "execution_count": 5,
     "metadata": {},
     "output_type": "execute_result"
    }
   ],
   "source": [
    "pd.read_json(StringIO(response.text))"
   ]
  },
  {
   "cell_type": "code",
   "execution_count": 6,
   "metadata": {},
   "outputs": [],
   "source": [
    "import os\n",
    "import json\n",
    "\n",
    "path_data = os.path.join(os.getcwd(), 'data') \n",
    "ejemplo1_path = os.path.join(path_data, 'ejemplo1.json')\n",
    "ejemplo2_path = os.path.join(path_data, 'ejemplo2.json')\n",
    "ejemplo3_path = os.path.join(path_data, 'ejemplo3.json')"
   ]
  },
  {
   "cell_type": "markdown",
   "metadata": {},
   "source": [
    "#### Ejemplo 1"
   ]
  },
  {
   "cell_type": "code",
   "execution_count": 7,
   "metadata": {},
   "outputs": [
    {
     "data": {
      "text/html": [
       "<div>\n",
       "<style scoped>\n",
       "    .dataframe tbody tr th:only-of-type {\n",
       "        vertical-align: middle;\n",
       "    }\n",
       "\n",
       "    .dataframe tbody tr th {\n",
       "        vertical-align: top;\n",
       "    }\n",
       "\n",
       "    .dataframe thead th {\n",
       "        text-align: right;\n",
       "    }\n",
       "</style>\n",
       "<table border=\"1\" class=\"dataframe\">\n",
       "  <thead>\n",
       "    <tr style=\"text-align: right;\">\n",
       "      <th></th>\n",
       "      <th>nombre</th>\n",
       "      <th>productos</th>\n",
       "    </tr>\n",
       "  </thead>\n",
       "  <tbody>\n",
       "    <tr>\n",
       "      <th>0</th>\n",
       "      <td>Tienda de Electrónica</td>\n",
       "      <td>{'nombre_prod': 'Laptop', 'precio': 800, 'marc...</td>\n",
       "    </tr>\n",
       "    <tr>\n",
       "      <th>1</th>\n",
       "      <td>Tienda de Electrónica</td>\n",
       "      <td>{'nombre_prod': 'Teléfono', 'precio': 500, 'ma...</td>\n",
       "    </tr>\n",
       "  </tbody>\n",
       "</table>\n",
       "</div>"
      ],
      "text/plain": [
       "                  nombre                                          productos\n",
       "0  Tienda de Electrónica  {'nombre_prod': 'Laptop', 'precio': 800, 'marc...\n",
       "1  Tienda de Electrónica  {'nombre_prod': 'Teléfono', 'precio': 500, 'ma..."
      ]
     },
     "execution_count": 7,
     "metadata": {},
     "output_type": "execute_result"
    }
   ],
   "source": [
    "pd.read_json(ejemplo1_path)"
   ]
  },
  {
   "cell_type": "markdown",
   "metadata": {},
   "source": [
    "#### json_normalize"
   ]
  },
  {
   "cell_type": "markdown",
   "metadata": {},
   "source": [
    "**¿Qué hace `pd.json_normalize`?**\n",
    "\n",
    "En esencia, esta función de Pandas toma datos JSON potencialmente complejos y anidados, y los transforma en un DataFrame plano y estructurado, que es mucho más fácil de manipular y analizar.\n",
    "\n",
    "**Desglose de los parámetros:**\n",
    "\n",
    "* `data`: Este es el JSON que contiene tus datos.\n",
    "\n",
    "* `record_path='productos'`: Aquí le estás diciendo a Pandas: \"Dentro de mi diccionario `data`, busca una lista llamada 'productos'. Cada elemento dentro de esa lista representa una fila en mi DataFrame final\".\n",
    "\n",
    "* `meta=['nombre']`:  Con esto indicas: \"Además de los datos dentro de 'productos', quiero incluir una columna adicional llamada 'nombre' en mi DataFrame. El valor de esta columna será el valor asociado a la clave 'nombre' en el nivel superior de mi diccionario `data`\".  En nuestro ejemplo, esto significa que cada fila tendrá el nombre de la tienda (\"Tienda de Electrónica\") junto con los detalles del producto.\n"
   ]
  },
  {
   "cell_type": "code",
   "execution_count": 8,
   "metadata": {},
   "outputs": [
    {
     "data": {
      "text/html": [
       "<div>\n",
       "<style scoped>\n",
       "    .dataframe tbody tr th:only-of-type {\n",
       "        vertical-align: middle;\n",
       "    }\n",
       "\n",
       "    .dataframe tbody tr th {\n",
       "        vertical-align: top;\n",
       "    }\n",
       "\n",
       "    .dataframe thead th {\n",
       "        text-align: right;\n",
       "    }\n",
       "</style>\n",
       "<table border=\"1\" class=\"dataframe\">\n",
       "  <thead>\n",
       "    <tr style=\"text-align: right;\">\n",
       "      <th></th>\n",
       "      <th>nombre_prod</th>\n",
       "      <th>precio</th>\n",
       "      <th>marca</th>\n",
       "      <th>nombre</th>\n",
       "    </tr>\n",
       "  </thead>\n",
       "  <tbody>\n",
       "    <tr>\n",
       "      <th>0</th>\n",
       "      <td>Laptop</td>\n",
       "      <td>800</td>\n",
       "      <td>Marca A</td>\n",
       "      <td>Tienda de Electrónica</td>\n",
       "    </tr>\n",
       "    <tr>\n",
       "      <th>1</th>\n",
       "      <td>Teléfono</td>\n",
       "      <td>500</td>\n",
       "      <td>Marca B</td>\n",
       "      <td>Tienda de Electrónica</td>\n",
       "    </tr>\n",
       "  </tbody>\n",
       "</table>\n",
       "</div>"
      ],
      "text/plain": [
       "  nombre_prod  precio    marca                 nombre\n",
       "0      Laptop     800  Marca A  Tienda de Electrónica\n",
       "1    Teléfono     500  Marca B  Tienda de Electrónica"
      ]
     },
     "execution_count": 8,
     "metadata": {},
     "output_type": "execute_result"
    }
   ],
   "source": [
    "data = json.load(open(ejemplo1_path))\n",
    "\n",
    "pd.json_normalize(data, record_path='productos', meta=['nombre'])"
   ]
  },
  {
   "cell_type": "markdown",
   "metadata": {},
   "source": [
    "#### Ejemplo 2"
   ]
  },
  {
   "cell_type": "code",
   "execution_count": 9,
   "metadata": {},
   "outputs": [
    {
     "data": {
      "text/html": [
       "<div>\n",
       "<style scoped>\n",
       "    .dataframe tbody tr th:only-of-type {\n",
       "        vertical-align: middle;\n",
       "    }\n",
       "\n",
       "    .dataframe tbody tr th {\n",
       "        vertical-align: top;\n",
       "    }\n",
       "\n",
       "    .dataframe thead th {\n",
       "        text-align: right;\n",
       "    }\n",
       "</style>\n",
       "<table border=\"1\" class=\"dataframe\">\n",
       "  <thead>\n",
       "    <tr style=\"text-align: right;\">\n",
       "      <th></th>\n",
       "      <th>usuario</th>\n",
       "    </tr>\n",
       "  </thead>\n",
       "  <tbody>\n",
       "    <tr>\n",
       "      <th>nombre</th>\n",
       "      <td>Juan</td>\n",
       "    </tr>\n",
       "    <tr>\n",
       "      <th>edad</th>\n",
       "      <td>30</td>\n",
       "    </tr>\n",
       "    <tr>\n",
       "      <th>direcciones</th>\n",
       "      <td>[{'calle': 'Calle Principal 123', 'ciudad': 'C...</td>\n",
       "    </tr>\n",
       "    <tr>\n",
       "      <th>compras</th>\n",
       "      <td>[{'producto': 'Libro', 'precio': 20, 'fecha': ...</td>\n",
       "    </tr>\n",
       "  </tbody>\n",
       "</table>\n",
       "</div>"
      ],
      "text/plain": [
       "                                                       usuario\n",
       "nombre                                                    Juan\n",
       "edad                                                        30\n",
       "direcciones  [{'calle': 'Calle Principal 123', 'ciudad': 'C...\n",
       "compras      [{'producto': 'Libro', 'precio': 20, 'fecha': ..."
      ]
     },
     "execution_count": 9,
     "metadata": {},
     "output_type": "execute_result"
    }
   ],
   "source": [
    "pd.read_json(ejemplo2_path)"
   ]
  },
  {
   "cell_type": "code",
   "execution_count": 10,
   "metadata": {},
   "outputs": [
    {
     "data": {
      "text/html": [
       "<div>\n",
       "<style scoped>\n",
       "    .dataframe tbody tr th:only-of-type {\n",
       "        vertical-align: middle;\n",
       "    }\n",
       "\n",
       "    .dataframe tbody tr th {\n",
       "        vertical-align: top;\n",
       "    }\n",
       "\n",
       "    .dataframe thead th {\n",
       "        text-align: right;\n",
       "    }\n",
       "</style>\n",
       "<table border=\"1\" class=\"dataframe\">\n",
       "  <thead>\n",
       "    <tr style=\"text-align: right;\">\n",
       "      <th></th>\n",
       "      <th>usuario.nombre</th>\n",
       "      <th>usuario.edad</th>\n",
       "      <th>usuario.direcciones</th>\n",
       "      <th>usuario.compras</th>\n",
       "    </tr>\n",
       "  </thead>\n",
       "  <tbody>\n",
       "    <tr>\n",
       "      <th>0</th>\n",
       "      <td>Juan</td>\n",
       "      <td>30</td>\n",
       "      <td>[{'calle': 'Calle Principal 123', 'ciudad': 'C...</td>\n",
       "      <td>[{'producto': 'Libro', 'precio': 20, 'fecha': ...</td>\n",
       "    </tr>\n",
       "  </tbody>\n",
       "</table>\n",
       "</div>"
      ],
      "text/plain": [
       "  usuario.nombre  usuario.edad  \\\n",
       "0           Juan            30   \n",
       "\n",
       "                                 usuario.direcciones  \\\n",
       "0  [{'calle': 'Calle Principal 123', 'ciudad': 'C...   \n",
       "\n",
       "                                     usuario.compras  \n",
       "0  [{'producto': 'Libro', 'precio': 20, 'fecha': ...  "
      ]
     },
     "execution_count": 10,
     "metadata": {},
     "output_type": "execute_result"
    }
   ],
   "source": [
    "data2 = json.load(open(ejemplo2_path))\n",
    "pd.json_normalize(\n",
    "    data2\n",
    "    )"
   ]
  },
  {
   "cell_type": "code",
   "execution_count": 11,
   "metadata": {},
   "outputs": [
    {
     "data": {
      "text/html": [
       "<div>\n",
       "<style scoped>\n",
       "    .dataframe tbody tr th:only-of-type {\n",
       "        vertical-align: middle;\n",
       "    }\n",
       "\n",
       "    .dataframe tbody tr th {\n",
       "        vertical-align: top;\n",
       "    }\n",
       "\n",
       "    .dataframe thead th {\n",
       "        text-align: right;\n",
       "    }\n",
       "</style>\n",
       "<table border=\"1\" class=\"dataframe\">\n",
       "  <thead>\n",
       "    <tr style=\"text-align: right;\">\n",
       "      <th></th>\n",
       "      <th>calle</th>\n",
       "      <th>ciudad</th>\n",
       "      <th>id</th>\n",
       "      <th>nombre</th>\n",
       "      <th>edad</th>\n",
       "    </tr>\n",
       "  </thead>\n",
       "  <tbody>\n",
       "    <tr>\n",
       "      <th>0</th>\n",
       "      <td>Calle Principal 123</td>\n",
       "      <td>Ciudad A</td>\n",
       "      <td>1</td>\n",
       "      <td>Juan</td>\n",
       "      <td>30</td>\n",
       "    </tr>\n",
       "    <tr>\n",
       "      <th>1</th>\n",
       "      <td>Avenida Secundaria 456</td>\n",
       "      <td>Ciudad B</td>\n",
       "      <td>2</td>\n",
       "      <td>Juan</td>\n",
       "      <td>30</td>\n",
       "    </tr>\n",
       "  </tbody>\n",
       "</table>\n",
       "</div>"
      ],
      "text/plain": [
       "                    calle    ciudad  id nombre edad\n",
       "0     Calle Principal 123  Ciudad A   1   Juan   30\n",
       "1  Avenida Secundaria 456  Ciudad B   2   Juan   30"
      ]
     },
     "execution_count": 11,
     "metadata": {},
     "output_type": "execute_result"
    }
   ],
   "source": [
    "df_direcciones = pd.json_normalize(\n",
    "    data2['usuario'],\n",
    "    record_path=['direcciones'],\n",
    "    meta=['nombre', 'edad',]\n",
    "    )\n",
    "df_direcciones"
   ]
  },
  {
   "cell_type": "code",
   "execution_count": 12,
   "metadata": {},
   "outputs": [
    {
     "data": {
      "text/html": [
       "<div>\n",
       "<style scoped>\n",
       "    .dataframe tbody tr th:only-of-type {\n",
       "        vertical-align: middle;\n",
       "    }\n",
       "\n",
       "    .dataframe tbody tr th {\n",
       "        vertical-align: top;\n",
       "    }\n",
       "\n",
       "    .dataframe thead th {\n",
       "        text-align: right;\n",
       "    }\n",
       "</style>\n",
       "<table border=\"1\" class=\"dataframe\">\n",
       "  <thead>\n",
       "    <tr style=\"text-align: right;\">\n",
       "      <th></th>\n",
       "      <th>producto</th>\n",
       "      <th>precio</th>\n",
       "      <th>fecha</th>\n",
       "      <th>id</th>\n",
       "      <th>nombre</th>\n",
       "      <th>edad</th>\n",
       "    </tr>\n",
       "  </thead>\n",
       "  <tbody>\n",
       "    <tr>\n",
       "      <th>0</th>\n",
       "      <td>Libro</td>\n",
       "      <td>20</td>\n",
       "      <td>2020-01-01</td>\n",
       "      <td>1</td>\n",
       "      <td>Juan</td>\n",
       "      <td>30</td>\n",
       "    </tr>\n",
       "    <tr>\n",
       "      <th>1</th>\n",
       "      <td>Película</td>\n",
       "      <td>15</td>\n",
       "      <td>2020-01-02</td>\n",
       "      <td>2</td>\n",
       "      <td>Juan</td>\n",
       "      <td>30</td>\n",
       "    </tr>\n",
       "  </tbody>\n",
       "</table>\n",
       "</div>"
      ],
      "text/plain": [
       "   producto  precio       fecha  id nombre edad\n",
       "0     Libro      20  2020-01-01   1   Juan   30\n",
       "1  Película      15  2020-01-02   2   Juan   30"
      ]
     },
     "execution_count": 12,
     "metadata": {},
     "output_type": "execute_result"
    }
   ],
   "source": [
    "df_compras = pd.json_normalize(\n",
    "    data2['usuario'],\n",
    "    record_path=['compras'],\n",
    "    meta=['nombre', 'edad',]\n",
    "    )\n",
    "df_compras"
   ]
  },
  {
   "cell_type": "markdown",
   "metadata": {},
   "source": [
    "#### Ejemplo 3"
   ]
  },
  {
   "cell_type": "code",
   "execution_count": 13,
   "metadata": {},
   "outputs": [
    {
     "data": {
      "text/html": [
       "<div>\n",
       "<style scoped>\n",
       "    .dataframe tbody tr th:only-of-type {\n",
       "        vertical-align: middle;\n",
       "    }\n",
       "\n",
       "    .dataframe tbody tr th {\n",
       "        vertical-align: top;\n",
       "    }\n",
       "\n",
       "    .dataframe thead th {\n",
       "        text-align: right;\n",
       "    }\n",
       "</style>\n",
       "<table border=\"1\" class=\"dataframe\">\n",
       "  <thead>\n",
       "    <tr style=\"text-align: right;\">\n",
       "      <th></th>\n",
       "      <th>escuela</th>\n",
       "    </tr>\n",
       "  </thead>\n",
       "  <tbody>\n",
       "    <tr>\n",
       "      <th>nombre</th>\n",
       "      <td>Escuela Primaria</td>\n",
       "    </tr>\n",
       "    <tr>\n",
       "      <th>grados</th>\n",
       "      <td>[{'nombre': 'Primer Grado', 'alumnos': [{'nomb...</td>\n",
       "    </tr>\n",
       "  </tbody>\n",
       "</table>\n",
       "</div>"
      ],
      "text/plain": [
       "                                                  escuela\n",
       "nombre                                   Escuela Primaria\n",
       "grados  [{'nombre': 'Primer Grado', 'alumnos': [{'nomb..."
      ]
     },
     "execution_count": 13,
     "metadata": {},
     "output_type": "execute_result"
    }
   ],
   "source": [
    "pd.read_json(ejemplo3_path)"
   ]
  },
  {
   "cell_type": "code",
   "execution_count": 14,
   "metadata": {},
   "outputs": [
    {
     "data": {
      "text/html": [
       "<div>\n",
       "<style scoped>\n",
       "    .dataframe tbody tr th:only-of-type {\n",
       "        vertical-align: middle;\n",
       "    }\n",
       "\n",
       "    .dataframe tbody tr th {\n",
       "        vertical-align: top;\n",
       "    }\n",
       "\n",
       "    .dataframe thead th {\n",
       "        text-align: right;\n",
       "    }\n",
       "</style>\n",
       "<table border=\"1\" class=\"dataframe\">\n",
       "  <thead>\n",
       "    <tr style=\"text-align: right;\">\n",
       "      <th></th>\n",
       "      <th>nombre</th>\n",
       "      <th>grados</th>\n",
       "    </tr>\n",
       "  </thead>\n",
       "  <tbody>\n",
       "    <tr>\n",
       "      <th>0</th>\n",
       "      <td>Escuela Primaria</td>\n",
       "      <td>[{'nombre': 'Primer Grado', 'alumnos': [{'nomb...</td>\n",
       "    </tr>\n",
       "  </tbody>\n",
       "</table>\n",
       "</div>"
      ],
      "text/plain": [
       "             nombre                                             grados\n",
       "0  Escuela Primaria  [{'nombre': 'Primer Grado', 'alumnos': [{'nomb..."
      ]
     },
     "execution_count": 14,
     "metadata": {},
     "output_type": "execute_result"
    }
   ],
   "source": [
    "data3 = json.load(open(ejemplo3_path))\n",
    "pd.json_normalize(\n",
    "    data3['escuela'],)"
   ]
  },
  {
   "cell_type": "code",
   "execution_count": 15,
   "metadata": {},
   "outputs": [
    {
     "data": {
      "text/html": [
       "<div>\n",
       "<style scoped>\n",
       "    .dataframe tbody tr th:only-of-type {\n",
       "        vertical-align: middle;\n",
       "    }\n",
       "\n",
       "    .dataframe tbody tr th {\n",
       "        vertical-align: top;\n",
       "    }\n",
       "\n",
       "    .dataframe thead th {\n",
       "        text-align: right;\n",
       "    }\n",
       "</style>\n",
       "<table border=\"1\" class=\"dataframe\">\n",
       "  <thead>\n",
       "    <tr style=\"text-align: right;\">\n",
       "      <th></th>\n",
       "      <th>nombre</th>\n",
       "      <th>edad</th>\n",
       "      <th>grado_nombre</th>\n",
       "    </tr>\n",
       "  </thead>\n",
       "  <tbody>\n",
       "    <tr>\n",
       "      <th>0</th>\n",
       "      <td>Ana</td>\n",
       "      <td>6</td>\n",
       "      <td>Primer Grado</td>\n",
       "    </tr>\n",
       "    <tr>\n",
       "      <th>1</th>\n",
       "      <td>Pedro</td>\n",
       "      <td>7</td>\n",
       "      <td>Primer Grado</td>\n",
       "    </tr>\n",
       "    <tr>\n",
       "      <th>2</th>\n",
       "      <td>María</td>\n",
       "      <td>7</td>\n",
       "      <td>Segundo Grado</td>\n",
       "    </tr>\n",
       "    <tr>\n",
       "      <th>3</th>\n",
       "      <td>Luis</td>\n",
       "      <td>8</td>\n",
       "      <td>Segundo Grado</td>\n",
       "    </tr>\n",
       "  </tbody>\n",
       "</table>\n",
       "</div>"
      ],
      "text/plain": [
       "  nombre  edad   grado_nombre\n",
       "0    Ana     6   Primer Grado\n",
       "1  Pedro     7   Primer Grado\n",
       "2  María     7  Segundo Grado\n",
       "3   Luis     8  Segundo Grado"
      ]
     },
     "execution_count": 15,
     "metadata": {},
     "output_type": "execute_result"
    }
   ],
   "source": [
    "pd.json_normalize(\n",
    "    data3['escuela']['grados'],\n",
    "        record_path='alumnos',\n",
    "        meta=['nombre'],\n",
    "        meta_prefix='grado_'\n",
    ")"
   ]
  },
  {
   "cell_type": "code",
   "execution_count": null,
   "metadata": {},
   "outputs": [],
   "source": []
  }
 ],
 "metadata": {
  "kernelspec": {
   "display_name": "tch_cf_etl_env",
   "language": "python",
   "name": "python3"
  },
  "language_info": {
   "codemirror_mode": {
    "name": "ipython",
    "version": 3
   },
   "file_extension": ".py",
   "mimetype": "text/x-python",
   "name": "python",
   "nbconvert_exporter": "python",
   "pygments_lexer": "ipython3",
   "version": "3.12.3"
  }
 },
 "nbformat": 4,
 "nbformat_minor": 2
}
