{
 "cells": [
  {
   "cell_type": "markdown",
   "metadata": {},
   "source": [
    "# Extracción de datos desde APIs con Python\n"
   ]
  },
  {
   "cell_type": "markdown",
   "metadata": {},
   "source": [
    "## Conceptos básicos de APIs REST y consumo de APIs en Python"
   ]
  },
  {
   "cell_type": "markdown",
   "metadata": {},
   "source": [
    "### ¿Qué son las API?\n",
    "\n",
    "- Son un conjuntos de reglas y protocolos que permiten a diferentes aplicaciones comunicarse entre sí. \n",
    "- Se utilizan para acceder a datos de servicios web, aplicaciones en la nube, redes sociales, entre otros. \n",
    "- Proporcionan una forma estructurada y segura de obtener datos de sistemas externos."
   ]
  },
  {
   "cell_type": "markdown",
   "metadata": {},
   "source": [
    "![API](../Images/API.png)"
   ]
  },
  {
   "cell_type": "markdown",
   "metadata": {},
   "source": [
    "## Extracción de datos JSON desde APIs públicas y privadas"
   ]
  },
  {
   "cell_type": "markdown",
   "metadata": {},
   "source": [
    "Consumo de la API de [mockaroo](https://www.mockaroo.com/), que es una herramienta que permite generar datos de prueba en diferentes formatos, como JSON, CSV, SQL y Excel."
   ]
  },
  {
   "cell_type": "code",
   "execution_count": 3,
   "metadata": {},
   "outputs": [],
   "source": [
    "import requests\n",
    "headers = {'X-Api-Key': 'd67d54e0'}\n",
    "response = requests.get('https://my.api.mockaroo.com/mkt_data_cf.json', headers=headers)"
   ]
  },
  {
   "cell_type": "code",
   "execution_count": 9,
   "metadata": {},
   "outputs": [
    {
     "data": {
      "text/plain": [
       "[{'Fecha': '8/20/2020',\n",
       "  'Nombre de la Campaña': 'Rev',\n",
       "  'Region': 'Africa',\n",
       "  'Clicks': 2975,\n",
       "  'Impresiones': 87782,\n",
       "  'Views': 692418,\n",
       "  'Costo': 357},\n",
       " {'Fecha': '1/16/2020',\n",
       "  'Nombre de la Campaña': 'Rev',\n",
       "  'Region': 'Europe',\n",
       "  'Clicks': 5769,\n",
       "  'Impresiones': 31442,\n",
       "  'Views': 64834,\n",
       "  'Costo': 290},\n",
       " {'Fecha': '7/8/2020',\n",
       "  'Nombre de la Campaña': 'Dr',\n",
       "  'Region': 'North America',\n",
       "  'Clicks': 6125,\n",
       "  'Impresiones': 31220,\n",
       "  'Views': 67623,\n",
       "  'Costo': 994},\n",
       " {'Fecha': '8/10/2021',\n",
       "  'Nombre de la Campaña': 'Dr',\n",
       "  'Region': 'South America',\n",
       "  'Clicks': 3001,\n",
       "  'Impresiones': 51496,\n",
       "  'Views': 155248,\n",
       "  'Costo': 533},\n",
       " {'Fecha': '4/24/2021',\n",
       "  'Nombre de la Campaña': 'Honorable',\n",
       "  'Region': 'Europe',\n",
       "  'Clicks': 6985,\n",
       "  'Impresiones': 36576,\n",
       "  'Views': 980070,\n",
       "  'Costo': 923},\n",
       " {'Fecha': '5/7/2022',\n",
       "  'Nombre de la Campaña': 'Ms',\n",
       "  'Region': 'Africa',\n",
       "  'Clicks': 5229,\n",
       "  'Impresiones': 10852,\n",
       "  'Views': 608811,\n",
       "  'Costo': 600},\n",
       " {'Fecha': '12/31/2020',\n",
       "  'Nombre de la Campaña': 'Honorable',\n",
       "  'Region': 'South America',\n",
       "  'Clicks': 9728,\n",
       "  'Impresiones': 82941,\n",
       "  'Views': 518395,\n",
       "  'Costo': 431},\n",
       " {'Fecha': '10/20/2022',\n",
       "  'Nombre de la Campaña': 'Mrs',\n",
       "  'Region': 'Europe',\n",
       "  'Clicks': 8976,\n",
       "  'Impresiones': 40852,\n",
       "  'Views': 672668,\n",
       "  'Costo': 975},\n",
       " {'Fecha': '6/4/2022',\n",
       "  'Nombre de la Campaña': 'Mrs',\n",
       "  'Region': 'Australia',\n",
       "  'Clicks': 291,\n",
       "  'Impresiones': 60266,\n",
       "  'Views': 72736,\n",
       "  'Costo': 920},\n",
       " {'Fecha': '11/21/2021',\n",
       "  'Nombre de la Campaña': 'Rev',\n",
       "  'Region': 'Africa',\n",
       "  'Clicks': 7722,\n",
       "  'Impresiones': 92893,\n",
       "  'Views': 501754,\n",
       "  'Costo': 24}]"
      ]
     },
     "execution_count": 9,
     "metadata": {},
     "output_type": "execute_result"
    }
   ],
   "source": [
    "response.json()"
   ]
  },
  {
   "cell_type": "markdown",
   "metadata": {},
   "source": [
    "### Pandas JSON"
   ]
  },
  {
   "cell_type": "code",
   "execution_count": 13,
   "metadata": {},
   "outputs": [],
   "source": [
    "import pandas as pd\n",
    "from io import StringIO"
   ]
  },
  {
   "cell_type": "code",
   "execution_count": 14,
   "metadata": {},
   "outputs": [
    {
     "data": {
      "text/html": [
       "<div>\n",
       "<style scoped>\n",
       "    .dataframe tbody tr th:only-of-type {\n",
       "        vertical-align: middle;\n",
       "    }\n",
       "\n",
       "    .dataframe tbody tr th {\n",
       "        vertical-align: top;\n",
       "    }\n",
       "\n",
       "    .dataframe thead th {\n",
       "        text-align: right;\n",
       "    }\n",
       "</style>\n",
       "<table border=\"1\" class=\"dataframe\">\n",
       "  <thead>\n",
       "    <tr style=\"text-align: right;\">\n",
       "      <th></th>\n",
       "      <th>Fecha</th>\n",
       "      <th>Nombre de la Campaña</th>\n",
       "      <th>Region</th>\n",
       "      <th>Clicks</th>\n",
       "      <th>Impresiones</th>\n",
       "      <th>Views</th>\n",
       "      <th>Costo</th>\n",
       "    </tr>\n",
       "  </thead>\n",
       "  <tbody>\n",
       "    <tr>\n",
       "      <th>0</th>\n",
       "      <td>8/20/2020</td>\n",
       "      <td>Rev</td>\n",
       "      <td>Africa</td>\n",
       "      <td>2975</td>\n",
       "      <td>87782</td>\n",
       "      <td>692418</td>\n",
       "      <td>357</td>\n",
       "    </tr>\n",
       "    <tr>\n",
       "      <th>1</th>\n",
       "      <td>1/16/2020</td>\n",
       "      <td>Rev</td>\n",
       "      <td>Europe</td>\n",
       "      <td>5769</td>\n",
       "      <td>31442</td>\n",
       "      <td>64834</td>\n",
       "      <td>290</td>\n",
       "    </tr>\n",
       "    <tr>\n",
       "      <th>2</th>\n",
       "      <td>7/8/2020</td>\n",
       "      <td>Dr</td>\n",
       "      <td>North America</td>\n",
       "      <td>6125</td>\n",
       "      <td>31220</td>\n",
       "      <td>67623</td>\n",
       "      <td>994</td>\n",
       "    </tr>\n",
       "    <tr>\n",
       "      <th>3</th>\n",
       "      <td>8/10/2021</td>\n",
       "      <td>Dr</td>\n",
       "      <td>South America</td>\n",
       "      <td>3001</td>\n",
       "      <td>51496</td>\n",
       "      <td>155248</td>\n",
       "      <td>533</td>\n",
       "    </tr>\n",
       "    <tr>\n",
       "      <th>4</th>\n",
       "      <td>4/24/2021</td>\n",
       "      <td>Honorable</td>\n",
       "      <td>Europe</td>\n",
       "      <td>6985</td>\n",
       "      <td>36576</td>\n",
       "      <td>980070</td>\n",
       "      <td>923</td>\n",
       "    </tr>\n",
       "    <tr>\n",
       "      <th>5</th>\n",
       "      <td>5/7/2022</td>\n",
       "      <td>Ms</td>\n",
       "      <td>Africa</td>\n",
       "      <td>5229</td>\n",
       "      <td>10852</td>\n",
       "      <td>608811</td>\n",
       "      <td>600</td>\n",
       "    </tr>\n",
       "    <tr>\n",
       "      <th>6</th>\n",
       "      <td>12/31/2020</td>\n",
       "      <td>Honorable</td>\n",
       "      <td>South America</td>\n",
       "      <td>9728</td>\n",
       "      <td>82941</td>\n",
       "      <td>518395</td>\n",
       "      <td>431</td>\n",
       "    </tr>\n",
       "    <tr>\n",
       "      <th>7</th>\n",
       "      <td>10/20/2022</td>\n",
       "      <td>Mrs</td>\n",
       "      <td>Europe</td>\n",
       "      <td>8976</td>\n",
       "      <td>40852</td>\n",
       "      <td>672668</td>\n",
       "      <td>975</td>\n",
       "    </tr>\n",
       "    <tr>\n",
       "      <th>8</th>\n",
       "      <td>6/4/2022</td>\n",
       "      <td>Mrs</td>\n",
       "      <td>Australia</td>\n",
       "      <td>291</td>\n",
       "      <td>60266</td>\n",
       "      <td>72736</td>\n",
       "      <td>920</td>\n",
       "    </tr>\n",
       "    <tr>\n",
       "      <th>9</th>\n",
       "      <td>11/21/2021</td>\n",
       "      <td>Rev</td>\n",
       "      <td>Africa</td>\n",
       "      <td>7722</td>\n",
       "      <td>92893</td>\n",
       "      <td>501754</td>\n",
       "      <td>24</td>\n",
       "    </tr>\n",
       "  </tbody>\n",
       "</table>\n",
       "</div>"
      ],
      "text/plain": [
       "        Fecha Nombre de la Campaña         Region  Clicks  Impresiones  \\\n",
       "0   8/20/2020                  Rev         Africa    2975        87782   \n",
       "1   1/16/2020                  Rev         Europe    5769        31442   \n",
       "2    7/8/2020                   Dr  North America    6125        31220   \n",
       "3   8/10/2021                   Dr  South America    3001        51496   \n",
       "4   4/24/2021            Honorable         Europe    6985        36576   \n",
       "5    5/7/2022                   Ms         Africa    5229        10852   \n",
       "6  12/31/2020            Honorable  South America    9728        82941   \n",
       "7  10/20/2022                  Mrs         Europe    8976        40852   \n",
       "8    6/4/2022                  Mrs      Australia     291        60266   \n",
       "9  11/21/2021                  Rev         Africa    7722        92893   \n",
       "\n",
       "    Views  Costo  \n",
       "0  692418    357  \n",
       "1   64834    290  \n",
       "2   67623    994  \n",
       "3  155248    533  \n",
       "4  980070    923  \n",
       "5  608811    600  \n",
       "6  518395    431  \n",
       "7  672668    975  \n",
       "8   72736    920  \n",
       "9  501754     24  "
      ]
     },
     "execution_count": 14,
     "metadata": {},
     "output_type": "execute_result"
    }
   ],
   "source": [
    "pd.read_json(StringIO(response.text))"
   ]
  },
  {
   "cell_type": "code",
   "execution_count": 73,
   "metadata": {},
   "outputs": [],
   "source": [
    "import os\n",
    "import json\n",
    "\n",
    "path_data = os.path.join(os.getcwd(), 'data') \n",
    "ejemplo1_path = os.path.join(path_data, 'ejemplo1.json')\n",
    "ejemplo2_path = os.path.join(path_data, 'ejemplo2.json')\n",
    "ejemplo3_path = os.path.join(path_data, 'ejemplo3.json')"
   ]
  },
  {
   "cell_type": "markdown",
   "metadata": {},
   "source": [
    "#### Ejemplo 1"
   ]
  },
  {
   "cell_type": "code",
   "execution_count": 32,
   "metadata": {},
   "outputs": [
    {
     "data": {
      "text/html": [
       "<div>\n",
       "<style scoped>\n",
       "    .dataframe tbody tr th:only-of-type {\n",
       "        vertical-align: middle;\n",
       "    }\n",
       "\n",
       "    .dataframe tbody tr th {\n",
       "        vertical-align: top;\n",
       "    }\n",
       "\n",
       "    .dataframe thead th {\n",
       "        text-align: right;\n",
       "    }\n",
       "</style>\n",
       "<table border=\"1\" class=\"dataframe\">\n",
       "  <thead>\n",
       "    <tr style=\"text-align: right;\">\n",
       "      <th></th>\n",
       "      <th>nombre</th>\n",
       "      <th>productos</th>\n",
       "    </tr>\n",
       "  </thead>\n",
       "  <tbody>\n",
       "    <tr>\n",
       "      <th>0</th>\n",
       "      <td>Tienda de Electrónica</td>\n",
       "      <td>{'nombre_prod': 'Laptop', 'precio': 800, 'marc...</td>\n",
       "    </tr>\n",
       "    <tr>\n",
       "      <th>1</th>\n",
       "      <td>Tienda de Electrónica</td>\n",
       "      <td>{'nombre_prod': 'Teléfono', 'precio': 500, 'ma...</td>\n",
       "    </tr>\n",
       "  </tbody>\n",
       "</table>\n",
       "</div>"
      ],
      "text/plain": [
       "                  nombre                                          productos\n",
       "0  Tienda de Electrónica  {'nombre_prod': 'Laptop', 'precio': 800, 'marc...\n",
       "1  Tienda de Electrónica  {'nombre_prod': 'Teléfono', 'precio': 500, 'ma..."
      ]
     },
     "execution_count": 32,
     "metadata": {},
     "output_type": "execute_result"
    }
   ],
   "source": [
    "pd.read_json(ejemplo1_path)"
   ]
  },
  {
   "cell_type": "markdown",
   "metadata": {},
   "source": [
    "#### json_normalize"
   ]
  },
  {
   "cell_type": "markdown",
   "metadata": {},
   "source": [
    "**¿Qué hace `pd.json_normalize`?**\n",
    "\n",
    "En esencia, esta función de Pandas toma datos JSON potencialmente complejos y anidados, y los transforma en un DataFrame plano y estructurado, que es mucho más fácil de manipular y analizar.\n",
    "\n",
    "**Desglose de los parámetros:**\n",
    "\n",
    "* `data`: Este es el JSON que contiene tus datos.\n",
    "\n",
    "* `record_path='productos'`: Aquí le estás diciendo a Pandas: \"Dentro de mi diccionario `data`, busca una lista llamada 'productos'. Cada elemento dentro de esa lista representa una fila en mi DataFrame final\".\n",
    "\n",
    "* `meta=['nombre']`:  Con esto indicas: \"Además de los datos dentro de 'productos', quiero incluir una columna adicional llamada 'nombre' en mi DataFrame. El valor de esta columna será el valor asociado a la clave 'nombre' en el nivel superior de mi diccionario `data`\".  En nuestro ejemplo, esto significa que cada fila tendrá el nombre de la tienda (\"Tienda de Electrónica\") junto con los detalles del producto.\n"
   ]
  },
  {
   "cell_type": "code",
   "execution_count": 35,
   "metadata": {},
   "outputs": [
    {
     "data": {
      "text/html": [
       "<div>\n",
       "<style scoped>\n",
       "    .dataframe tbody tr th:only-of-type {\n",
       "        vertical-align: middle;\n",
       "    }\n",
       "\n",
       "    .dataframe tbody tr th {\n",
       "        vertical-align: top;\n",
       "    }\n",
       "\n",
       "    .dataframe thead th {\n",
       "        text-align: right;\n",
       "    }\n",
       "</style>\n",
       "<table border=\"1\" class=\"dataframe\">\n",
       "  <thead>\n",
       "    <tr style=\"text-align: right;\">\n",
       "      <th></th>\n",
       "      <th>nombre_prod</th>\n",
       "      <th>precio</th>\n",
       "      <th>marca</th>\n",
       "      <th>nombre</th>\n",
       "    </tr>\n",
       "  </thead>\n",
       "  <tbody>\n",
       "    <tr>\n",
       "      <th>0</th>\n",
       "      <td>Laptop</td>\n",
       "      <td>800</td>\n",
       "      <td>Marca A</td>\n",
       "      <td>Tienda de Electrónica</td>\n",
       "    </tr>\n",
       "    <tr>\n",
       "      <th>1</th>\n",
       "      <td>Teléfono</td>\n",
       "      <td>500</td>\n",
       "      <td>Marca B</td>\n",
       "      <td>Tienda de Electrónica</td>\n",
       "    </tr>\n",
       "  </tbody>\n",
       "</table>\n",
       "</div>"
      ],
      "text/plain": [
       "  nombre_prod  precio    marca                 nombre\n",
       "0      Laptop     800  Marca A  Tienda de Electrónica\n",
       "1    Teléfono     500  Marca B  Tienda de Electrónica"
      ]
     },
     "execution_count": 35,
     "metadata": {},
     "output_type": "execute_result"
    }
   ],
   "source": [
    "data = json.load(open(ejemplo1_path))\n",
    "\n",
    "pd.json_normalize(data, record_path='productos', meta=['nombre'])"
   ]
  },
  {
   "cell_type": "markdown",
   "metadata": {},
   "source": [
    "#### Ejemplo 2"
   ]
  },
  {
   "cell_type": "code",
   "execution_count": 42,
   "metadata": {},
   "outputs": [
    {
     "data": {
      "text/html": [
       "<div>\n",
       "<style scoped>\n",
       "    .dataframe tbody tr th:only-of-type {\n",
       "        vertical-align: middle;\n",
       "    }\n",
       "\n",
       "    .dataframe tbody tr th {\n",
       "        vertical-align: top;\n",
       "    }\n",
       "\n",
       "    .dataframe thead th {\n",
       "        text-align: right;\n",
       "    }\n",
       "</style>\n",
       "<table border=\"1\" class=\"dataframe\">\n",
       "  <thead>\n",
       "    <tr style=\"text-align: right;\">\n",
       "      <th></th>\n",
       "      <th>usuario</th>\n",
       "    </tr>\n",
       "  </thead>\n",
       "  <tbody>\n",
       "    <tr>\n",
       "      <th>nombre</th>\n",
       "      <td>Juan</td>\n",
       "    </tr>\n",
       "    <tr>\n",
       "      <th>edad</th>\n",
       "      <td>30</td>\n",
       "    </tr>\n",
       "    <tr>\n",
       "      <th>direcciones</th>\n",
       "      <td>[{'calle': 'Calle Principal 123', 'ciudad': 'C...</td>\n",
       "    </tr>\n",
       "    <tr>\n",
       "      <th>compras</th>\n",
       "      <td>[{'producto': 'Libro', 'precio': 20}, {'produc...</td>\n",
       "    </tr>\n",
       "  </tbody>\n",
       "</table>\n",
       "</div>"
      ],
      "text/plain": [
       "                                                       usuario\n",
       "nombre                                                    Juan\n",
       "edad                                                        30\n",
       "direcciones  [{'calle': 'Calle Principal 123', 'ciudad': 'C...\n",
       "compras      [{'producto': 'Libro', 'precio': 20}, {'produc..."
      ]
     },
     "execution_count": 42,
     "metadata": {},
     "output_type": "execute_result"
    }
   ],
   "source": [
    "pd.read_json(ejemplo2_path)"
   ]
  },
  {
   "cell_type": "code",
   "execution_count": 74,
   "metadata": {},
   "outputs": [
    {
     "data": {
      "text/html": [
       "<div>\n",
       "<style scoped>\n",
       "    .dataframe tbody tr th:only-of-type {\n",
       "        vertical-align: middle;\n",
       "    }\n",
       "\n",
       "    .dataframe tbody tr th {\n",
       "        vertical-align: top;\n",
       "    }\n",
       "\n",
       "    .dataframe thead th {\n",
       "        text-align: right;\n",
       "    }\n",
       "</style>\n",
       "<table border=\"1\" class=\"dataframe\">\n",
       "  <thead>\n",
       "    <tr style=\"text-align: right;\">\n",
       "      <th></th>\n",
       "      <th>usuario.nombre</th>\n",
       "      <th>usuario.edad</th>\n",
       "      <th>usuario.direcciones</th>\n",
       "      <th>usuario.compras</th>\n",
       "    </tr>\n",
       "  </thead>\n",
       "  <tbody>\n",
       "    <tr>\n",
       "      <th>0</th>\n",
       "      <td>Juan</td>\n",
       "      <td>30</td>\n",
       "      <td>[{'calle': 'Calle Principal 123', 'ciudad': 'C...</td>\n",
       "      <td>[{'producto': 'Libro', 'precio': 20, 'fecha': ...</td>\n",
       "    </tr>\n",
       "  </tbody>\n",
       "</table>\n",
       "</div>"
      ],
      "text/plain": [
       "  usuario.nombre  usuario.edad  \\\n",
       "0           Juan            30   \n",
       "\n",
       "                                 usuario.direcciones  \\\n",
       "0  [{'calle': 'Calle Principal 123', 'ciudad': 'C...   \n",
       "\n",
       "                                     usuario.compras  \n",
       "0  [{'producto': 'Libro', 'precio': 20, 'fecha': ...  "
      ]
     },
     "execution_count": 74,
     "metadata": {},
     "output_type": "execute_result"
    }
   ],
   "source": [
    "data2 = json.load(open(ejemplo2_path))\n",
    "pd.json_normalize(\n",
    "    data2\n",
    "    )"
   ]
  },
  {
   "cell_type": "code",
   "execution_count": 75,
   "metadata": {},
   "outputs": [
    {
     "data": {
      "text/html": [
       "<div>\n",
       "<style scoped>\n",
       "    .dataframe tbody tr th:only-of-type {\n",
       "        vertical-align: middle;\n",
       "    }\n",
       "\n",
       "    .dataframe tbody tr th {\n",
       "        vertical-align: top;\n",
       "    }\n",
       "\n",
       "    .dataframe thead th {\n",
       "        text-align: right;\n",
       "    }\n",
       "</style>\n",
       "<table border=\"1\" class=\"dataframe\">\n",
       "  <thead>\n",
       "    <tr style=\"text-align: right;\">\n",
       "      <th></th>\n",
       "      <th>calle</th>\n",
       "      <th>ciudad</th>\n",
       "      <th>id</th>\n",
       "      <th>nombre</th>\n",
       "      <th>edad</th>\n",
       "    </tr>\n",
       "  </thead>\n",
       "  <tbody>\n",
       "    <tr>\n",
       "      <th>0</th>\n",
       "      <td>Calle Principal 123</td>\n",
       "      <td>Ciudad A</td>\n",
       "      <td>1</td>\n",
       "      <td>Juan</td>\n",
       "      <td>30</td>\n",
       "    </tr>\n",
       "    <tr>\n",
       "      <th>1</th>\n",
       "      <td>Avenida Secundaria 456</td>\n",
       "      <td>Ciudad B</td>\n",
       "      <td>2</td>\n",
       "      <td>Juan</td>\n",
       "      <td>30</td>\n",
       "    </tr>\n",
       "  </tbody>\n",
       "</table>\n",
       "</div>"
      ],
      "text/plain": [
       "                    calle    ciudad  id nombre edad\n",
       "0     Calle Principal 123  Ciudad A   1   Juan   30\n",
       "1  Avenida Secundaria 456  Ciudad B   2   Juan   30"
      ]
     },
     "execution_count": 75,
     "metadata": {},
     "output_type": "execute_result"
    }
   ],
   "source": [
    "df_direcciones = pd.json_normalize(\n",
    "    data2['usuario'],\n",
    "    record_path=['direcciones'],\n",
    "    meta=['nombre', 'edad',]\n",
    "    )\n",
    "df_direcciones"
   ]
  },
  {
   "cell_type": "code",
   "execution_count": 76,
   "metadata": {},
   "outputs": [
    {
     "data": {
      "text/html": [
       "<div>\n",
       "<style scoped>\n",
       "    .dataframe tbody tr th:only-of-type {\n",
       "        vertical-align: middle;\n",
       "    }\n",
       "\n",
       "    .dataframe tbody tr th {\n",
       "        vertical-align: top;\n",
       "    }\n",
       "\n",
       "    .dataframe thead th {\n",
       "        text-align: right;\n",
       "    }\n",
       "</style>\n",
       "<table border=\"1\" class=\"dataframe\">\n",
       "  <thead>\n",
       "    <tr style=\"text-align: right;\">\n",
       "      <th></th>\n",
       "      <th>producto</th>\n",
       "      <th>precio</th>\n",
       "      <th>fecha</th>\n",
       "      <th>id</th>\n",
       "      <th>nombre</th>\n",
       "      <th>edad</th>\n",
       "    </tr>\n",
       "  </thead>\n",
       "  <tbody>\n",
       "    <tr>\n",
       "      <th>0</th>\n",
       "      <td>Libro</td>\n",
       "      <td>20</td>\n",
       "      <td>2020-01-01</td>\n",
       "      <td>1</td>\n",
       "      <td>Juan</td>\n",
       "      <td>30</td>\n",
       "    </tr>\n",
       "    <tr>\n",
       "      <th>1</th>\n",
       "      <td>Película</td>\n",
       "      <td>15</td>\n",
       "      <td>2020-01-02</td>\n",
       "      <td>2</td>\n",
       "      <td>Juan</td>\n",
       "      <td>30</td>\n",
       "    </tr>\n",
       "  </tbody>\n",
       "</table>\n",
       "</div>"
      ],
      "text/plain": [
       "   producto  precio       fecha  id nombre edad\n",
       "0     Libro      20  2020-01-01   1   Juan   30\n",
       "1  Película      15  2020-01-02   2   Juan   30"
      ]
     },
     "execution_count": 76,
     "metadata": {},
     "output_type": "execute_result"
    }
   ],
   "source": [
    "df_compras = pd.json_normalize(\n",
    "    data2['usuario'],\n",
    "    record_path=['compras'],\n",
    "    meta=['nombre', 'edad',]\n",
    "    )\n",
    "df_compras"
   ]
  },
  {
   "cell_type": "markdown",
   "metadata": {},
   "source": [
    "#### Ejemplo 3"
   ]
  },
  {
   "cell_type": "code",
   "execution_count": 77,
   "metadata": {},
   "outputs": [
    {
     "data": {
      "text/html": [
       "<div>\n",
       "<style scoped>\n",
       "    .dataframe tbody tr th:only-of-type {\n",
       "        vertical-align: middle;\n",
       "    }\n",
       "\n",
       "    .dataframe tbody tr th {\n",
       "        vertical-align: top;\n",
       "    }\n",
       "\n",
       "    .dataframe thead th {\n",
       "        text-align: right;\n",
       "    }\n",
       "</style>\n",
       "<table border=\"1\" class=\"dataframe\">\n",
       "  <thead>\n",
       "    <tr style=\"text-align: right;\">\n",
       "      <th></th>\n",
       "      <th>escuela</th>\n",
       "    </tr>\n",
       "  </thead>\n",
       "  <tbody>\n",
       "    <tr>\n",
       "      <th>nombre</th>\n",
       "      <td>Escuela Primaria</td>\n",
       "    </tr>\n",
       "    <tr>\n",
       "      <th>grados</th>\n",
       "      <td>[{'nombre': 'Primer Grado', 'alumnos': [{'nomb...</td>\n",
       "    </tr>\n",
       "  </tbody>\n",
       "</table>\n",
       "</div>"
      ],
      "text/plain": [
       "                                                  escuela\n",
       "nombre                                   Escuela Primaria\n",
       "grados  [{'nombre': 'Primer Grado', 'alumnos': [{'nomb..."
      ]
     },
     "execution_count": 77,
     "metadata": {},
     "output_type": "execute_result"
    }
   ],
   "source": [
    "pd.read_json(ejemplo3_path)"
   ]
  },
  {
   "cell_type": "code",
   "execution_count": 87,
   "metadata": {},
   "outputs": [
    {
     "data": {
      "text/html": [
       "<div>\n",
       "<style scoped>\n",
       "    .dataframe tbody tr th:only-of-type {\n",
       "        vertical-align: middle;\n",
       "    }\n",
       "\n",
       "    .dataframe tbody tr th {\n",
       "        vertical-align: top;\n",
       "    }\n",
       "\n",
       "    .dataframe thead th {\n",
       "        text-align: right;\n",
       "    }\n",
       "</style>\n",
       "<table border=\"1\" class=\"dataframe\">\n",
       "  <thead>\n",
       "    <tr style=\"text-align: right;\">\n",
       "      <th></th>\n",
       "      <th>nombre</th>\n",
       "      <th>grados</th>\n",
       "    </tr>\n",
       "  </thead>\n",
       "  <tbody>\n",
       "    <tr>\n",
       "      <th>0</th>\n",
       "      <td>Escuela Primaria</td>\n",
       "      <td>[{'nombre': 'Primer Grado', 'alumnos': [{'nomb...</td>\n",
       "    </tr>\n",
       "  </tbody>\n",
       "</table>\n",
       "</div>"
      ],
      "text/plain": [
       "             nombre                                             grados\n",
       "0  Escuela Primaria  [{'nombre': 'Primer Grado', 'alumnos': [{'nomb..."
      ]
     },
     "execution_count": 87,
     "metadata": {},
     "output_type": "execute_result"
    }
   ],
   "source": [
    "data3 = json.load(open(ejemplo3_path))\n",
    "pd.json_normalize(\n",
    "    data3['escuela'],)"
   ]
  },
  {
   "cell_type": "code",
   "execution_count": 105,
   "metadata": {},
   "outputs": [
    {
     "data": {
      "text/html": [
       "<div>\n",
       "<style scoped>\n",
       "    .dataframe tbody tr th:only-of-type {\n",
       "        vertical-align: middle;\n",
       "    }\n",
       "\n",
       "    .dataframe tbody tr th {\n",
       "        vertical-align: top;\n",
       "    }\n",
       "\n",
       "    .dataframe thead th {\n",
       "        text-align: right;\n",
       "    }\n",
       "</style>\n",
       "<table border=\"1\" class=\"dataframe\">\n",
       "  <thead>\n",
       "    <tr style=\"text-align: right;\">\n",
       "      <th></th>\n",
       "      <th>nombre</th>\n",
       "      <th>edad</th>\n",
       "      <th>grado_nombre</th>\n",
       "    </tr>\n",
       "  </thead>\n",
       "  <tbody>\n",
       "    <tr>\n",
       "      <th>0</th>\n",
       "      <td>Ana</td>\n",
       "      <td>6</td>\n",
       "      <td>Primer Grado</td>\n",
       "    </tr>\n",
       "    <tr>\n",
       "      <th>1</th>\n",
       "      <td>Pedro</td>\n",
       "      <td>7</td>\n",
       "      <td>Primer Grado</td>\n",
       "    </tr>\n",
       "    <tr>\n",
       "      <th>2</th>\n",
       "      <td>María</td>\n",
       "      <td>7</td>\n",
       "      <td>Segundo Grado</td>\n",
       "    </tr>\n",
       "    <tr>\n",
       "      <th>3</th>\n",
       "      <td>Luis</td>\n",
       "      <td>8</td>\n",
       "      <td>Segundo Grado</td>\n",
       "    </tr>\n",
       "  </tbody>\n",
       "</table>\n",
       "</div>"
      ],
      "text/plain": [
       "  nombre  edad   grado_nombre\n",
       "0    Ana     6   Primer Grado\n",
       "1  Pedro     7   Primer Grado\n",
       "2  María     7  Segundo Grado\n",
       "3   Luis     8  Segundo Grado"
      ]
     },
     "execution_count": 105,
     "metadata": {},
     "output_type": "execute_result"
    }
   ],
   "source": [
    "pd.json_normalize(\n",
    "    data3['escuela']['grados'],\n",
    "        record_path='alumnos',\n",
    "        meta=['nombre'],\n",
    "        meta_prefix='grado_'\n",
    ")\n",
    "\n",
    "\n"
   ]
  },
  {
   "cell_type": "code",
   "execution_count": null,
   "metadata": {},
   "outputs": [],
   "source": []
  }
 ],
 "metadata": {
  "kernelspec": {
   "display_name": "tch_cf_etl_env",
   "language": "python",
   "name": "python3"
  },
  "language_info": {
   "codemirror_mode": {
    "name": "ipython",
    "version": 3
   },
   "file_extension": ".py",
   "mimetype": "text/x-python",
   "name": "python",
   "nbconvert_exporter": "python",
   "pygments_lexer": "ipython3",
   "version": "3.12.3"
  }
 },
 "nbformat": 4,
 "nbformat_minor": 2
}
