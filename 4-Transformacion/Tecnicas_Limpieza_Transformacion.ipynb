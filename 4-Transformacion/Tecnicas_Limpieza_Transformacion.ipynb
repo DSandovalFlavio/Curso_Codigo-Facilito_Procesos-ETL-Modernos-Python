{
 "cells": [
  {
   "cell_type": "markdown",
   "metadata": {},
   "source": [
    "# Tecnicas de Limpieza y Transformacion de datos"
   ]
  },
  {
   "cell_type": "code",
   "execution_count": 1,
   "metadata": {},
   "outputs": [],
   "source": [
    "import pandas as pd\n",
    "import polars as pl\n",
    "import os\n",
    "\n",
    "path_data = os.path.join(os.getcwd(), 'data') "
   ]
  },
  {
   "cell_type": "markdown",
   "metadata": {},
   "source": [
    "## Pandas"
   ]
  },
  {
   "cell_type": "code",
   "execution_count": 52,
   "metadata": {},
   "outputs": [],
   "source": [
    "sales_data = pd.read_csv(\n",
    "    filepath_or_buffer=os.path.join(path_data, 'sales.csv')\n",
    "    )\n"
   ]
  },
  {
   "cell_type": "code",
   "execution_count": 4,
   "metadata": {},
   "outputs": [
    {
     "data": {
      "text/html": [
       "<div>\n",
       "<style scoped>\n",
       "    .dataframe tbody tr th:only-of-type {\n",
       "        vertical-align: middle;\n",
       "    }\n",
       "\n",
       "    .dataframe tbody tr th {\n",
       "        vertical-align: top;\n",
       "    }\n",
       "\n",
       "    .dataframe thead th {\n",
       "        text-align: right;\n",
       "    }\n",
       "</style>\n",
       "<table border=\"1\" class=\"dataframe\">\n",
       "  <thead>\n",
       "    <tr style=\"text-align: right;\">\n",
       "      <th></th>\n",
       "      <th>Store</th>\n",
       "      <th>Date</th>\n",
       "      <th>Weekly_Sales</th>\n",
       "      <th>Holiday_Flag</th>\n",
       "      <th>Temperature</th>\n",
       "      <th>Fuel_Price</th>\n",
       "      <th>CPI</th>\n",
       "      <th>Unemployment</th>\n",
       "    </tr>\n",
       "  </thead>\n",
       "  <tbody>\n",
       "    <tr>\n",
       "      <th>0</th>\n",
       "      <td>1</td>\n",
       "      <td>05-02-2010</td>\n",
       "      <td>1643690.90</td>\n",
       "      <td>0</td>\n",
       "      <td>42.31</td>\n",
       "      <td>2.572</td>\n",
       "      <td>211.096358</td>\n",
       "      <td>8.106</td>\n",
       "    </tr>\n",
       "    <tr>\n",
       "      <th>1</th>\n",
       "      <td>1</td>\n",
       "      <td>12-02-2010</td>\n",
       "      <td>1641957.44</td>\n",
       "      <td>1</td>\n",
       "      <td>38.51</td>\n",
       "      <td>2.548</td>\n",
       "      <td>211.242170</td>\n",
       "      <td>8.106</td>\n",
       "    </tr>\n",
       "    <tr>\n",
       "      <th>2</th>\n",
       "      <td>1</td>\n",
       "      <td>19-02-2010</td>\n",
       "      <td>1611968.17</td>\n",
       "      <td>0</td>\n",
       "      <td>39.93</td>\n",
       "      <td>2.514</td>\n",
       "      <td>211.289143</td>\n",
       "      <td>8.106</td>\n",
       "    </tr>\n",
       "    <tr>\n",
       "      <th>3</th>\n",
       "      <td>1</td>\n",
       "      <td>26-02-2010</td>\n",
       "      <td>1409727.59</td>\n",
       "      <td>0</td>\n",
       "      <td>46.63</td>\n",
       "      <td>2.561</td>\n",
       "      <td>211.319643</td>\n",
       "      <td>8.106</td>\n",
       "    </tr>\n",
       "    <tr>\n",
       "      <th>4</th>\n",
       "      <td>1</td>\n",
       "      <td>05-03-2010</td>\n",
       "      <td>1554806.68</td>\n",
       "      <td>0</td>\n",
       "      <td>46.50</td>\n",
       "      <td>2.625</td>\n",
       "      <td>211.350143</td>\n",
       "      <td>8.106</td>\n",
       "    </tr>\n",
       "  </tbody>\n",
       "</table>\n",
       "</div>"
      ],
      "text/plain": [
       "   Store        Date  Weekly_Sales  Holiday_Flag  Temperature  Fuel_Price  \\\n",
       "0      1  05-02-2010    1643690.90             0        42.31       2.572   \n",
       "1      1  12-02-2010    1641957.44             1        38.51       2.548   \n",
       "2      1  19-02-2010    1611968.17             0        39.93       2.514   \n",
       "3      1  26-02-2010    1409727.59             0        46.63       2.561   \n",
       "4      1  05-03-2010    1554806.68             0        46.50       2.625   \n",
       "\n",
       "          CPI  Unemployment  \n",
       "0  211.096358         8.106  \n",
       "1  211.242170         8.106  \n",
       "2  211.289143         8.106  \n",
       "3  211.319643         8.106  \n",
       "4  211.350143         8.106  "
      ]
     },
     "execution_count": 4,
     "metadata": {},
     "output_type": "execute_result"
    }
   ],
   "source": [
    "sales_data.head()"
   ]
  },
  {
   "cell_type": "code",
   "execution_count": 5,
   "metadata": {},
   "outputs": [
    {
     "name": "stdout",
     "output_type": "stream",
     "text": [
      "<class 'pandas.core.frame.DataFrame'>\n",
      "RangeIndex: 6435 entries, 0 to 6434\n",
      "Data columns (total 8 columns):\n",
      " #   Column        Non-Null Count  Dtype  \n",
      "---  ------        --------------  -----  \n",
      " 0   Store         6435 non-null   int64  \n",
      " 1   Date          6435 non-null   object \n",
      " 2   Weekly_Sales  6435 non-null   float64\n",
      " 3   Holiday_Flag  6435 non-null   int64  \n",
      " 4   Temperature   6435 non-null   float64\n",
      " 5   Fuel_Price    6435 non-null   float64\n",
      " 6   CPI           6435 non-null   float64\n",
      " 7   Unemployment  6435 non-null   float64\n",
      "dtypes: float64(5), int64(2), object(1)\n",
      "memory usage: 402.3+ KB\n"
     ]
    }
   ],
   "source": [
    "sales_data.info()"
   ]
  },
  {
   "cell_type": "markdown",
   "metadata": {},
   "source": [
    "### Manejo de Fechas"
   ]
  },
  {
   "cell_type": "code",
   "execution_count": 6,
   "metadata": {},
   "outputs": [
    {
     "ename": "ValueError",
     "evalue": "time data \"19-02-2010\" doesn't match format \"%m-%d-%Y\", at position 2. You might want to try:\n    - passing `format` if your strings have a consistent format;\n    - passing `format='ISO8601'` if your strings are all ISO8601 but not necessarily in exactly the same format;\n    - passing `format='mixed'`, and the format will be inferred for each element individually. You might want to use `dayfirst` alongside this.",
     "output_type": "error",
     "traceback": [
      "\u001b[1;31m---------------------------------------------------------------------------\u001b[0m",
      "\u001b[1;31mValueError\u001b[0m                                Traceback (most recent call last)",
      "Cell \u001b[1;32mIn[6], line 1\u001b[0m\n\u001b[1;32m----> 1\u001b[0m sales_data[\u001b[38;5;124m'\u001b[39m\u001b[38;5;124mDate\u001b[39m\u001b[38;5;124m'\u001b[39m] \u001b[38;5;241m=\u001b[39m pd\u001b[38;5;241m.\u001b[39mto_datetime(sales_data[\u001b[38;5;124m'\u001b[39m\u001b[38;5;124mDate\u001b[39m\u001b[38;5;124m'\u001b[39m])\n",
      "File \u001b[1;32mc:\\Users\\flavi\\anaconda3\\envs\\curso_cf_etl\\Lib\\site-packages\\pandas\\core\\tools\\datetimes.py:1108\u001b[0m, in \u001b[0;36mto_datetime\u001b[1;34m(arg, errors, dayfirst, yearfirst, utc, format, exact, unit, infer_datetime_format, origin, cache)\u001b[0m\n\u001b[0;32m   1106\u001b[0m             result \u001b[38;5;241m=\u001b[39m arg\u001b[38;5;241m.\u001b[39mtz_localize(\u001b[38;5;124m\"\u001b[39m\u001b[38;5;124mutc\u001b[39m\u001b[38;5;124m\"\u001b[39m)\n\u001b[0;32m   1107\u001b[0m \u001b[38;5;28;01melif\u001b[39;00m \u001b[38;5;28misinstance\u001b[39m(arg, ABCSeries):\n\u001b[1;32m-> 1108\u001b[0m     cache_array \u001b[38;5;241m=\u001b[39m _maybe_cache(arg, \u001b[38;5;28mformat\u001b[39m, cache, convert_listlike)\n\u001b[0;32m   1109\u001b[0m     \u001b[38;5;28;01mif\u001b[39;00m \u001b[38;5;129;01mnot\u001b[39;00m cache_array\u001b[38;5;241m.\u001b[39mempty:\n\u001b[0;32m   1110\u001b[0m         result \u001b[38;5;241m=\u001b[39m arg\u001b[38;5;241m.\u001b[39mmap(cache_array)\n",
      "File \u001b[1;32mc:\\Users\\flavi\\anaconda3\\envs\\curso_cf_etl\\Lib\\site-packages\\pandas\\core\\tools\\datetimes.py:254\u001b[0m, in \u001b[0;36m_maybe_cache\u001b[1;34m(arg, format, cache, convert_listlike)\u001b[0m\n\u001b[0;32m    252\u001b[0m unique_dates \u001b[38;5;241m=\u001b[39m unique(arg)\n\u001b[0;32m    253\u001b[0m \u001b[38;5;28;01mif\u001b[39;00m \u001b[38;5;28mlen\u001b[39m(unique_dates) \u001b[38;5;241m<\u001b[39m \u001b[38;5;28mlen\u001b[39m(arg):\n\u001b[1;32m--> 254\u001b[0m     cache_dates \u001b[38;5;241m=\u001b[39m convert_listlike(unique_dates, \u001b[38;5;28mformat\u001b[39m)\n\u001b[0;32m    255\u001b[0m     \u001b[38;5;66;03m# GH#45319\u001b[39;00m\n\u001b[0;32m    256\u001b[0m     \u001b[38;5;28;01mtry\u001b[39;00m:\n",
      "File \u001b[1;32mc:\\Users\\flavi\\anaconda3\\envs\\curso_cf_etl\\Lib\\site-packages\\pandas\\core\\tools\\datetimes.py:488\u001b[0m, in \u001b[0;36m_convert_listlike_datetimes\u001b[1;34m(arg, format, name, utc, unit, errors, dayfirst, yearfirst, exact)\u001b[0m\n\u001b[0;32m    486\u001b[0m \u001b[38;5;66;03m# `format` could be inferred, or user didn't ask for mixed-format parsing.\u001b[39;00m\n\u001b[0;32m    487\u001b[0m \u001b[38;5;28;01mif\u001b[39;00m \u001b[38;5;28mformat\u001b[39m \u001b[38;5;129;01mis\u001b[39;00m \u001b[38;5;129;01mnot\u001b[39;00m \u001b[38;5;28;01mNone\u001b[39;00m \u001b[38;5;129;01mand\u001b[39;00m \u001b[38;5;28mformat\u001b[39m \u001b[38;5;241m!=\u001b[39m \u001b[38;5;124m\"\u001b[39m\u001b[38;5;124mmixed\u001b[39m\u001b[38;5;124m\"\u001b[39m:\n\u001b[1;32m--> 488\u001b[0m     \u001b[38;5;28;01mreturn\u001b[39;00m _array_strptime_with_fallback(arg, name, utc, \u001b[38;5;28mformat\u001b[39m, exact, errors)\n\u001b[0;32m    490\u001b[0m result, tz_parsed \u001b[38;5;241m=\u001b[39m objects_to_datetime64ns(\n\u001b[0;32m    491\u001b[0m     arg,\n\u001b[0;32m    492\u001b[0m     dayfirst\u001b[38;5;241m=\u001b[39mdayfirst,\n\u001b[1;32m   (...)\u001b[0m\n\u001b[0;32m    496\u001b[0m     allow_object\u001b[38;5;241m=\u001b[39m\u001b[38;5;28;01mTrue\u001b[39;00m,\n\u001b[0;32m    497\u001b[0m )\n\u001b[0;32m    499\u001b[0m \u001b[38;5;28;01mif\u001b[39;00m tz_parsed \u001b[38;5;129;01mis\u001b[39;00m \u001b[38;5;129;01mnot\u001b[39;00m \u001b[38;5;28;01mNone\u001b[39;00m:\n\u001b[0;32m    500\u001b[0m     \u001b[38;5;66;03m# We can take a shortcut since the datetime64 numpy array\u001b[39;00m\n\u001b[0;32m    501\u001b[0m     \u001b[38;5;66;03m# is in UTC\u001b[39;00m\n",
      "File \u001b[1;32mc:\\Users\\flavi\\anaconda3\\envs\\curso_cf_etl\\Lib\\site-packages\\pandas\\core\\tools\\datetimes.py:519\u001b[0m, in \u001b[0;36m_array_strptime_with_fallback\u001b[1;34m(arg, name, utc, fmt, exact, errors)\u001b[0m\n\u001b[0;32m    508\u001b[0m \u001b[38;5;28;01mdef\u001b[39;00m \u001b[38;5;21m_array_strptime_with_fallback\u001b[39m(\n\u001b[0;32m    509\u001b[0m     arg,\n\u001b[0;32m    510\u001b[0m     name,\n\u001b[1;32m   (...)\u001b[0m\n\u001b[0;32m    514\u001b[0m     errors: \u001b[38;5;28mstr\u001b[39m,\n\u001b[0;32m    515\u001b[0m ) \u001b[38;5;241m-\u001b[39m\u001b[38;5;241m>\u001b[39m Index:\n\u001b[0;32m    516\u001b[0m \u001b[38;5;250m    \u001b[39m\u001b[38;5;124;03m\"\"\"\u001b[39;00m\n\u001b[0;32m    517\u001b[0m \u001b[38;5;124;03m    Call array_strptime, with fallback behavior depending on 'errors'.\u001b[39;00m\n\u001b[0;32m    518\u001b[0m \u001b[38;5;124;03m    \"\"\"\u001b[39;00m\n\u001b[1;32m--> 519\u001b[0m     result, timezones \u001b[38;5;241m=\u001b[39m array_strptime(arg, fmt, exact\u001b[38;5;241m=\u001b[39mexact, errors\u001b[38;5;241m=\u001b[39merrors, utc\u001b[38;5;241m=\u001b[39mutc)\n\u001b[0;32m    520\u001b[0m     \u001b[38;5;28;01mif\u001b[39;00m \u001b[38;5;28many\u001b[39m(tz \u001b[38;5;129;01mis\u001b[39;00m \u001b[38;5;129;01mnot\u001b[39;00m \u001b[38;5;28;01mNone\u001b[39;00m \u001b[38;5;28;01mfor\u001b[39;00m tz \u001b[38;5;129;01min\u001b[39;00m timezones):\n\u001b[0;32m    521\u001b[0m         \u001b[38;5;28;01mreturn\u001b[39;00m _return_parsed_timezone_results(result, timezones, utc, name)\n",
      "File \u001b[1;32mstrptime.pyx:534\u001b[0m, in \u001b[0;36mpandas._libs.tslibs.strptime.array_strptime\u001b[1;34m()\u001b[0m\n",
      "File \u001b[1;32mstrptime.pyx:355\u001b[0m, in \u001b[0;36mpandas._libs.tslibs.strptime.array_strptime\u001b[1;34m()\u001b[0m\n",
      "\u001b[1;31mValueError\u001b[0m: time data \"19-02-2010\" doesn't match format \"%m-%d-%Y\", at position 2. You might want to try:\n    - passing `format` if your strings have a consistent format;\n    - passing `format='ISO8601'` if your strings are all ISO8601 but not necessarily in exactly the same format;\n    - passing `format='mixed'`, and the format will be inferred for each element individually. You might want to use `dayfirst` alongside this."
     ]
    }
   ],
   "source": [
    "sales_data['Date'] = pd.to_datetime(sales_data['Date'])"
   ]
  },
  {
   "cell_type": "markdown",
   "metadata": {},
   "source": [
    "Guía de los códigos de formato más comunes para `strftime`, que te permitirá personalizar la representación de tus fechas y horas:\n",
    "\n",
    "* **%Y:** Año con cuatro dígitos (por ejemplo, 2024).\n",
    "* **%y:** Año con dos dígitos (por ejemplo, 24).\n",
    "* **%m:** Mes como número decimal (01 a 12).\n",
    "* **%B:** Nombre completo del mes (por ejemplo, Enero).\n",
    "* **%b:** Nombre abreviado del mes (por ejemplo, Ene).\n",
    "* **%d:** Día del mes como número decimal (01 a 31).\n",
    "* **%A:** Nombre completo del día de la semana (por ejemplo, Lunes).\n",
    "* **%a:** Nombre abreviado del día de la semana (por ejemplo, Lun).\n",
    "* **%H:** Hora (reloj de 24 horas) como número decimal (00 a 23).\n",
    "* **%I:** Hora (reloj de 12 horas) como número decimal (01 a 12).\n",
    "* **%p:** AM/PM.\n",
    "* **%M:** Minuto como número decimal (00 a 59).\n",
    "* **%S:** Segundo como número decimal (00 a 61).\n",
    "* **%f:** Microsegundo como número decimal (000000 a 999999).\n",
    "* **%z:** Desplazamiento UTC (por ejemplo, +0100).\n",
    "* **%Z:** Nombre de la zona horaria (por ejemplo, CET).\n",
    "* **%j:** Día del año como número decimal (001 a 366).\n",
    "* **%U:** Número de la semana del año (domingo como primer día de la semana) como número decimal (00 a 53).\n",
    "* **%W:** Número de la semana del año (lunes como primer día de la semana) como número decimal (00 a 53).\n",
    "* **%c:** Representación de fecha y hora apropiada para la configuración regional.\n",
    "* **%x:** Representación de fecha apropiada para la configuración regional.\n",
    "* **%X:** Representación de hora apropiada para la configuración regional.\n",
    "\n",
    "\n",
    "**Ejemplos:**\n",
    "\n",
    "* `%Y-%m-%d`: \"2024-07-28\"\n",
    "* `%d/%m/%Y %H:%M:%S`: \"28/07/2024 19:01:49\"\n",
    "* `%A, %d de %B de %Y`: \"Domingo, 28 de Julio de 2024\"\n",
    "* `%I:%M %p`: \"07:01 PM\"\n"
   ]
  },
  {
   "cell_type": "code",
   "execution_count": 7,
   "metadata": {},
   "outputs": [
    {
     "name": "stdout",
     "output_type": "stream",
     "text": [
      "<class 'pandas.core.frame.DataFrame'>\n",
      "RangeIndex: 6435 entries, 0 to 6434\n",
      "Data columns (total 8 columns):\n",
      " #   Column        Non-Null Count  Dtype         \n",
      "---  ------        --------------  -----         \n",
      " 0   Store         6435 non-null   int64         \n",
      " 1   Date          6435 non-null   datetime64[ns]\n",
      " 2   Weekly_Sales  6435 non-null   float64       \n",
      " 3   Holiday_Flag  6435 non-null   int64         \n",
      " 4   Temperature   6435 non-null   float64       \n",
      " 5   Fuel_Price    6435 non-null   float64       \n",
      " 6   CPI           6435 non-null   float64       \n",
      " 7   Unemployment  6435 non-null   float64       \n",
      "dtypes: datetime64[ns](1), float64(5), int64(2)\n",
      "memory usage: 402.3 KB\n"
     ]
    }
   ],
   "source": [
    "sales_data['Date'] = pd.to_datetime(sales_data['Date'], format='%d-%m-%Y')\n",
    "sales_data.info()"
   ]
  },
  {
   "cell_type": "code",
   "execution_count": 8,
   "metadata": {},
   "outputs": [
    {
     "data": {
      "text/html": [
       "<div>\n",
       "<style scoped>\n",
       "    .dataframe tbody tr th:only-of-type {\n",
       "        vertical-align: middle;\n",
       "    }\n",
       "\n",
       "    .dataframe tbody tr th {\n",
       "        vertical-align: top;\n",
       "    }\n",
       "\n",
       "    .dataframe thead th {\n",
       "        text-align: right;\n",
       "    }\n",
       "</style>\n",
       "<table border=\"1\" class=\"dataframe\">\n",
       "  <thead>\n",
       "    <tr style=\"text-align: right;\">\n",
       "      <th></th>\n",
       "      <th>Store</th>\n",
       "      <th>Date</th>\n",
       "      <th>Weekly_Sales</th>\n",
       "      <th>Holiday_Flag</th>\n",
       "      <th>Temperature</th>\n",
       "      <th>Fuel_Price</th>\n",
       "      <th>CPI</th>\n",
       "      <th>Unemployment</th>\n",
       "    </tr>\n",
       "  </thead>\n",
       "  <tbody>\n",
       "    <tr>\n",
       "      <th>0</th>\n",
       "      <td>1</td>\n",
       "      <td>2010-02-05</td>\n",
       "      <td>1643690.90</td>\n",
       "      <td>0</td>\n",
       "      <td>42.31</td>\n",
       "      <td>2.572</td>\n",
       "      <td>211.096358</td>\n",
       "      <td>8.106</td>\n",
       "    </tr>\n",
       "    <tr>\n",
       "      <th>1</th>\n",
       "      <td>1</td>\n",
       "      <td>2010-02-12</td>\n",
       "      <td>1641957.44</td>\n",
       "      <td>1</td>\n",
       "      <td>38.51</td>\n",
       "      <td>2.548</td>\n",
       "      <td>211.242170</td>\n",
       "      <td>8.106</td>\n",
       "    </tr>\n",
       "    <tr>\n",
       "      <th>2</th>\n",
       "      <td>1</td>\n",
       "      <td>2010-02-19</td>\n",
       "      <td>1611968.17</td>\n",
       "      <td>0</td>\n",
       "      <td>39.93</td>\n",
       "      <td>2.514</td>\n",
       "      <td>211.289143</td>\n",
       "      <td>8.106</td>\n",
       "    </tr>\n",
       "    <tr>\n",
       "      <th>3</th>\n",
       "      <td>1</td>\n",
       "      <td>2010-02-26</td>\n",
       "      <td>1409727.59</td>\n",
       "      <td>0</td>\n",
       "      <td>46.63</td>\n",
       "      <td>2.561</td>\n",
       "      <td>211.319643</td>\n",
       "      <td>8.106</td>\n",
       "    </tr>\n",
       "    <tr>\n",
       "      <th>4</th>\n",
       "      <td>1</td>\n",
       "      <td>2010-03-05</td>\n",
       "      <td>1554806.68</td>\n",
       "      <td>0</td>\n",
       "      <td>46.50</td>\n",
       "      <td>2.625</td>\n",
       "      <td>211.350143</td>\n",
       "      <td>8.106</td>\n",
       "    </tr>\n",
       "  </tbody>\n",
       "</table>\n",
       "</div>"
      ],
      "text/plain": [
       "   Store       Date  Weekly_Sales  Holiday_Flag  Temperature  Fuel_Price  \\\n",
       "0      1 2010-02-05    1643690.90             0        42.31       2.572   \n",
       "1      1 2010-02-12    1641957.44             1        38.51       2.548   \n",
       "2      1 2010-02-19    1611968.17             0        39.93       2.514   \n",
       "3      1 2010-02-26    1409727.59             0        46.63       2.561   \n",
       "4      1 2010-03-05    1554806.68             0        46.50       2.625   \n",
       "\n",
       "          CPI  Unemployment  \n",
       "0  211.096358         8.106  \n",
       "1  211.242170         8.106  \n",
       "2  211.289143         8.106  \n",
       "3  211.319643         8.106  \n",
       "4  211.350143         8.106  "
      ]
     },
     "execution_count": 8,
     "metadata": {},
     "output_type": "execute_result"
    }
   ],
   "source": [
    "sales_data.head()"
   ]
  },
  {
   "cell_type": "markdown",
   "metadata": {},
   "source": [
    "#### Filtrado de Fechas\n"
   ]
  },
  {
   "cell_type": "code",
   "execution_count": 10,
   "metadata": {},
   "outputs": [
    {
     "data": {
      "text/html": [
       "<div>\n",
       "<style scoped>\n",
       "    .dataframe tbody tr th:only-of-type {\n",
       "        vertical-align: middle;\n",
       "    }\n",
       "\n",
       "    .dataframe tbody tr th {\n",
       "        vertical-align: top;\n",
       "    }\n",
       "\n",
       "    .dataframe thead th {\n",
       "        text-align: right;\n",
       "    }\n",
       "</style>\n",
       "<table border=\"1\" class=\"dataframe\">\n",
       "  <thead>\n",
       "    <tr style=\"text-align: right;\">\n",
       "      <th></th>\n",
       "      <th>Store</th>\n",
       "      <th>Date</th>\n",
       "      <th>Weekly_Sales</th>\n",
       "      <th>Holiday_Flag</th>\n",
       "      <th>Temperature</th>\n",
       "      <th>Fuel_Price</th>\n",
       "      <th>CPI</th>\n",
       "      <th>Unemployment</th>\n",
       "    </tr>\n",
       "  </thead>\n",
       "  <tbody>\n",
       "    <tr>\n",
       "      <th>3</th>\n",
       "      <td>1</td>\n",
       "      <td>2010-02-26</td>\n",
       "      <td>1409727.59</td>\n",
       "      <td>0</td>\n",
       "      <td>46.63</td>\n",
       "      <td>2.561</td>\n",
       "      <td>211.319643</td>\n",
       "      <td>8.106</td>\n",
       "    </tr>\n",
       "    <tr>\n",
       "      <th>146</th>\n",
       "      <td>2</td>\n",
       "      <td>2010-02-26</td>\n",
       "      <td>1865097.27</td>\n",
       "      <td>0</td>\n",
       "      <td>46.10</td>\n",
       "      <td>2.561</td>\n",
       "      <td>210.975957</td>\n",
       "      <td>8.324</td>\n",
       "    </tr>\n",
       "    <tr>\n",
       "      <th>289</th>\n",
       "      <td>3</td>\n",
       "      <td>2010-02-26</td>\n",
       "      <td>407204.86</td>\n",
       "      <td>0</td>\n",
       "      <td>52.05</td>\n",
       "      <td>2.561</td>\n",
       "      <td>214.647513</td>\n",
       "      <td>7.368</td>\n",
       "    </tr>\n",
       "    <tr>\n",
       "      <th>432</th>\n",
       "      <td>4</td>\n",
       "      <td>2010-02-26</td>\n",
       "      <td>1925728.84</td>\n",
       "      <td>0</td>\n",
       "      <td>41.36</td>\n",
       "      <td>2.590</td>\n",
       "      <td>126.552286</td>\n",
       "      <td>8.623</td>\n",
       "    </tr>\n",
       "    <tr>\n",
       "      <th>575</th>\n",
       "      <td>5</td>\n",
       "      <td>2010-02-26</td>\n",
       "      <td>270281.63</td>\n",
       "      <td>0</td>\n",
       "      <td>46.70</td>\n",
       "      <td>2.561</td>\n",
       "      <td>211.877147</td>\n",
       "      <td>6.566</td>\n",
       "    </tr>\n",
       "  </tbody>\n",
       "</table>\n",
       "</div>"
      ],
      "text/plain": [
       "     Store       Date  Weekly_Sales  Holiday_Flag  Temperature  Fuel_Price  \\\n",
       "3        1 2010-02-26    1409727.59             0        46.63       2.561   \n",
       "146      2 2010-02-26    1865097.27             0        46.10       2.561   \n",
       "289      3 2010-02-26     407204.86             0        52.05       2.561   \n",
       "432      4 2010-02-26    1925728.84             0        41.36       2.590   \n",
       "575      5 2010-02-26     270281.63             0        46.70       2.561   \n",
       "\n",
       "            CPI  Unemployment  \n",
       "3    211.319643         8.106  \n",
       "146  210.975957         8.324  \n",
       "289  214.647513         7.368  \n",
       "432  126.552286         8.623  \n",
       "575  211.877147         6.566  "
      ]
     },
     "execution_count": 10,
     "metadata": {},
     "output_type": "execute_result"
    }
   ],
   "source": [
    "sales_data.loc[sales_data['Date'] == '2010-02-26'].head()"
   ]
  },
  {
   "cell_type": "code",
   "execution_count": 11,
   "metadata": {},
   "outputs": [
    {
     "data": {
      "text/html": [
       "<div>\n",
       "<style scoped>\n",
       "    .dataframe tbody tr th:only-of-type {\n",
       "        vertical-align: middle;\n",
       "    }\n",
       "\n",
       "    .dataframe tbody tr th {\n",
       "        vertical-align: top;\n",
       "    }\n",
       "\n",
       "    .dataframe thead th {\n",
       "        text-align: right;\n",
       "    }\n",
       "</style>\n",
       "<table border=\"1\" class=\"dataframe\">\n",
       "  <thead>\n",
       "    <tr style=\"text-align: right;\">\n",
       "      <th></th>\n",
       "      <th>Store</th>\n",
       "      <th>Date</th>\n",
       "      <th>Weekly_Sales</th>\n",
       "      <th>Holiday_Flag</th>\n",
       "      <th>Temperature</th>\n",
       "      <th>Fuel_Price</th>\n",
       "      <th>CPI</th>\n",
       "      <th>Unemployment</th>\n",
       "    </tr>\n",
       "  </thead>\n",
       "  <tbody>\n",
       "    <tr>\n",
       "      <th>3</th>\n",
       "      <td>1</td>\n",
       "      <td>2010-02-26</td>\n",
       "      <td>1409727.59</td>\n",
       "      <td>0</td>\n",
       "      <td>46.63</td>\n",
       "      <td>2.561</td>\n",
       "      <td>211.319643</td>\n",
       "      <td>8.106</td>\n",
       "    </tr>\n",
       "    <tr>\n",
       "      <th>146</th>\n",
       "      <td>2</td>\n",
       "      <td>2010-02-26</td>\n",
       "      <td>1865097.27</td>\n",
       "      <td>0</td>\n",
       "      <td>46.10</td>\n",
       "      <td>2.561</td>\n",
       "      <td>210.975957</td>\n",
       "      <td>8.324</td>\n",
       "    </tr>\n",
       "    <tr>\n",
       "      <th>289</th>\n",
       "      <td>3</td>\n",
       "      <td>2010-02-26</td>\n",
       "      <td>407204.86</td>\n",
       "      <td>0</td>\n",
       "      <td>52.05</td>\n",
       "      <td>2.561</td>\n",
       "      <td>214.647513</td>\n",
       "      <td>7.368</td>\n",
       "    </tr>\n",
       "    <tr>\n",
       "      <th>432</th>\n",
       "      <td>4</td>\n",
       "      <td>2010-02-26</td>\n",
       "      <td>1925728.84</td>\n",
       "      <td>0</td>\n",
       "      <td>41.36</td>\n",
       "      <td>2.590</td>\n",
       "      <td>126.552286</td>\n",
       "      <td>8.623</td>\n",
       "    </tr>\n",
       "    <tr>\n",
       "      <th>575</th>\n",
       "      <td>5</td>\n",
       "      <td>2010-02-26</td>\n",
       "      <td>270281.63</td>\n",
       "      <td>0</td>\n",
       "      <td>46.70</td>\n",
       "      <td>2.561</td>\n",
       "      <td>211.877147</td>\n",
       "      <td>6.566</td>\n",
       "    </tr>\n",
       "  </tbody>\n",
       "</table>\n",
       "</div>"
      ],
      "text/plain": [
       "     Store       Date  Weekly_Sales  Holiday_Flag  Temperature  Fuel_Price  \\\n",
       "3        1 2010-02-26    1409727.59             0        46.63       2.561   \n",
       "146      2 2010-02-26    1865097.27             0        46.10       2.561   \n",
       "289      3 2010-02-26     407204.86             0        52.05       2.561   \n",
       "432      4 2010-02-26    1925728.84             0        41.36       2.590   \n",
       "575      5 2010-02-26     270281.63             0        46.70       2.561   \n",
       "\n",
       "            CPI  Unemployment  \n",
       "3    211.319643         8.106  \n",
       "146  210.975957         8.324  \n",
       "289  214.647513         7.368  \n",
       "432  126.552286         8.623  \n",
       "575  211.877147         6.566  "
      ]
     },
     "execution_count": 11,
     "metadata": {},
     "output_type": "execute_result"
    }
   ],
   "source": [
    "sales_data[sales_data['Date'] == '2010-02-26'].head()"
   ]
  },
  {
   "cell_type": "code",
   "execution_count": 12,
   "metadata": {},
   "outputs": [
    {
     "data": {
      "text/html": [
       "<div>\n",
       "<style scoped>\n",
       "    .dataframe tbody tr th:only-of-type {\n",
       "        vertical-align: middle;\n",
       "    }\n",
       "\n",
       "    .dataframe tbody tr th {\n",
       "        vertical-align: top;\n",
       "    }\n",
       "\n",
       "    .dataframe thead th {\n",
       "        text-align: right;\n",
       "    }\n",
       "</style>\n",
       "<table border=\"1\" class=\"dataframe\">\n",
       "  <thead>\n",
       "    <tr style=\"text-align: right;\">\n",
       "      <th></th>\n",
       "      <th>Store</th>\n",
       "      <th>Date</th>\n",
       "      <th>Weekly_Sales</th>\n",
       "      <th>Holiday_Flag</th>\n",
       "      <th>Temperature</th>\n",
       "      <th>Fuel_Price</th>\n",
       "      <th>CPI</th>\n",
       "      <th>Unemployment</th>\n",
       "    </tr>\n",
       "  </thead>\n",
       "  <tbody>\n",
       "    <tr>\n",
       "      <th>3</th>\n",
       "      <td>1</td>\n",
       "      <td>2010-02-26</td>\n",
       "      <td>1409727.59</td>\n",
       "      <td>0</td>\n",
       "      <td>46.63</td>\n",
       "      <td>2.561</td>\n",
       "      <td>211.319643</td>\n",
       "      <td>8.106</td>\n",
       "    </tr>\n",
       "    <tr>\n",
       "      <th>146</th>\n",
       "      <td>2</td>\n",
       "      <td>2010-02-26</td>\n",
       "      <td>1865097.27</td>\n",
       "      <td>0</td>\n",
       "      <td>46.10</td>\n",
       "      <td>2.561</td>\n",
       "      <td>210.975957</td>\n",
       "      <td>8.324</td>\n",
       "    </tr>\n",
       "    <tr>\n",
       "      <th>289</th>\n",
       "      <td>3</td>\n",
       "      <td>2010-02-26</td>\n",
       "      <td>407204.86</td>\n",
       "      <td>0</td>\n",
       "      <td>52.05</td>\n",
       "      <td>2.561</td>\n",
       "      <td>214.647513</td>\n",
       "      <td>7.368</td>\n",
       "    </tr>\n",
       "    <tr>\n",
       "      <th>432</th>\n",
       "      <td>4</td>\n",
       "      <td>2010-02-26</td>\n",
       "      <td>1925728.84</td>\n",
       "      <td>0</td>\n",
       "      <td>41.36</td>\n",
       "      <td>2.590</td>\n",
       "      <td>126.552286</td>\n",
       "      <td>8.623</td>\n",
       "    </tr>\n",
       "    <tr>\n",
       "      <th>575</th>\n",
       "      <td>5</td>\n",
       "      <td>2010-02-26</td>\n",
       "      <td>270281.63</td>\n",
       "      <td>0</td>\n",
       "      <td>46.70</td>\n",
       "      <td>2.561</td>\n",
       "      <td>211.877147</td>\n",
       "      <td>6.566</td>\n",
       "    </tr>\n",
       "  </tbody>\n",
       "</table>\n",
       "</div>"
      ],
      "text/plain": [
       "     Store       Date  Weekly_Sales  Holiday_Flag  Temperature  Fuel_Price  \\\n",
       "3        1 2010-02-26    1409727.59             0        46.63       2.561   \n",
       "146      2 2010-02-26    1865097.27             0        46.10       2.561   \n",
       "289      3 2010-02-26     407204.86             0        52.05       2.561   \n",
       "432      4 2010-02-26    1925728.84             0        41.36       2.590   \n",
       "575      5 2010-02-26     270281.63             0        46.70       2.561   \n",
       "\n",
       "            CPI  Unemployment  \n",
       "3    211.319643         8.106  \n",
       "146  210.975957         8.324  \n",
       "289  214.647513         7.368  \n",
       "432  126.552286         8.623  \n",
       "575  211.877147         6.566  "
      ]
     },
     "execution_count": 12,
     "metadata": {},
     "output_type": "execute_result"
    }
   ],
   "source": [
    "sales_data.query('Date == \"2010-02-26\"').head()"
   ]
  },
  {
   "cell_type": "markdown",
   "metadata": {},
   "source": [
    "#### Obtener las ventas por mes y año"
   ]
  },
  {
   "cell_type": "code",
   "execution_count": 13,
   "metadata": {},
   "outputs": [
    {
     "data": {
      "text/html": [
       "<div>\n",
       "<style scoped>\n",
       "    .dataframe tbody tr th:only-of-type {\n",
       "        vertical-align: middle;\n",
       "    }\n",
       "\n",
       "    .dataframe tbody tr th {\n",
       "        vertical-align: top;\n",
       "    }\n",
       "\n",
       "    .dataframe thead th {\n",
       "        text-align: right;\n",
       "    }\n",
       "</style>\n",
       "<table border=\"1\" class=\"dataframe\">\n",
       "  <thead>\n",
       "    <tr style=\"text-align: right;\">\n",
       "      <th></th>\n",
       "      <th>Y-M</th>\n",
       "      <th>Weekly_Sales</th>\n",
       "    </tr>\n",
       "  </thead>\n",
       "  <tbody>\n",
       "    <tr>\n",
       "      <th>0</th>\n",
       "      <td>2010-02</td>\n",
       "      <td>1.903330e+08</td>\n",
       "    </tr>\n",
       "    <tr>\n",
       "      <th>1</th>\n",
       "      <td>2010-03</td>\n",
       "      <td>1.819198e+08</td>\n",
       "    </tr>\n",
       "    <tr>\n",
       "      <th>2</th>\n",
       "      <td>2010-04</td>\n",
       "      <td>2.314124e+08</td>\n",
       "    </tr>\n",
       "    <tr>\n",
       "      <th>3</th>\n",
       "      <td>2010-05</td>\n",
       "      <td>1.867109e+08</td>\n",
       "    </tr>\n",
       "    <tr>\n",
       "      <th>4</th>\n",
       "      <td>2010-06</td>\n",
       "      <td>1.922462e+08</td>\n",
       "    </tr>\n",
       "  </tbody>\n",
       "</table>\n",
       "</div>"
      ],
      "text/plain": [
       "       Y-M  Weekly_Sales\n",
       "0  2010-02  1.903330e+08\n",
       "1  2010-03  1.819198e+08\n",
       "2  2010-04  2.314124e+08\n",
       "3  2010-05  1.867109e+08\n",
       "4  2010-06  1.922462e+08"
      ]
     },
     "execution_count": 13,
     "metadata": {},
     "output_type": "execute_result"
    }
   ],
   "source": [
    "sales_data['Y-M'] = sales_data['Date'].dt.to_period('M')\n",
    "sales_data.groupby('Y-M')['Weekly_Sales'].sum().reset_index().head()"
   ]
  },
  {
   "cell_type": "code",
   "execution_count": 14,
   "metadata": {},
   "outputs": [],
   "source": [
    "pd.set_option('display.float_format', lambda x: f'{x:.0f}')"
   ]
  },
  {
   "cell_type": "code",
   "execution_count": 15,
   "metadata": {},
   "outputs": [
    {
     "data": {
      "text/html": [
       "<div>\n",
       "<style scoped>\n",
       "    .dataframe tbody tr th:only-of-type {\n",
       "        vertical-align: middle;\n",
       "    }\n",
       "\n",
       "    .dataframe tbody tr th {\n",
       "        vertical-align: top;\n",
       "    }\n",
       "\n",
       "    .dataframe thead th {\n",
       "        text-align: right;\n",
       "    }\n",
       "</style>\n",
       "<table border=\"1\" class=\"dataframe\">\n",
       "  <thead>\n",
       "    <tr style=\"text-align: right;\">\n",
       "      <th></th>\n",
       "      <th>Y-M</th>\n",
       "      <th>Weekly_Sales</th>\n",
       "    </tr>\n",
       "  </thead>\n",
       "  <tbody>\n",
       "    <tr>\n",
       "      <th>0</th>\n",
       "      <td>2010-02</td>\n",
       "      <td>190332983</td>\n",
       "    </tr>\n",
       "    <tr>\n",
       "      <th>1</th>\n",
       "      <td>2010-03</td>\n",
       "      <td>181919802</td>\n",
       "    </tr>\n",
       "    <tr>\n",
       "      <th>2</th>\n",
       "      <td>2010-04</td>\n",
       "      <td>231412368</td>\n",
       "    </tr>\n",
       "    <tr>\n",
       "      <th>3</th>\n",
       "      <td>2010-05</td>\n",
       "      <td>186710934</td>\n",
       "    </tr>\n",
       "    <tr>\n",
       "      <th>4</th>\n",
       "      <td>2010-06</td>\n",
       "      <td>192246172</td>\n",
       "    </tr>\n",
       "  </tbody>\n",
       "</table>\n",
       "</div>"
      ],
      "text/plain": [
       "       Y-M  Weekly_Sales\n",
       "0  2010-02     190332983\n",
       "1  2010-03     181919802\n",
       "2  2010-04     231412368\n",
       "3  2010-05     186710934\n",
       "4  2010-06     192246172"
      ]
     },
     "execution_count": 15,
     "metadata": {},
     "output_type": "execute_result"
    }
   ],
   "source": [
    "sales_data.groupby('Y-M')['Weekly_Sales'].sum().reset_index().head()"
   ]
  },
  {
   "cell_type": "code",
   "execution_count": 16,
   "metadata": {},
   "outputs": [
    {
     "data": {
      "text/plain": [
       "0    2010\n",
       "1    2010\n",
       "2    2010\n",
       "3    2010\n",
       "4    2010\n",
       "Name: Date, dtype: int32"
      ]
     },
     "execution_count": 16,
     "metadata": {},
     "output_type": "execute_result"
    }
   ],
   "source": [
    "sales_data['Date'].dt.year.head()"
   ]
  },
  {
   "cell_type": "code",
   "execution_count": 17,
   "metadata": {},
   "outputs": [
    {
     "data": {
      "text/plain": [
       "0    2\n",
       "1    2\n",
       "2    2\n",
       "3    2\n",
       "4    3\n",
       "Name: Date, dtype: int32"
      ]
     },
     "execution_count": 17,
     "metadata": {},
     "output_type": "execute_result"
    }
   ],
   "source": [
    "sales_data['Date'].dt.month.head()"
   ]
  },
  {
   "cell_type": "markdown",
   "metadata": {},
   "source": [
    "¿Por qué .dt es tan útil?\n",
    "\n",
    "- **Simplifica el acceso a componentes de fechas**: Evita tener que usar funciones más complejas de Python para extraer años, meses, días, etc.\n",
    "- **Facilita cálculos y comparaciones**: Permite realizar operaciones aritméticas y comparaciones entre fechas de manera intuitiva.\n",
    "- **Mejora la legibilidad del código**: Hace que tu código sea más claro y fácil de entender.\n",
    "\n",
    "Funciones más comunes de .dt:\n",
    "\n",
    "- `dt.dayofweek`: Extrae el día de la semana como número entero (0 para lunes, 6 para domingo).\n",
    "- `dt.day_name`: Extrae el nombre del día de la semana (\"Monday\", \"Tuesday\", etc.).\n",
    "- `dt.month_name`: Extrae el nombre del mes (\"January\", \"February\", etc.)."
   ]
  },
  {
   "cell_type": "code",
   "execution_count": 18,
   "metadata": {},
   "outputs": [
    {
     "data": {
      "text/plain": [
       "0    4\n",
       "1    4\n",
       "2    4\n",
       "3    4\n",
       "4    4\n",
       "Name: Date, dtype: int32"
      ]
     },
     "execution_count": 18,
     "metadata": {},
     "output_type": "execute_result"
    }
   ],
   "source": [
    "sales_data['Date'].dt.day_of_week.head()"
   ]
  },
  {
   "cell_type": "code",
   "execution_count": 19,
   "metadata": {},
   "outputs": [
    {
     "data": {
      "text/plain": [
       "0    Friday\n",
       "1    Friday\n",
       "2    Friday\n",
       "3    Friday\n",
       "4    Friday\n",
       "Name: Date, dtype: object"
      ]
     },
     "execution_count": 19,
     "metadata": {},
     "output_type": "execute_result"
    }
   ],
   "source": [
    "sales_data['Date'].dt.day_name().head()"
   ]
  },
  {
   "cell_type": "code",
   "execution_count": 20,
   "metadata": {},
   "outputs": [
    {
     "data": {
      "text/plain": [
       "0    February\n",
       "1    February\n",
       "2    February\n",
       "3    February\n",
       "4       March\n",
       "Name: Date, dtype: object"
      ]
     },
     "execution_count": 20,
     "metadata": {},
     "output_type": "execute_result"
    }
   ],
   "source": [
    "sales_data['Date'].dt.month_name().head()"
   ]
  },
  {
   "cell_type": "markdown",
   "metadata": {},
   "source": [
    "#### Como hacer calculos con fechas"
   ]
  },
  {
   "cell_type": "markdown",
   "metadata": {},
   "source": [
    "Suma de dias, meses, años a una fecha"
   ]
  },
  {
   "cell_type": "code",
   "execution_count": 21,
   "metadata": {},
   "outputs": [
    {
     "data": {
      "text/plain": [
       "0      2010-02-05\n",
       "1      2010-02-12\n",
       "2      2010-02-19\n",
       "3      2010-02-26\n",
       "4      2010-03-05\n",
       "          ...    \n",
       "6430   2012-09-28\n",
       "6431   2012-10-05\n",
       "6432   2012-10-12\n",
       "6433   2012-10-19\n",
       "6434   2012-10-26\n",
       "Name: Date, Length: 6435, dtype: datetime64[ns]"
      ]
     },
     "execution_count": 21,
     "metadata": {},
     "output_type": "execute_result"
    }
   ],
   "source": [
    "sales_data['Date']"
   ]
  },
  {
   "cell_type": "code",
   "execution_count": 22,
   "metadata": {},
   "outputs": [
    {
     "data": {
      "text/plain": [
       "0      2010-02-06\n",
       "1      2010-02-13\n",
       "2      2010-02-20\n",
       "3      2010-02-27\n",
       "4      2010-03-06\n",
       "          ...    \n",
       "6430   2012-09-29\n",
       "6431   2012-10-06\n",
       "6432   2012-10-13\n",
       "6433   2012-10-20\n",
       "6434   2012-10-27\n",
       "Name: Date, Length: 6435, dtype: datetime64[ns]"
      ]
     },
     "execution_count": 22,
     "metadata": {},
     "output_type": "execute_result"
    }
   ],
   "source": [
    "sales_data['Date'] + pd.DateOffset(days=1)"
   ]
  },
  {
   "cell_type": "code",
   "execution_count": 23,
   "metadata": {},
   "outputs": [
    {
     "data": {
      "text/plain": [
       "0      2010-04-05\n",
       "1      2010-04-12\n",
       "2      2010-04-19\n",
       "3      2010-04-26\n",
       "4      2010-05-05\n",
       "          ...    \n",
       "6430   2012-11-28\n",
       "6431   2012-12-05\n",
       "6432   2012-12-12\n",
       "6433   2012-12-19\n",
       "6434   2012-12-26\n",
       "Name: Date, Length: 6435, dtype: datetime64[ns]"
      ]
     },
     "execution_count": 23,
     "metadata": {},
     "output_type": "execute_result"
    }
   ],
   "source": [
    "sales_data['Date'] + pd.DateOffset(months=2)"
   ]
  },
  {
   "cell_type": "code",
   "execution_count": 24,
   "metadata": {},
   "outputs": [
    {
     "data": {
      "text/plain": [
       "0      2010-04-15\n",
       "1      2010-04-22\n",
       "2      2010-04-29\n",
       "3      2010-05-06\n",
       "4      2010-05-15\n",
       "          ...    \n",
       "6430   2012-12-08\n",
       "6431   2012-12-15\n",
       "6432   2012-12-22\n",
       "6433   2012-12-29\n",
       "6434   2013-01-05\n",
       "Name: Date, Length: 6435, dtype: datetime64[ns]"
      ]
     },
     "execution_count": 24,
     "metadata": {},
     "output_type": "execute_result"
    }
   ],
   "source": [
    "sales_data['Date'] + pd.DateOffset(months=2, days=10)"
   ]
  },
  {
   "cell_type": "code",
   "execution_count": 25,
   "metadata": {},
   "outputs": [
    {
     "data": {
      "text/plain": [
       "0      2008-11-25\n",
       "1      2008-12-02\n",
       "2      2008-12-09\n",
       "3      2008-12-16\n",
       "4      2008-12-26\n",
       "          ...    \n",
       "6430   2011-07-18\n",
       "6431   2011-07-26\n",
       "6432   2011-08-02\n",
       "6433   2011-08-09\n",
       "6434   2011-08-16\n",
       "Name: Date, Length: 6435, dtype: datetime64[ns]"
      ]
     },
     "execution_count": 25,
     "metadata": {},
     "output_type": "execute_result"
    }
   ],
   "source": [
    "sales_data['Date'] - pd.DateOffset(years=1, months=2, days=10)"
   ]
  },
  {
   "cell_type": "code",
   "execution_count": 41,
   "metadata": {},
   "outputs": [
    {
     "data": {
      "text/plain": [
       "0      5344 days 20:23:16.945282\n",
       "1      5337 days 20:23:16.945282\n",
       "2      5330 days 20:23:16.945282\n",
       "3      5323 days 20:23:16.945282\n",
       "4      5316 days 20:23:16.945282\n",
       "                  ...           \n",
       "6430   4378 days 20:23:16.945282\n",
       "6431   4371 days 20:23:16.945282\n",
       "6432   4364 days 20:23:16.945282\n",
       "6433   4357 days 20:23:16.945282\n",
       "6434   4350 days 20:23:16.945282\n",
       "Name: Date, Length: 6435, dtype: timedelta64[ns]"
      ]
     },
     "execution_count": 41,
     "metadata": {},
     "output_type": "execute_result"
    }
   ],
   "source": [
    "pd.Timestamp.now() - sales_data['Date']"
   ]
  },
  {
   "cell_type": "markdown",
   "metadata": {},
   "source": [
    "#### Como formatear y filtrar fechas"
   ]
  },
  {
   "cell_type": "code",
   "execution_count": 42,
   "metadata": {},
   "outputs": [
    {
     "data": {
      "text/plain": [
       "0    2010-02\n",
       "1    2010-02\n",
       "2    2010-02\n",
       "3    2010-02\n",
       "4    2010-03\n",
       "Name: Date, dtype: object"
      ]
     },
     "execution_count": 42,
     "metadata": {},
     "output_type": "execute_result"
    }
   ],
   "source": [
    "sales_data['Date'].dt.strftime('%Y-%m').head()"
   ]
  },
  {
   "cell_type": "code",
   "execution_count": 43,
   "metadata": {},
   "outputs": [
    {
     "data": {
      "text/html": [
       "<div>\n",
       "<style scoped>\n",
       "    .dataframe tbody tr th:only-of-type {\n",
       "        vertical-align: middle;\n",
       "    }\n",
       "\n",
       "    .dataframe tbody tr th {\n",
       "        vertical-align: top;\n",
       "    }\n",
       "\n",
       "    .dataframe thead th {\n",
       "        text-align: right;\n",
       "    }\n",
       "</style>\n",
       "<table border=\"1\" class=\"dataframe\">\n",
       "  <thead>\n",
       "    <tr style=\"text-align: right;\">\n",
       "      <th></th>\n",
       "      <th>Store</th>\n",
       "      <th>Date</th>\n",
       "      <th>Weekly_Sales</th>\n",
       "      <th>Holiday_Flag</th>\n",
       "      <th>Temperature</th>\n",
       "      <th>Fuel_Price</th>\n",
       "      <th>CPI</th>\n",
       "      <th>Unemployment</th>\n",
       "      <th>Y-M</th>\n",
       "    </tr>\n",
       "  </thead>\n",
       "  <tbody>\n",
       "    <tr>\n",
       "      <th>100</th>\n",
       "      <td>1</td>\n",
       "      <td>2012-01-06</td>\n",
       "      <td>1550370</td>\n",
       "      <td>0</td>\n",
       "      <td>49</td>\n",
       "      <td>3</td>\n",
       "      <td>220</td>\n",
       "      <td>7</td>\n",
       "      <td>2012-01</td>\n",
       "    </tr>\n",
       "    <tr>\n",
       "      <th>101</th>\n",
       "      <td>1</td>\n",
       "      <td>2012-01-13</td>\n",
       "      <td>1459601</td>\n",
       "      <td>0</td>\n",
       "      <td>49</td>\n",
       "      <td>3</td>\n",
       "      <td>220</td>\n",
       "      <td>7</td>\n",
       "      <td>2012-01</td>\n",
       "    </tr>\n",
       "    <tr>\n",
       "      <th>102</th>\n",
       "      <td>1</td>\n",
       "      <td>2012-01-20</td>\n",
       "      <td>1394394</td>\n",
       "      <td>0</td>\n",
       "      <td>54</td>\n",
       "      <td>3</td>\n",
       "      <td>220</td>\n",
       "      <td>7</td>\n",
       "      <td>2012-01</td>\n",
       "    </tr>\n",
       "    <tr>\n",
       "      <th>103</th>\n",
       "      <td>1</td>\n",
       "      <td>2012-01-27</td>\n",
       "      <td>1319326</td>\n",
       "      <td>0</td>\n",
       "      <td>54</td>\n",
       "      <td>3</td>\n",
       "      <td>220</td>\n",
       "      <td>7</td>\n",
       "      <td>2012-01</td>\n",
       "    </tr>\n",
       "    <tr>\n",
       "      <th>104</th>\n",
       "      <td>1</td>\n",
       "      <td>2012-02-03</td>\n",
       "      <td>1636340</td>\n",
       "      <td>0</td>\n",
       "      <td>57</td>\n",
       "      <td>3</td>\n",
       "      <td>220</td>\n",
       "      <td>7</td>\n",
       "      <td>2012-02</td>\n",
       "    </tr>\n",
       "    <tr>\n",
       "      <th>...</th>\n",
       "      <td>...</td>\n",
       "      <td>...</td>\n",
       "      <td>...</td>\n",
       "      <td>...</td>\n",
       "      <td>...</td>\n",
       "      <td>...</td>\n",
       "      <td>...</td>\n",
       "      <td>...</td>\n",
       "      <td>...</td>\n",
       "    </tr>\n",
       "    <tr>\n",
       "      <th>6430</th>\n",
       "      <td>45</td>\n",
       "      <td>2012-09-28</td>\n",
       "      <td>713174</td>\n",
       "      <td>0</td>\n",
       "      <td>65</td>\n",
       "      <td>4</td>\n",
       "      <td>192</td>\n",
       "      <td>9</td>\n",
       "      <td>2012-09</td>\n",
       "    </tr>\n",
       "    <tr>\n",
       "      <th>6431</th>\n",
       "      <td>45</td>\n",
       "      <td>2012-10-05</td>\n",
       "      <td>733455</td>\n",
       "      <td>0</td>\n",
       "      <td>65</td>\n",
       "      <td>4</td>\n",
       "      <td>192</td>\n",
       "      <td>9</td>\n",
       "      <td>2012-10</td>\n",
       "    </tr>\n",
       "    <tr>\n",
       "      <th>6432</th>\n",
       "      <td>45</td>\n",
       "      <td>2012-10-12</td>\n",
       "      <td>734464</td>\n",
       "      <td>0</td>\n",
       "      <td>54</td>\n",
       "      <td>4</td>\n",
       "      <td>192</td>\n",
       "      <td>9</td>\n",
       "      <td>2012-10</td>\n",
       "    </tr>\n",
       "    <tr>\n",
       "      <th>6433</th>\n",
       "      <td>45</td>\n",
       "      <td>2012-10-19</td>\n",
       "      <td>718126</td>\n",
       "      <td>0</td>\n",
       "      <td>56</td>\n",
       "      <td>4</td>\n",
       "      <td>192</td>\n",
       "      <td>9</td>\n",
       "      <td>2012-10</td>\n",
       "    </tr>\n",
       "    <tr>\n",
       "      <th>6434</th>\n",
       "      <td>45</td>\n",
       "      <td>2012-10-26</td>\n",
       "      <td>760281</td>\n",
       "      <td>0</td>\n",
       "      <td>59</td>\n",
       "      <td>4</td>\n",
       "      <td>192</td>\n",
       "      <td>9</td>\n",
       "      <td>2012-10</td>\n",
       "    </tr>\n",
       "  </tbody>\n",
       "</table>\n",
       "<p>1935 rows × 9 columns</p>\n",
       "</div>"
      ],
      "text/plain": [
       "      Store       Date  Weekly_Sales  Holiday_Flag  Temperature  Fuel_Price  \\\n",
       "100       1 2012-01-06       1550370             0           49           3   \n",
       "101       1 2012-01-13       1459601             0           49           3   \n",
       "102       1 2012-01-20       1394394             0           54           3   \n",
       "103       1 2012-01-27       1319326             0           54           3   \n",
       "104       1 2012-02-03       1636340             0           57           3   \n",
       "...     ...        ...           ...           ...          ...         ...   \n",
       "6430     45 2012-09-28        713174             0           65           4   \n",
       "6431     45 2012-10-05        733455             0           65           4   \n",
       "6432     45 2012-10-12        734464             0           54           4   \n",
       "6433     45 2012-10-19        718126             0           56           4   \n",
       "6434     45 2012-10-26        760281             0           59           4   \n",
       "\n",
       "      CPI  Unemployment      Y-M  \n",
       "100   220             7  2012-01  \n",
       "101   220             7  2012-01  \n",
       "102   220             7  2012-01  \n",
       "103   220             7  2012-01  \n",
       "104   220             7  2012-02  \n",
       "...   ...           ...      ...  \n",
       "6430  192             9  2012-09  \n",
       "6431  192             9  2012-10  \n",
       "6432  192             9  2012-10  \n",
       "6433  192             9  2012-10  \n",
       "6434  192             9  2012-10  \n",
       "\n",
       "[1935 rows x 9 columns]"
      ]
     },
     "execution_count": 43,
     "metadata": {},
     "output_type": "execute_result"
    }
   ],
   "source": [
    "sales_data[sales_data['Date'].dt.year == 2012]"
   ]
  },
  {
   "cell_type": "code",
   "execution_count": 47,
   "metadata": {},
   "outputs": [
    {
     "data": {
      "text/html": [
       "<div>\n",
       "<style scoped>\n",
       "    .dataframe tbody tr th:only-of-type {\n",
       "        vertical-align: middle;\n",
       "    }\n",
       "\n",
       "    .dataframe tbody tr th {\n",
       "        vertical-align: top;\n",
       "    }\n",
       "\n",
       "    .dataframe thead th {\n",
       "        text-align: right;\n",
       "    }\n",
       "</style>\n",
       "<table border=\"1\" class=\"dataframe\">\n",
       "  <thead>\n",
       "    <tr style=\"text-align: right;\">\n",
       "      <th></th>\n",
       "      <th>Store</th>\n",
       "      <th>Date</th>\n",
       "      <th>Weekly_Sales</th>\n",
       "      <th>Holiday_Flag</th>\n",
       "      <th>Temperature</th>\n",
       "      <th>Fuel_Price</th>\n",
       "      <th>CPI</th>\n",
       "      <th>Unemployment</th>\n",
       "      <th>Y-M</th>\n",
       "    </tr>\n",
       "  </thead>\n",
       "  <tbody>\n",
       "    <tr>\n",
       "      <th>4</th>\n",
       "      <td>1</td>\n",
       "      <td>2010-03-05</td>\n",
       "      <td>1554807</td>\n",
       "      <td>0</td>\n",
       "      <td>46</td>\n",
       "      <td>3</td>\n",
       "      <td>211</td>\n",
       "      <td>8</td>\n",
       "      <td>2010-03</td>\n",
       "    </tr>\n",
       "    <tr>\n",
       "      <th>5</th>\n",
       "      <td>1</td>\n",
       "      <td>2010-03-12</td>\n",
       "      <td>1439542</td>\n",
       "      <td>0</td>\n",
       "      <td>58</td>\n",
       "      <td>3</td>\n",
       "      <td>211</td>\n",
       "      <td>8</td>\n",
       "      <td>2010-03</td>\n",
       "    </tr>\n",
       "    <tr>\n",
       "      <th>6</th>\n",
       "      <td>1</td>\n",
       "      <td>2010-03-19</td>\n",
       "      <td>1472516</td>\n",
       "      <td>0</td>\n",
       "      <td>55</td>\n",
       "      <td>3</td>\n",
       "      <td>211</td>\n",
       "      <td>8</td>\n",
       "      <td>2010-03</td>\n",
       "    </tr>\n",
       "    <tr>\n",
       "      <th>7</th>\n",
       "      <td>1</td>\n",
       "      <td>2010-03-26</td>\n",
       "      <td>1404430</td>\n",
       "      <td>0</td>\n",
       "      <td>51</td>\n",
       "      <td>3</td>\n",
       "      <td>211</td>\n",
       "      <td>8</td>\n",
       "      <td>2010-03</td>\n",
       "    </tr>\n",
       "    <tr>\n",
       "      <th>56</th>\n",
       "      <td>1</td>\n",
       "      <td>2011-03-04</td>\n",
       "      <td>1636263</td>\n",
       "      <td>0</td>\n",
       "      <td>60</td>\n",
       "      <td>3</td>\n",
       "      <td>214</td>\n",
       "      <td>8</td>\n",
       "      <td>2011-03</td>\n",
       "    </tr>\n",
       "    <tr>\n",
       "      <th>...</th>\n",
       "      <td>...</td>\n",
       "      <td>...</td>\n",
       "      <td>...</td>\n",
       "      <td>...</td>\n",
       "      <td>...</td>\n",
       "      <td>...</td>\n",
       "      <td>...</td>\n",
       "      <td>...</td>\n",
       "      <td>...</td>\n",
       "    </tr>\n",
       "    <tr>\n",
       "      <th>6400</th>\n",
       "      <td>45</td>\n",
       "      <td>2012-03-02</td>\n",
       "      <td>782796</td>\n",
       "      <td>0</td>\n",
       "      <td>42</td>\n",
       "      <td>4</td>\n",
       "      <td>190</td>\n",
       "      <td>8</td>\n",
       "      <td>2012-03</td>\n",
       "    </tr>\n",
       "    <tr>\n",
       "      <th>6401</th>\n",
       "      <td>45</td>\n",
       "      <td>2012-03-09</td>\n",
       "      <td>776969</td>\n",
       "      <td>0</td>\n",
       "      <td>46</td>\n",
       "      <td>4</td>\n",
       "      <td>190</td>\n",
       "      <td>8</td>\n",
       "      <td>2012-03</td>\n",
       "    </tr>\n",
       "    <tr>\n",
       "      <th>6402</th>\n",
       "      <td>45</td>\n",
       "      <td>2012-03-16</td>\n",
       "      <td>788340</td>\n",
       "      <td>0</td>\n",
       "      <td>51</td>\n",
       "      <td>4</td>\n",
       "      <td>190</td>\n",
       "      <td>8</td>\n",
       "      <td>2012-03</td>\n",
       "    </tr>\n",
       "    <tr>\n",
       "      <th>6403</th>\n",
       "      <td>45</td>\n",
       "      <td>2012-03-23</td>\n",
       "      <td>791835</td>\n",
       "      <td>0</td>\n",
       "      <td>59</td>\n",
       "      <td>4</td>\n",
       "      <td>191</td>\n",
       "      <td>8</td>\n",
       "      <td>2012-03</td>\n",
       "    </tr>\n",
       "    <tr>\n",
       "      <th>6404</th>\n",
       "      <td>45</td>\n",
       "      <td>2012-03-30</td>\n",
       "      <td>777254</td>\n",
       "      <td>0</td>\n",
       "      <td>50</td>\n",
       "      <td>4</td>\n",
       "      <td>191</td>\n",
       "      <td>8</td>\n",
       "      <td>2012-03</td>\n",
       "    </tr>\n",
       "  </tbody>\n",
       "</table>\n",
       "<p>585 rows × 9 columns</p>\n",
       "</div>"
      ],
      "text/plain": [
       "      Store       Date  Weekly_Sales  Holiday_Flag  Temperature  Fuel_Price  \\\n",
       "4         1 2010-03-05       1554807             0           46           3   \n",
       "5         1 2010-03-12       1439542             0           58           3   \n",
       "6         1 2010-03-19       1472516             0           55           3   \n",
       "7         1 2010-03-26       1404430             0           51           3   \n",
       "56        1 2011-03-04       1636263             0           60           3   \n",
       "...     ...        ...           ...           ...          ...         ...   \n",
       "6400     45 2012-03-02        782796             0           42           4   \n",
       "6401     45 2012-03-09        776969             0           46           4   \n",
       "6402     45 2012-03-16        788340             0           51           4   \n",
       "6403     45 2012-03-23        791835             0           59           4   \n",
       "6404     45 2012-03-30        777254             0           50           4   \n",
       "\n",
       "      CPI  Unemployment      Y-M  \n",
       "4     211             8  2010-03  \n",
       "5     211             8  2010-03  \n",
       "6     211             8  2010-03  \n",
       "7     211             8  2010-03  \n",
       "56    214             8  2011-03  \n",
       "...   ...           ...      ...  \n",
       "6400  190             8  2012-03  \n",
       "6401  190             8  2012-03  \n",
       "6402  190             8  2012-03  \n",
       "6403  191             8  2012-03  \n",
       "6404  191             8  2012-03  \n",
       "\n",
       "[585 rows x 9 columns]"
      ]
     },
     "execution_count": 47,
     "metadata": {},
     "output_type": "execute_result"
    }
   ],
   "source": [
    "sales_data[sales_data['Date'].dt.month == 3]"
   ]
  },
  {
   "cell_type": "markdown",
   "metadata": {},
   "source": [
    "### Manejo de Strings"
   ]
  },
  {
   "cell_type": "code",
   "execution_count": 27,
   "metadata": {},
   "outputs": [
    {
     "data": {
      "text/html": [
       "<div>\n",
       "<style scoped>\n",
       "    .dataframe tbody tr th:only-of-type {\n",
       "        vertical-align: middle;\n",
       "    }\n",
       "\n",
       "    .dataframe tbody tr th {\n",
       "        vertical-align: top;\n",
       "    }\n",
       "\n",
       "    .dataframe thead th {\n",
       "        text-align: right;\n",
       "    }\n",
       "</style>\n",
       "<table border=\"1\" class=\"dataframe\">\n",
       "  <thead>\n",
       "    <tr style=\"text-align: right;\">\n",
       "      <th></th>\n",
       "      <th>store</th>\n",
       "      <th>city</th>\n",
       "      <th>country</th>\n",
       "      <th>address</th>\n",
       "    </tr>\n",
       "  </thead>\n",
       "  <tbody>\n",
       "    <tr>\n",
       "      <th>0</th>\n",
       "      <td>1</td>\n",
       "      <td>Honolulu</td>\n",
       "      <td>United States</td>\n",
       "      <td>09 Florence Way</td>\n",
       "    </tr>\n",
       "    <tr>\n",
       "      <th>1</th>\n",
       "      <td>2</td>\n",
       "      <td>Tulsa</td>\n",
       "      <td>United States</td>\n",
       "      <td>97 Hollow Ridge Hill</td>\n",
       "    </tr>\n",
       "    <tr>\n",
       "      <th>2</th>\n",
       "      <td>3</td>\n",
       "      <td>Tacoma</td>\n",
       "      <td>United States</td>\n",
       "      <td>1741 Center Court</td>\n",
       "    </tr>\n",
       "    <tr>\n",
       "      <th>3</th>\n",
       "      <td>4</td>\n",
       "      <td>Madison</td>\n",
       "      <td>United States</td>\n",
       "      <td>3879 Valley Edge Way</td>\n",
       "    </tr>\n",
       "    <tr>\n",
       "      <th>4</th>\n",
       "      <td>5</td>\n",
       "      <td>Sacramento</td>\n",
       "      <td>United States</td>\n",
       "      <td>76 Ludington Way</td>\n",
       "    </tr>\n",
       "  </tbody>\n",
       "</table>\n",
       "</div>"
      ],
      "text/plain": [
       "   store        city        country               address\n",
       "0      1    Honolulu  United States       09 Florence Way\n",
       "1      2       Tulsa  United States  97 Hollow Ridge Hill\n",
       "2      3      Tacoma  United States     1741 Center Court\n",
       "3      4     Madison  United States  3879 Valley Edge Way\n",
       "4      5  Sacramento  United States      76 Ludington Way"
      ]
     },
     "execution_count": 27,
     "metadata": {},
     "output_type": "execute_result"
    }
   ],
   "source": [
    "store = pd.read_csv(path_data + '/storedesc.csv')\n",
    "store.head()"
   ]
  },
  {
   "cell_type": "markdown",
   "metadata": {},
   "source": [
    "#### Dividir una columna de texto en varias columnas"
   ]
  },
  {
   "cell_type": "code",
   "execution_count": 34,
   "metadata": {},
   "outputs": [
    {
     "data": {
      "text/plain": [
       "0    3\n",
       "1    4\n",
       "2    3\n",
       "3    4\n",
       "4    3\n",
       "Name: address, dtype: int64"
      ]
     },
     "execution_count": 34,
     "metadata": {},
     "output_type": "execute_result"
    }
   ],
   "source": [
    "store['address'].str.split(' ').apply(lambda x: len(x)).head()"
   ]
  },
  {
   "cell_type": "code",
   "execution_count": 39,
   "metadata": {},
   "outputs": [
    {
     "data": {
      "text/plain": [
       "0         [09, Florence, Way]\n",
       "1    [97, Hollow, Ridge Hill]\n",
       "2       [1741, Center, Court]\n",
       "3    [3879, Valley, Edge Way]\n",
       "4        [76, Ludington, Way]\n",
       "Name: address, dtype: object"
      ]
     },
     "execution_count": 39,
     "metadata": {},
     "output_type": "execute_result"
    }
   ],
   "source": [
    "store['address'].str.split(' ', n=2).head()"
   ]
  },
  {
   "cell_type": "markdown",
   "metadata": {},
   "source": [
    "#### Quitar numeros de un string"
   ]
  },
  {
   "cell_type": "code",
   "execution_count": 43,
   "metadata": {},
   "outputs": [
    {
     "data": {
      "text/plain": [
       "0          Florence Way\n",
       "1     Hollow Ridge Hill\n",
       "2          Center Court\n",
       "3       Valley Edge Way\n",
       "4         Ludington Way\n",
       "Name: address, dtype: object"
      ]
     },
     "execution_count": 43,
     "metadata": {},
     "output_type": "execute_result"
    }
   ],
   "source": [
    "import re\n",
    "\n",
    "# quitar los números de la dirección\n",
    "def remove_numbers(text):\n",
    "    return re.sub(r'\\d+', '', text)\n",
    "\n",
    "store['address'].apply(remove_numbers).head()"
   ]
  },
  {
   "cell_type": "markdown",
   "metadata": {},
   "source": [
    "**Introducción a la librería re de Python**\n",
    "\n",
    "La librería re de Python proporciona un conjunto de funciones que te permiten trabajar con expresiones regulares. Las expresiones regulares son secuencias de caracteres que definen patrones de búsqueda. Son increíblemente útiles para tareas como la validación de datos, la búsqueda y extracción de información, y la manipulación de cadenas de texto."
   ]
  },
  {
   "cell_type": "code",
   "execution_count": 44,
   "metadata": {},
   "outputs": [
    {
     "data": {
      "text/plain": [
       "' Main Street'"
      ]
     },
     "execution_count": 44,
     "metadata": {},
     "output_type": "execute_result"
    }
   ],
   "source": [
    "\"\"\"\n",
    "Compila un patrón de expresión regular en un objeto de expresión regular, \n",
    "que puede ser usado para búsquedas posteriores. \n",
    "Esto mejora el rendimiento si vas a usar la misma expresión \n",
    "regular varias veces.\n",
    "\"\"\"\n",
    "\n",
    "import re\n",
    "\n",
    "pattern = re.compile(r'\\d+')\n",
    "result = pattern.sub('', '1234 Main Street')\n",
    "result"
   ]
  },
  {
   "cell_type": "code",
   "execution_count": 49,
   "metadata": {},
   "outputs": [
    {
     "data": {
      "text/plain": [
       "'1234'"
      ]
     },
     "execution_count": 49,
     "metadata": {},
     "output_type": "execute_result"
    }
   ],
   "source": [
    "\"\"\"\n",
    "Escanea una cadena de texto buscando la primera ubicación \n",
    "donde coincide la expresión regular y devuelve \n",
    "un objeto de coincidencia.\n",
    "\"\"\"\n",
    "\n",
    "texto = \"\"\"\n",
    "Esto es un texto de ejemplo que \n",
    "contiene un número 1234 en medio del texto y otro número 5678 al final.\n",
    "\"\"\"\n",
    "\n",
    "result = re.search(r'\\d+', texto)\n",
    "result.group()"
   ]
  },
  {
   "cell_type": "code",
   "execution_count": 50,
   "metadata": {},
   "outputs": [
    {
     "data": {
      "text/plain": [
       "['1234', '5678']"
      ]
     },
     "execution_count": 50,
     "metadata": {},
     "output_type": "execute_result"
    }
   ],
   "source": [
    "result2 = re.findall(r'\\d+', texto)\n",
    "result2"
   ]
  },
  {
   "cell_type": "code",
   "execution_count": 51,
   "metadata": {},
   "outputs": [
    {
     "data": {
      "text/plain": [
       "'TCKT-1234'"
      ]
     },
     "execution_count": 51,
     "metadata": {},
     "output_type": "execute_result"
    }
   ],
   "source": [
    "\"\"\"\n",
    "Encontrar un patrón en una cadena de texto y obtener los \n",
    "5 caracteres siguientes a la coincidencia.\n",
    "\"\"\"\n",
    "texto = \"\"\" El ticket de compra es TCKT-1234-5678-9012-3456 \n",
    "por favor guarde este ticket para futuras referencias.\"\"\"\n",
    "result3 = re.search(r'TCKT-\\d{4}', texto)\n",
    "result3.group()"
   ]
  },
  {
   "cell_type": "markdown",
   "metadata": {},
   "source": [
    "#### Guias de expresiones regulares\n",
    "[Guias de expresiones regulares](./regex.md)"
   ]
  },
  {
   "cell_type": "markdown",
   "metadata": {},
   "source": [
    "## Decoradores"
   ]
  },
  {
   "cell_type": "code",
   "execution_count": 97,
   "metadata": {},
   "outputs": [
    {
     "name": "stdout",
     "output_type": "stream",
     "text": [
      "   col1    col2\n",
      "0     1    Abc \n",
      "1     2   DEF  \n",
      "2     3    GHI!\n",
      "3  none    None\n",
      "   col1  col2\n",
      "0     1   abc\n",
      "1     2   def\n",
      "2     3  ghi!\n",
      "3  None  none\n"
     ]
    }
   ],
   "source": [
    "import pandas as pd\n",
    "\n",
    "# Funciones predefinidas de limpieza\n",
    "def limpiar_datos_numericos(df, columna):\n",
    "    \"\"\"\n",
    "    Limpia una columna numérica del DataFrame.\n",
    "\n",
    "    Args:\n",
    "        df: DataFrame de Pandas.\n",
    "        columna: Nombre de la columna a limpiar.\n",
    "\n",
    "    Returns:\n",
    "        DataFrame con la columna limpia.\n",
    "    \"\"\"\n",
    "    # Implementación para limpiar datos numéricos\n",
    "    if df[columna].dtype == 'int' or df[columna].dtype == 'float':\n",
    "        df[columna] = pd.to_numeric(df[columna], errors='coerce')\n",
    "        df[columna] = df[columna].fillna(df[columna].median())\n",
    "    return df\n",
    "\n",
    "def limpiar_datos_texto(df, columna):\n",
    "    \"\"\"\n",
    "    Limpia una columna de texto del DataFrame.\n",
    "\n",
    "    Args:\n",
    "        df: DataFrame de Pandas.\n",
    "        columna: Nombre de la columna a limpiar.\n",
    "\n",
    "    Returns:\n",
    "        DataFrame con la columna limpia.\n",
    "    \"\"\"\n",
    "    # Implementación para limpiar datos de texto\n",
    "    if df[columna].dtype == 'object':\n",
    "        df[columna] = df[columna].astype(str).str.lower()\n",
    "        df[columna] = df[columna].astype(str).str.strip()\n",
    "    return df\n",
    "\n",
    "# Decorador para encadenar funciones\n",
    "def encadenar_funciones(*funcs):\n",
    "    \"\"\"\n",
    "    Encadena múltiples funciones de limpieza.\n",
    "\n",
    "    Args:\n",
    "        *funcs: Funciones de limpieza a encadenar.\n",
    "\n",
    "    Returns:\n",
    "        Función decoradora que aplica las funciones encadenadas.\n",
    "    \"\"\"\n",
    "    def decorador(func):\n",
    "        def wrapper(df, columna):\n",
    "            for f in funcs:\n",
    "                df = f(df, columna)\n",
    "            return func(df, columna)\n",
    "        return wrapper\n",
    "    return decorador\n",
    "\n",
    "# Ejemplo de uso\n",
    "@encadenar_funciones(limpiar_datos_numericos, limpiar_datos_texto)\n",
    "def procesar_columna(df, columna):\n",
    "    \"\"\"\n",
    "    Procesa una columna aplicando las funciones de limpieza encadenadas.\n",
    "\n",
    "    Args:\n",
    "        df: DataFrame de Pandas.\n",
    "        columna: Nombre de la columna a procesar.\n",
    "\n",
    "    Returns:\n",
    "        DataFrame con la columna procesada.\n",
    "    \"\"\"\n",
    "    # Puedes añadir más procesamiento aquí si es necesario\n",
    "    return df\n",
    "\n",
    "if __name__ == '__main__':\n",
    "    \n",
    "    # Crear un DataFrame de ejemplo\n",
    "    data = {'col1': [1, 2, '3', None], 'col2': ['  Abc ', ' DEF  ', 'GHI!', None]}\n",
    "    df = pd.DataFrame(data)\n",
    "\n",
    "    # Procesar la columna 'col1'\n",
    "    df2 = procesar_columna(df.copy(), 'col1')\n",
    "    print(df2)\n",
    "\n",
    "    # Procesar la columna 'col2'\n",
    "    df3 = procesar_columna(df.copy(), 'col2')\n",
    "    print(df3)"
   ]
  },
  {
   "cell_type": "markdown",
   "metadata": {},
   "source": [
    "## Polars"
   ]
  },
  {
   "cell_type": "code",
   "execution_count": 60,
   "metadata": {},
   "outputs": [
    {
     "data": {
      "text/html": [
       "<div><style>\n",
       ".dataframe > thead > tr,\n",
       ".dataframe > tbody > tr {\n",
       "  text-align: right;\n",
       "  white-space: pre-wrap;\n",
       "}\n",
       "</style>\n",
       "<small>shape: (2, 8)</small><table border=\"1\" class=\"dataframe\"><thead><tr><th>Store</th><th>Date</th><th>Weekly_Sales</th><th>Holiday_Flag</th><th>Temperature</th><th>Fuel_Price</th><th>CPI</th><th>Unemployment</th></tr><tr><td>i64</td><td>str</td><td>f64</td><td>i64</td><td>f64</td><td>f64</td><td>f64</td><td>f64</td></tr></thead><tbody><tr><td>1</td><td>&quot;05-02-2010&quot;</td><td>1643690.9</td><td>0</td><td>42.31</td><td>2.572</td><td>211.096358</td><td>8.106</td></tr><tr><td>1</td><td>&quot;12-02-2010&quot;</td><td>1.6420e6</td><td>1</td><td>38.51</td><td>2.548</td><td>211.24217</td><td>8.106</td></tr></tbody></table></div>"
      ],
      "text/plain": [
       "shape: (2, 8)\n",
       "┌───────┬────────────┬────────────┬────────────┬────────────┬────────────┬────────────┬────────────┐\n",
       "│ Store ┆ Date       ┆ Weekly_Sal ┆ Holiday_Fl ┆ Temperatur ┆ Fuel_Price ┆ CPI        ┆ Unemployme │\n",
       "│ ---   ┆ ---        ┆ es         ┆ ag         ┆ e          ┆ ---        ┆ ---        ┆ nt         │\n",
       "│ i64   ┆ str        ┆ ---        ┆ ---        ┆ ---        ┆ f64        ┆ f64        ┆ ---        │\n",
       "│       ┆            ┆ f64        ┆ i64        ┆ f64        ┆            ┆            ┆ f64        │\n",
       "╞═══════╪════════════╪════════════╪════════════╪════════════╪════════════╪════════════╪════════════╡\n",
       "│ 1     ┆ 05-02-2010 ┆ 1643690.9  ┆ 0          ┆ 42.31      ┆ 2.572      ┆ 211.096358 ┆ 8.106      │\n",
       "│ 1     ┆ 12-02-2010 ┆ 1.6420e6   ┆ 1          ┆ 38.51      ┆ 2.548      ┆ 211.24217  ┆ 8.106      │\n",
       "└───────┴────────────┴────────────┴────────────┴────────────┴────────────┴────────────┴────────────┘"
      ]
     },
     "execution_count": 60,
     "metadata": {},
     "output_type": "execute_result"
    }
   ],
   "source": [
    "sales_data_pl = pl.read_csv(os.path.join(path_data, 'sales.csv'))\n",
    "sales_data_pl.head(2)"
   ]
  },
  {
   "cell_type": "code",
   "execution_count": 61,
   "metadata": {},
   "outputs": [
    {
     "data": {
      "text/plain": [
       "Schema([('Store', Int64),\n",
       "        ('Date', String),\n",
       "        ('Weekly_Sales', Float64),\n",
       "        ('Holiday_Flag', Int64),\n",
       "        ('Temperature', Float64),\n",
       "        ('Fuel_Price', Float64),\n",
       "        ('CPI', Float64),\n",
       "        ('Unemployment', Float64)])"
      ]
     },
     "execution_count": 61,
     "metadata": {},
     "output_type": "execute_result"
    }
   ],
   "source": [
    "sales_data_pl.schema"
   ]
  },
  {
   "cell_type": "code",
   "execution_count": 64,
   "metadata": {},
   "outputs": [
    {
     "data": {
      "text/plain": [
       "Schema([('Store', Int32),\n",
       "        ('Date', Date),\n",
       "        ('Weekly_Sales', Float64),\n",
       "        ('Holiday_Flag', Int32),\n",
       "        ('Temperature', Float64),\n",
       "        ('Fuel_Price', Float64),\n",
       "        ('CPI', Float64),\n",
       "        ('Unemployment', Float64)])"
      ]
     },
     "execution_count": 64,
     "metadata": {},
     "output_type": "execute_result"
    }
   ],
   "source": [
    "# Cambiar el tipo de dato de la columna Date\n",
    "sales_data_pl = pl.read_csv(os.path.join(path_data, 'sales.csv'),\n",
    "                            schema=pl.Schema({\n",
    "                                'Store': pl.Int32(),\n",
    "                                'Date': pl.Date(),\n",
    "                                'Weekly_Sales': pl.Float64(),\n",
    "                                'Holiday_Flag': pl.Int32(),\n",
    "                                'Temperature': pl.Float64(),\n",
    "                                'Fuel_Price': pl.Float64(),\n",
    "                                'CPI': pl.Float64(),\n",
    "                                'Unemployment': pl.Float64(),\n",
    "                            })\n",
    "                            )\n",
    "sales_data_pl.schema"
   ]
  },
  {
   "cell_type": "code",
   "execution_count": 65,
   "metadata": {},
   "outputs": [
    {
     "data": {
      "text/html": [
       "<div><style>\n",
       ".dataframe > thead > tr,\n",
       ".dataframe > tbody > tr {\n",
       "  text-align: right;\n",
       "  white-space: pre-wrap;\n",
       "}\n",
       "</style>\n",
       "<small>shape: (2, 8)</small><table border=\"1\" class=\"dataframe\"><thead><tr><th>Store</th><th>Date</th><th>Weekly_Sales</th><th>Holiday_Flag</th><th>Temperature</th><th>Fuel_Price</th><th>CPI</th><th>Unemployment</th></tr><tr><td>i32</td><td>date</td><td>f64</td><td>i32</td><td>f64</td><td>f64</td><td>f64</td><td>f64</td></tr></thead><tbody><tr><td>1</td><td>2010-02-05</td><td>1643690.9</td><td>0</td><td>42.31</td><td>2.572</td><td>211.096358</td><td>8.106</td></tr><tr><td>1</td><td>2010-02-12</td><td>1.6420e6</td><td>1</td><td>38.51</td><td>2.548</td><td>211.24217</td><td>8.106</td></tr></tbody></table></div>"
      ],
      "text/plain": [
       "shape: (2, 8)\n",
       "┌───────┬────────────┬────────────┬────────────┬────────────┬────────────┬────────────┬────────────┐\n",
       "│ Store ┆ Date       ┆ Weekly_Sal ┆ Holiday_Fl ┆ Temperatur ┆ Fuel_Price ┆ CPI        ┆ Unemployme │\n",
       "│ ---   ┆ ---        ┆ es         ┆ ag         ┆ e          ┆ ---        ┆ ---        ┆ nt         │\n",
       "│ i32   ┆ date       ┆ ---        ┆ ---        ┆ ---        ┆ f64        ┆ f64        ┆ ---        │\n",
       "│       ┆            ┆ f64        ┆ i32        ┆ f64        ┆            ┆            ┆ f64        │\n",
       "╞═══════╪════════════╪════════════╪════════════╪════════════╪════════════╪════════════╪════════════╡\n",
       "│ 1     ┆ 2010-02-05 ┆ 1643690.9  ┆ 0          ┆ 42.31      ┆ 2.572      ┆ 211.096358 ┆ 8.106      │\n",
       "│ 1     ┆ 2010-02-12 ┆ 1.6420e6   ┆ 1          ┆ 38.51      ┆ 2.548      ┆ 211.24217  ┆ 8.106      │\n",
       "└───────┴────────────┴────────────┴────────────┴────────────┴────────────┴────────────┴────────────┘"
      ]
     },
     "execution_count": 65,
     "metadata": {},
     "output_type": "execute_result"
    }
   ],
   "source": [
    "sales_data_pl.head(2)"
   ]
  },
  {
   "cell_type": "markdown",
   "metadata": {},
   "source": [
    "#### Manejo de Fechas"
   ]
  },
  {
   "cell_type": "code",
   "execution_count": 68,
   "metadata": {},
   "outputs": [
    {
     "ename": "TypeError",
     "evalue": "cannot convert Python type 'str' to Date",
     "output_type": "error",
     "traceback": [
      "\u001b[1;31m---------------------------------------------------------------------------\u001b[0m",
      "\u001b[1;31mTypeError\u001b[0m                                 Traceback (most recent call last)",
      "Cell \u001b[1;32mIn[68], line 1\u001b[0m\n\u001b[1;32m----> 1\u001b[0m sales_data_pl\u001b[38;5;241m.\u001b[39mfilter(sales_data_pl[\u001b[38;5;124m'\u001b[39m\u001b[38;5;124mDate\u001b[39m\u001b[38;5;124m'\u001b[39m] \u001b[38;5;241m==\u001b[39m \u001b[38;5;124m'\u001b[39m\u001b[38;5;124m2010-02-26\u001b[39m\u001b[38;5;124m'\u001b[39m)\u001b[38;5;241m.\u001b[39mhead()\n",
      "File \u001b[1;32mc:\\Users\\flavi\\anaconda3\\envs\\curso_cf_etl\\Lib\\site-packages\\polars\\series\\series.py:773\u001b[0m, in \u001b[0;36mSeries.__eq__\u001b[1;34m(self, other)\u001b[0m\n\u001b[0;32m    771\u001b[0m \u001b[38;5;28;01mif\u001b[39;00m \u001b[38;5;28misinstance\u001b[39m(other, pl\u001b[38;5;241m.\u001b[39mExpr):\n\u001b[0;32m    772\u001b[0m     \u001b[38;5;28;01mreturn\u001b[39;00m F\u001b[38;5;241m.\u001b[39mlit(\u001b[38;5;28mself\u001b[39m)\u001b[38;5;241m.\u001b[39m\u001b[38;5;21m__eq__\u001b[39m(other)\n\u001b[1;32m--> 773\u001b[0m \u001b[38;5;28;01mreturn\u001b[39;00m \u001b[38;5;28mself\u001b[39m\u001b[38;5;241m.\u001b[39m_comp(other, \u001b[38;5;124m\"\u001b[39m\u001b[38;5;124meq\u001b[39m\u001b[38;5;124m\"\u001b[39m)\n",
      "File \u001b[1;32mc:\\Users\\flavi\\anaconda3\\envs\\curso_cf_etl\\Lib\\site-packages\\polars\\series\\series.py:756\u001b[0m, in \u001b[0;36mSeries._comp\u001b[1;34m(self, other, op)\u001b[0m\n\u001b[0;32m    753\u001b[0m     \u001b[38;5;28;01mreturn\u001b[39;00m \u001b[38;5;28mself\u001b[39m\u001b[38;5;241m.\u001b[39m_from_pyseries(\u001b[38;5;28mgetattr\u001b[39m(\u001b[38;5;28mself\u001b[39m\u001b[38;5;241m.\u001b[39m_s, op)(other\u001b[38;5;241m.\u001b[39m_s))\n\u001b[0;32m    755\u001b[0m \u001b[38;5;28;01mif\u001b[39;00m other \u001b[38;5;129;01mis\u001b[39;00m \u001b[38;5;129;01mnot\u001b[39;00m \u001b[38;5;28;01mNone\u001b[39;00m:\n\u001b[1;32m--> 756\u001b[0m     other \u001b[38;5;241m=\u001b[39m maybe_cast(other, \u001b[38;5;28mself\u001b[39m\u001b[38;5;241m.\u001b[39mdtype)\n\u001b[0;32m    757\u001b[0m f \u001b[38;5;241m=\u001b[39m get_ffi_func(op \u001b[38;5;241m+\u001b[39m \u001b[38;5;124m\"\u001b[39m\u001b[38;5;124m_<>\u001b[39m\u001b[38;5;124m\"\u001b[39m, \u001b[38;5;28mself\u001b[39m\u001b[38;5;241m.\u001b[39mdtype, \u001b[38;5;28mself\u001b[39m\u001b[38;5;241m.\u001b[39m_s)\n\u001b[0;32m    758\u001b[0m \u001b[38;5;28;01mif\u001b[39;00m f \u001b[38;5;129;01mis\u001b[39;00m \u001b[38;5;28;01mNone\u001b[39;00m:\n",
      "File \u001b[1;32mc:\\Users\\flavi\\anaconda3\\envs\\curso_cf_etl\\Lib\\site-packages\\polars\\datatypes\\convert.py:350\u001b[0m, in \u001b[0;36mmaybe_cast\u001b[1;34m(el, dtype)\u001b[0m\n\u001b[0;32m    348\u001b[0m     \u001b[38;5;28;01mexcept\u001b[39;00m \u001b[38;5;167;01mException\u001b[39;00m:\n\u001b[0;32m    349\u001b[0m         msg \u001b[38;5;241m=\u001b[39m \u001b[38;5;124mf\u001b[39m\u001b[38;5;124m\"\u001b[39m\u001b[38;5;124mcannot convert Python type \u001b[39m\u001b[38;5;132;01m{\u001b[39;00m\u001b[38;5;28mtype\u001b[39m(el)\u001b[38;5;241m.\u001b[39m\u001b[38;5;18m__name__\u001b[39m\u001b[38;5;132;01m!r}\u001b[39;00m\u001b[38;5;124m to \u001b[39m\u001b[38;5;132;01m{\u001b[39;00mdtype\u001b[38;5;132;01m!r}\u001b[39;00m\u001b[38;5;124m\"\u001b[39m\n\u001b[1;32m--> 350\u001b[0m         \u001b[38;5;28;01mraise\u001b[39;00m \u001b[38;5;167;01mTypeError\u001b[39;00m(msg) \u001b[38;5;28;01mfrom\u001b[39;00m \u001b[38;5;28;01mNone\u001b[39;00m\n\u001b[0;32m    351\u001b[0m \u001b[38;5;28;01mreturn\u001b[39;00m el\n",
      "\u001b[1;31mTypeError\u001b[0m: cannot convert Python type 'str' to Date"
     ]
    }
   ],
   "source": [
    "sales_data_pl.filter(sales_data_pl['Date'] == '2010-02-26').head()"
   ]
  },
  {
   "cell_type": "code",
   "execution_count": 69,
   "metadata": {},
   "outputs": [
    {
     "data": {
      "text/html": [
       "<div><style>\n",
       ".dataframe > thead > tr,\n",
       ".dataframe > tbody > tr {\n",
       "  text-align: right;\n",
       "  white-space: pre-wrap;\n",
       "}\n",
       "</style>\n",
       "<small>shape: (5, 8)</small><table border=\"1\" class=\"dataframe\"><thead><tr><th>Store</th><th>Date</th><th>Weekly_Sales</th><th>Holiday_Flag</th><th>Temperature</th><th>Fuel_Price</th><th>CPI</th><th>Unemployment</th></tr><tr><td>i32</td><td>date</td><td>f64</td><td>i32</td><td>f64</td><td>f64</td><td>f64</td><td>f64</td></tr></thead><tbody><tr><td>1</td><td>2010-02-26</td><td>1.4097e6</td><td>0</td><td>46.63</td><td>2.561</td><td>211.319643</td><td>8.106</td></tr><tr><td>2</td><td>2010-02-26</td><td>1.8651e6</td><td>0</td><td>46.1</td><td>2.561</td><td>210.975957</td><td>8.324</td></tr><tr><td>3</td><td>2010-02-26</td><td>407204.86</td><td>0</td><td>52.05</td><td>2.561</td><td>214.647513</td><td>7.368</td></tr><tr><td>4</td><td>2010-02-26</td><td>1.9257e6</td><td>0</td><td>41.36</td><td>2.59</td><td>126.552286</td><td>8.623</td></tr><tr><td>5</td><td>2010-02-26</td><td>270281.63</td><td>0</td><td>46.7</td><td>2.561</td><td>211.877147</td><td>6.566</td></tr></tbody></table></div>"
      ],
      "text/plain": [
       "shape: (5, 8)\n",
       "┌───────┬────────────┬────────────┬────────────┬────────────┬────────────┬────────────┬────────────┐\n",
       "│ Store ┆ Date       ┆ Weekly_Sal ┆ Holiday_Fl ┆ Temperatur ┆ Fuel_Price ┆ CPI        ┆ Unemployme │\n",
       "│ ---   ┆ ---        ┆ es         ┆ ag         ┆ e          ┆ ---        ┆ ---        ┆ nt         │\n",
       "│ i32   ┆ date       ┆ ---        ┆ ---        ┆ ---        ┆ f64        ┆ f64        ┆ ---        │\n",
       "│       ┆            ┆ f64        ┆ i32        ┆ f64        ┆            ┆            ┆ f64        │\n",
       "╞═══════╪════════════╪════════════╪════════════╪════════════╪════════════╪════════════╪════════════╡\n",
       "│ 1     ┆ 2010-02-26 ┆ 1.4097e6   ┆ 0          ┆ 46.63      ┆ 2.561      ┆ 211.319643 ┆ 8.106      │\n",
       "│ 2     ┆ 2010-02-26 ┆ 1.8651e6   ┆ 0          ┆ 46.1       ┆ 2.561      ┆ 210.975957 ┆ 8.324      │\n",
       "│ 3     ┆ 2010-02-26 ┆ 407204.86  ┆ 0          ┆ 52.05      ┆ 2.561      ┆ 214.647513 ┆ 7.368      │\n",
       "│ 4     ┆ 2010-02-26 ┆ 1.9257e6   ┆ 0          ┆ 41.36      ┆ 2.59       ┆ 126.552286 ┆ 8.623      │\n",
       "│ 5     ┆ 2010-02-26 ┆ 270281.63  ┆ 0          ┆ 46.7       ┆ 2.561      ┆ 211.877147 ┆ 6.566      │\n",
       "└───────┴────────────┴────────────┴────────────┴────────────┴────────────┴────────────┴────────────┘"
      ]
     },
     "execution_count": 69,
     "metadata": {},
     "output_type": "execute_result"
    }
   ],
   "source": [
    "from datetime import date\n",
    "sales_data_pl.filter(sales_data_pl['Date'] == date(2010, 2, 26)).head()"
   ]
  },
  {
   "cell_type": "code",
   "execution_count": 76,
   "metadata": {},
   "outputs": [
    {
     "data": {
      "text/html": [
       "<div><style>\n",
       ".dataframe > thead > tr,\n",
       ".dataframe > tbody > tr {\n",
       "  text-align: right;\n",
       "  white-space: pre-wrap;\n",
       "}\n",
       "</style>\n",
       "<small>shape: (5, 2)</small><table border=\"1\" class=\"dataframe\"><thead><tr><th>Y-M</th><th>Total_Sales</th></tr><tr><td>str</td><td>f64</td></tr></thead><tbody><tr><td>&quot;2011-07&quot;</td><td>2.2991e8</td></tr><tr><td>&quot;2010-08&quot;</td><td>1.8764e8</td></tr><tr><td>&quot;2010-09&quot;</td><td>1.7727e8</td></tr><tr><td>&quot;2010-06&quot;</td><td>1.9225e8</td></tr><tr><td>&quot;2012-09&quot;</td><td>1.8065e8</td></tr></tbody></table></div>"
      ],
      "text/plain": [
       "shape: (5, 2)\n",
       "┌─────────┬─────────────┐\n",
       "│ Y-M     ┆ Total_Sales │\n",
       "│ ---     ┆ ---         │\n",
       "│ str     ┆ f64         │\n",
       "╞═════════╪═════════════╡\n",
       "│ 2011-07 ┆ 2.2991e8    │\n",
       "│ 2010-08 ┆ 1.8764e8    │\n",
       "│ 2010-09 ┆ 1.7727e8    │\n",
       "│ 2010-06 ┆ 1.9225e8    │\n",
       "│ 2012-09 ┆ 1.8065e8    │\n",
       "└─────────┴─────────────┘"
      ]
     },
     "execution_count": 76,
     "metadata": {},
     "output_type": "execute_result"
    }
   ],
   "source": [
    "# Agrupar por año y mes y sumar las ventas semanales\n",
    "\n",
    "sales_data_pl = sales_data_pl.with_columns(\n",
    "    pl.col('Date').dt.strftime('%Y-%m').alias('Y-M')\n",
    ")\n",
    "sales_data_pl.group_by('Y-M').agg(\n",
    "    pl.sum('Weekly_Sales').alias('Total_Sales')\n",
    "    ).head()"
   ]
  },
  {
   "cell_type": "code",
   "execution_count": 78,
   "metadata": {},
   "outputs": [
    {
     "data": {
      "text/html": [
       "<div><style>\n",
       ".dataframe > thead > tr,\n",
       ".dataframe > tbody > tr {\n",
       "  text-align: right;\n",
       "  white-space: pre-wrap;\n",
       "}\n",
       "</style>\n",
       "<small>shape: (5, 2)</small><table border=\"1\" class=\"dataframe\"><thead><tr><th>Y-M</th><th>Total_Sales</th></tr><tr><td>str</td><td>f64</td></tr></thead><tbody><tr><td>&quot;2010-03&quot;</td><td>181919802.5</td></tr><tr><td>&quot;2011-09&quot;</td><td>220847738.42</td></tr><tr><td>&quot;2010-09&quot;</td><td>177267896.37</td></tr><tr><td>&quot;2011-03&quot;</td><td>179356448.29</td></tr><tr><td>&quot;2010-02&quot;</td><td>190332983.04</td></tr></tbody></table></div>"
      ],
      "text/plain": [
       "shape: (5, 2)\n",
       "┌─────────┬──────────────┐\n",
       "│ Y-M     ┆ Total_Sales  │\n",
       "│ ---     ┆ ---          │\n",
       "│ str     ┆ f64          │\n",
       "╞═════════╪══════════════╡\n",
       "│ 2010-03 ┆ 181919802.5  │\n",
       "│ 2011-09 ┆ 220847738.42 │\n",
       "│ 2010-09 ┆ 177267896.37 │\n",
       "│ 2011-03 ┆ 179356448.29 │\n",
       "│ 2010-02 ┆ 190332983.04 │\n",
       "└─────────┴──────────────┘"
      ]
     },
     "execution_count": 78,
     "metadata": {},
     "output_type": "execute_result"
    }
   ],
   "source": [
    "pl.Config(set_fmt_float=\"full\")\n",
    "sales_data_pl.group_by('Y-M').agg(\n",
    "    pl.sum('Weekly_Sales').round(2).alias('Total_Sales')\n",
    "    ).head()"
   ]
  },
  {
   "cell_type": "code",
   "execution_count": 86,
   "metadata": {},
   "outputs": [
    {
     "data": {
      "text/html": [
       "<div><style>\n",
       ".dataframe > thead > tr,\n",
       ".dataframe > tbody > tr {\n",
       "  text-align: right;\n",
       "  white-space: pre-wrap;\n",
       "}\n",
       "</style>\n",
       "<small>shape: (6_435, 10)</small><table border=\"1\" class=\"dataframe\"><thead><tr><th>Store</th><th>Date</th><th>Weekly_Sales</th><th>Holiday_Flag</th><th>Temperature</th><th>Fuel_Price</th><th>CPI</th><th>Unemployment</th><th>Y-M</th><th>Next_Day</th></tr><tr><td>i32</td><td>date</td><td>f64</td><td>i32</td><td>f64</td><td>f64</td><td>f64</td><td>f64</td><td>str</td><td>date</td></tr></thead><tbody><tr><td>1</td><td>2010-02-05</td><td>1643690.9</td><td>0</td><td>42.31</td><td>2.572</td><td>211.0963582</td><td>8.106</td><td>&quot;2010-02&quot;</td><td>2010-02-06</td></tr><tr><td>1</td><td>2010-02-12</td><td>1641957.44</td><td>1</td><td>38.51</td><td>2.548</td><td>211.2421698</td><td>8.106</td><td>&quot;2010-02&quot;</td><td>2010-02-13</td></tr><tr><td>1</td><td>2010-02-19</td><td>1611968.17</td><td>0</td><td>39.93</td><td>2.514</td><td>211.2891429</td><td>8.106</td><td>&quot;2010-02&quot;</td><td>2010-02-20</td></tr><tr><td>1</td><td>2010-02-26</td><td>1409727.59</td><td>0</td><td>46.63</td><td>2.561</td><td>211.3196429</td><td>8.106</td><td>&quot;2010-02&quot;</td><td>2010-02-27</td></tr><tr><td>1</td><td>2010-03-05</td><td>1554806.68</td><td>0</td><td>46.5</td><td>2.625</td><td>211.3501429</td><td>8.106</td><td>&quot;2010-03&quot;</td><td>2010-03-06</td></tr><tr><td>&hellip;</td><td>&hellip;</td><td>&hellip;</td><td>&hellip;</td><td>&hellip;</td><td>&hellip;</td><td>&hellip;</td><td>&hellip;</td><td>&hellip;</td><td>&hellip;</td></tr><tr><td>45</td><td>2012-09-28</td><td>713173.95</td><td>0</td><td>64.88</td><td>3.997</td><td>192.0135577</td><td>8.684</td><td>&quot;2012-09&quot;</td><td>2012-09-29</td></tr><tr><td>45</td><td>2012-10-05</td><td>733455.07</td><td>0</td><td>64.89</td><td>3.985</td><td>192.1704115</td><td>8.667</td><td>&quot;2012-10&quot;</td><td>2012-10-06</td></tr><tr><td>45</td><td>2012-10-12</td><td>734464.36</td><td>0</td><td>54.47</td><td>4</td><td>192.3272654</td><td>8.667</td><td>&quot;2012-10&quot;</td><td>2012-10-13</td></tr><tr><td>45</td><td>2012-10-19</td><td>718125.53</td><td>0</td><td>56.47</td><td>3.969</td><td>192.3308542</td><td>8.667</td><td>&quot;2012-10&quot;</td><td>2012-10-20</td></tr><tr><td>45</td><td>2012-10-26</td><td>760281.43</td><td>0</td><td>58.85</td><td>3.882</td><td>192.3088989</td><td>8.667</td><td>&quot;2012-10&quot;</td><td>2012-10-27</td></tr></tbody></table></div>"
      ],
      "text/plain": [
       "shape: (6_435, 10)\n",
       "┌───────┬────────────┬────────────┬────────────┬───┬────────────┬────────────┬─────────┬───────────┐\n",
       "│ Store ┆ Date       ┆ Weekly_Sal ┆ Holiday_Fl ┆ … ┆ CPI        ┆ Unemployme ┆ Y-M     ┆ Next_Day  │\n",
       "│ ---   ┆ ---        ┆ es         ┆ ag         ┆   ┆ ---        ┆ nt         ┆ ---     ┆ ---       │\n",
       "│ i32   ┆ date       ┆ ---        ┆ ---        ┆   ┆ f64        ┆ ---        ┆ str     ┆ date      │\n",
       "│       ┆            ┆ f64        ┆ i32        ┆   ┆            ┆ f64        ┆         ┆           │\n",
       "╞═══════╪════════════╪════════════╪════════════╪═══╪════════════╪════════════╪═════════╪═══════════╡\n",
       "│ 1     ┆ 2010-02-05 ┆ 1643690.9  ┆ 0          ┆ … ┆ 211.096358 ┆ 8.106      ┆ 2010-02 ┆ 2010-02-0 │\n",
       "│       ┆            ┆            ┆            ┆   ┆ 2          ┆            ┆         ┆ 6         │\n",
       "│ 1     ┆ 2010-02-12 ┆ 1641957.44 ┆ 1          ┆ … ┆ 211.242169 ┆ 8.106      ┆ 2010-02 ┆ 2010-02-1 │\n",
       "│       ┆            ┆            ┆            ┆   ┆ 8          ┆            ┆         ┆ 3         │\n",
       "│ 1     ┆ 2010-02-19 ┆ 1611968.17 ┆ 0          ┆ … ┆ 211.289142 ┆ 8.106      ┆ 2010-02 ┆ 2010-02-2 │\n",
       "│       ┆            ┆            ┆            ┆   ┆ 9          ┆            ┆         ┆ 0         │\n",
       "│ 1     ┆ 2010-02-26 ┆ 1409727.59 ┆ 0          ┆ … ┆ 211.319642 ┆ 8.106      ┆ 2010-02 ┆ 2010-02-2 │\n",
       "│       ┆            ┆            ┆            ┆   ┆ 9          ┆            ┆         ┆ 7         │\n",
       "│ 1     ┆ 2010-03-05 ┆ 1554806.68 ┆ 0          ┆ … ┆ 211.350142 ┆ 8.106      ┆ 2010-03 ┆ 2010-03-0 │\n",
       "│       ┆            ┆            ┆            ┆   ┆ 9          ┆            ┆         ┆ 6         │\n",
       "│ …     ┆ …          ┆ …          ┆ …          ┆ … ┆ …          ┆ …          ┆ …       ┆ …         │\n",
       "│ 45    ┆ 2012-09-28 ┆ 713173.95  ┆ 0          ┆ … ┆ 192.013557 ┆ 8.684      ┆ 2012-09 ┆ 2012-09-2 │\n",
       "│       ┆            ┆            ┆            ┆   ┆ 7          ┆            ┆         ┆ 9         │\n",
       "│ 45    ┆ 2012-10-05 ┆ 733455.07  ┆ 0          ┆ … ┆ 192.170411 ┆ 8.667      ┆ 2012-10 ┆ 2012-10-0 │\n",
       "│       ┆            ┆            ┆            ┆   ┆ 5          ┆            ┆         ┆ 6         │\n",
       "│ 45    ┆ 2012-10-12 ┆ 734464.36  ┆ 0          ┆ … ┆ 192.327265 ┆ 8.667      ┆ 2012-10 ┆ 2012-10-1 │\n",
       "│       ┆            ┆            ┆            ┆   ┆ 4          ┆            ┆         ┆ 3         │\n",
       "│ 45    ┆ 2012-10-19 ┆ 718125.53  ┆ 0          ┆ … ┆ 192.330854 ┆ 8.667      ┆ 2012-10 ┆ 2012-10-2 │\n",
       "│       ┆            ┆            ┆            ┆   ┆ 2          ┆            ┆         ┆ 0         │\n",
       "│ 45    ┆ 2012-10-26 ┆ 760281.43  ┆ 0          ┆ … ┆ 192.308898 ┆ 8.667      ┆ 2012-10 ┆ 2012-10-2 │\n",
       "│       ┆            ┆            ┆            ┆   ┆ 9          ┆            ┆         ┆ 7         │\n",
       "└───────┴────────────┴────────────┴────────────┴───┴────────────┴────────────┴─────────┴───────────┘"
      ]
     },
     "execution_count": 86,
     "metadata": {},
     "output_type": "execute_result"
    }
   ],
   "source": [
    "from datetime import timedelta\n",
    "\n",
    "sales_data_pl.with_columns(\n",
    "    (pl.col('Date') + timedelta(days=1)).alias('Next_Day')\n",
    ")"
   ]
  },
  {
   "cell_type": "markdown",
   "metadata": {},
   "source": [
    "## Manejo de Strings"
   ]
  },
  {
   "cell_type": "code",
   "execution_count": 87,
   "metadata": {},
   "outputs": [
    {
     "data": {
      "text/html": [
       "<div><style>\n",
       ".dataframe > thead > tr,\n",
       ".dataframe > tbody > tr {\n",
       "  text-align: right;\n",
       "  white-space: pre-wrap;\n",
       "}\n",
       "</style>\n",
       "<small>shape: (2, 4)</small><table border=\"1\" class=\"dataframe\"><thead><tr><th>store</th><th>city</th><th>country</th><th>address</th></tr><tr><td>i64</td><td>str</td><td>str</td><td>str</td></tr></thead><tbody><tr><td>1</td><td>&quot;Honolulu&quot;</td><td>&quot;United States&quot;</td><td>&quot;09 Florence Way&quot;</td></tr><tr><td>2</td><td>&quot;Tulsa&quot;</td><td>&quot;United States&quot;</td><td>&quot;97 Hollow Ridge Hill&quot;</td></tr></tbody></table></div>"
      ],
      "text/plain": [
       "shape: (2, 4)\n",
       "┌───────┬──────────┬───────────────┬──────────────────────┐\n",
       "│ store ┆ city     ┆ country       ┆ address              │\n",
       "│ ---   ┆ ---      ┆ ---           ┆ ---                  │\n",
       "│ i64   ┆ str      ┆ str           ┆ str                  │\n",
       "╞═══════╪══════════╪═══════════════╪══════════════════════╡\n",
       "│ 1     ┆ Honolulu ┆ United States ┆ 09 Florence Way      │\n",
       "│ 2     ┆ Tulsa    ┆ United States ┆ 97 Hollow Ridge Hill │\n",
       "└───────┴──────────┴───────────────┴──────────────────────┘"
      ]
     },
     "execution_count": 87,
     "metadata": {},
     "output_type": "execute_result"
    }
   ],
   "source": [
    "store_pl = pl.read_csv(os.path.join(path_data, 'storedesc.csv'))\n",
    "store_pl.head(2)"
   ]
  },
  {
   "cell_type": "code",
   "execution_count": 90,
   "metadata": {},
   "outputs": [
    {
     "data": {
      "text/html": [
       "<div><style>\n",
       ".dataframe > thead > tr,\n",
       ".dataframe > tbody > tr {\n",
       "  text-align: right;\n",
       "  white-space: pre-wrap;\n",
       "}\n",
       "</style>\n",
       "<small>shape: (5, 1)</small><table border=\"1\" class=\"dataframe\"><thead><tr><th>address_split</th></tr><tr><td>list[str]</td></tr></thead><tbody><tr><td>[&quot;09&quot;, &quot;Florence&quot;, &quot;Way&quot;]</td></tr><tr><td>[&quot;97&quot;, &quot;Hollow&quot;, … &quot;Hill&quot;]</td></tr><tr><td>[&quot;1741&quot;, &quot;Center&quot;, &quot;Court&quot;]</td></tr><tr><td>[&quot;3879&quot;, &quot;Valley&quot;, … &quot;Way&quot;]</td></tr><tr><td>[&quot;76&quot;, &quot;Ludington&quot;, &quot;Way&quot;]</td></tr></tbody></table></div>"
      ],
      "text/plain": [
       "shape: (5, 1)\n",
       "┌─────────────────────────────┐\n",
       "│ address_split               │\n",
       "│ ---                         │\n",
       "│ list[str]                   │\n",
       "╞═════════════════════════════╡\n",
       "│ [\"09\", \"Florence\", \"Way\"]   │\n",
       "│ [\"97\", \"Hollow\", … \"Hill\"]  │\n",
       "│ [\"1741\", \"Center\", \"Court\"] │\n",
       "│ [\"3879\", \"Valley\", … \"Way\"] │\n",
       "│ [\"76\", \"Ludington\", \"Way\"]  │\n",
       "└─────────────────────────────┘"
      ]
     },
     "execution_count": 90,
     "metadata": {},
     "output_type": "execute_result"
    }
   ],
   "source": [
    "store_pl.select(\n",
    "    pl.col('address').str.split(' ').alias('address_split')\n",
    "    ).head()"
   ]
  },
  {
   "cell_type": "code",
   "execution_count": 91,
   "metadata": {},
   "outputs": [
    {
     "data": {
      "text/html": [
       "<div><style>\n",
       ".dataframe > thead > tr,\n",
       ".dataframe > tbody > tr {\n",
       "  text-align: right;\n",
       "  white-space: pre-wrap;\n",
       "}\n",
       "</style>\n",
       "<small>shape: (5, 1)</small><table border=\"1\" class=\"dataframe\"><thead><tr><th>address_no_numbers</th></tr><tr><td>str</td></tr></thead><tbody><tr><td>&quot; Florence Way&quot;</td></tr><tr><td>&quot; Hollow Ridge Hill&quot;</td></tr><tr><td>&quot; Center Court&quot;</td></tr><tr><td>&quot; Valley Edge Way&quot;</td></tr><tr><td>&quot; Ludington Way&quot;</td></tr></tbody></table></div>"
      ],
      "text/plain": [
       "shape: (5, 1)\n",
       "┌────────────────────┐\n",
       "│ address_no_numbers │\n",
       "│ ---                │\n",
       "│ str                │\n",
       "╞════════════════════╡\n",
       "│  Florence Way      │\n",
       "│  Hollow Ridge Hill │\n",
       "│  Center Court      │\n",
       "│  Valley Edge Way   │\n",
       "│  Ludington Way     │\n",
       "└────────────────────┘"
      ]
     },
     "execution_count": 91,
     "metadata": {},
     "output_type": "execute_result"
    }
   ],
   "source": [
    "store_pl.select(\n",
    "    pl.col('address').str.replace(r'\\d+', '').alias('address_no_numbers')\n",
    "    ).head()"
   ]
  }
 ],
 "metadata": {
  "kernelspec": {
   "display_name": "curso_cf_etl",
   "language": "python",
   "name": "python3"
  },
  "language_info": {
   "codemirror_mode": {
    "name": "ipython",
    "version": 3
   },
   "file_extension": ".py",
   "mimetype": "text/x-python",
   "name": "python",
   "nbconvert_exporter": "python",
   "pygments_lexer": "ipython3",
   "version": "3.11.9"
  }
 },
 "nbformat": 4,
 "nbformat_minor": 2
}
