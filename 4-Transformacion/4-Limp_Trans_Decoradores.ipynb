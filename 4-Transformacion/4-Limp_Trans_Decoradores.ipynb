{
 "cells": [
  {
   "cell_type": "markdown",
   "metadata": {},
   "source": [
    "# Tecnicas de Limpieza y Transformacion de datos"
   ]
  },
  {
   "cell_type": "markdown",
   "metadata": {},
   "source": [
    "## Decoradores"
   ]
  },
  {
   "cell_type": "code",
   "execution_count": 1,
   "metadata": {},
   "outputs": [],
   "source": [
    "import pandas as pd\n",
    "\n",
    "def limpiar_datos_numericos(df, columna):\n",
    "    \"\"\"\n",
    "    Limpia una columna numérica del DataFrame.\n",
    "\n",
    "    Args:\n",
    "        df: DataFrame de Pandas.\n",
    "        columna: Nombre de la columna a limpiar.\n",
    "\n",
    "    Returns:\n",
    "        DataFrame con la columna limpia.\n",
    "    \"\"\"\n",
    "    # Implementación para limpiar datos numéricos\n",
    "    if df[columna].dtype == 'int' or df[columna].dtype == 'float':\n",
    "        df[columna] = pd.to_numeric(df[columna], errors='coerce')\n",
    "        df[columna] = df[columna].fillna(df[columna].median())\n",
    "    return df\n",
    "\n",
    "def limpiar_datos_texto(df, columna):\n",
    "    \"\"\"\n",
    "    Limpia una columna de texto del DataFrame.\n",
    "\n",
    "    Args:\n",
    "        df: DataFrame de Pandas.\n",
    "        columna: Nombre de la columna a limpiar.\n",
    "\n",
    "    Returns:\n",
    "        DataFrame con la columna limpia.\n",
    "    \"\"\"\n",
    "    # Implementación para limpiar datos de texto\n",
    "    if df[columna].dtype == 'object':\n",
    "        df[columna] = df[columna].astype(str).str.lower()\n",
    "        df[columna] = df[columna].astype(str).str.strip()\n",
    "    return df\n",
    "\n",
    "def encadenar_funciones(*funcs):\n",
    "    \"\"\"\n",
    "    Encadena múltiples funciones de limpieza.\n",
    "\n",
    "    Args:\n",
    "        *funcs: Funciones de limpieza a encadenar.\n",
    "\n",
    "    Returns:\n",
    "        Función decoradora que aplica las funciones encadenadas.\n",
    "    \"\"\"\n",
    "    def decorador(func):\n",
    "        def wrapper(df, columna):\n",
    "            for f in funcs:\n",
    "                df = f(df, columna)\n",
    "            return func(df, columna)\n",
    "        return wrapper\n",
    "    return decorador"
   ]
  },
  {
   "cell_type": "code",
   "execution_count": 2,
   "metadata": {},
   "outputs": [],
   "source": [
    "@encadenar_funciones(limpiar_datos_numericos, limpiar_datos_texto)\n",
    "def procesar_columna(df, columna):\n",
    "    \"\"\"\n",
    "    Procesa una columna aplicando las funciones de limpieza encadenadas.\n",
    "\n",
    "    Args:\n",
    "        df: DataFrame de Pandas.\n",
    "        columna: Nombre de la columna a procesar.\n",
    "\n",
    "    Returns:\n",
    "        DataFrame con la columna procesada.\n",
    "    \"\"\"\n",
    "    # Puedes añadir más procesamiento aquí si es necesario\n",
    "    return df"
   ]
  },
  {
   "cell_type": "code",
   "execution_count": 4,
   "metadata": {},
   "outputs": [
    {
     "name": "stdout",
     "output_type": "stream",
     "text": [
      "   col1      col2\n",
      "0     1       Abc\n",
      "1     2     dFGH \n",
      "2     3      HSDG\n",
      "3  none      None\n",
      "   col1  col2\n",
      "0     1   abc\n",
      "1     2  dfgh\n",
      "2     3  hsdg\n",
      "3  None  none\n"
     ]
    }
   ],
   "source": [
    "data = {\n",
    "    'col1': [1,2,'3',None],\n",
    "    'col2': ['   Abc', '   dFGH ', 'HSDG', None]\n",
    "    }\n",
    "\n",
    "df = pd.DataFrame(data)\n",
    "\n",
    "df2 = procesar_columna(df.copy(), 'col1')\n",
    "print(df2)\n",
    "\n",
    "df3 = procesar_columna(df.copy(), 'col2')\n",
    "print(df3)"
   ]
  }
 ],
 "metadata": {
  "kernelspec": {
   "display_name": "curso_cf_etl",
   "language": "python",
   "name": "python3"
  },
  "language_info": {
   "codemirror_mode": {
    "name": "ipython",
    "version": 3
   },
   "file_extension": ".py",
   "mimetype": "text/x-python",
   "name": "python",
   "nbconvert_exporter": "python",
   "pygments_lexer": "ipython3",
   "version": "3.11.9"
  }
 },
 "nbformat": 4,
 "nbformat_minor": 2
}
