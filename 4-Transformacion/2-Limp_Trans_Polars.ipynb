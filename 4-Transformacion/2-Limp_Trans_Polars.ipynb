{
 "cells": [
  {
   "cell_type": "markdown",
   "metadata": {},
   "source": [
    "# Tecnicas de Limpieza y Transformacion de datos"
   ]
  },
  {
   "cell_type": "markdown",
   "metadata": {},
   "source": [
    "## Polars"
   ]
  },
  {
   "cell_type": "code",
   "execution_count": 1,
   "metadata": {},
   "outputs": [],
   "source": [
    "import polars as pl\n",
    "import os\n",
    "\n",
    "path_data = os.path.join(os.getcwd(), 'data')\n",
    "path_file = lambda x: os.path.join(path_data, x)"
   ]
  },
  {
   "cell_type": "code",
   "execution_count": 2,
   "metadata": {},
   "outputs": [
    {
     "data": {
      "text/html": [
       "<div><style>\n",
       ".dataframe > thead > tr,\n",
       ".dataframe > tbody > tr {\n",
       "  text-align: right;\n",
       "  white-space: pre-wrap;\n",
       "}\n",
       "</style>\n",
       "<small>shape: (3, 8)</small><table border=\"1\" class=\"dataframe\"><thead><tr><th>Store</th><th>Date</th><th>Weekly_Sales</th><th>Holiday_Flag</th><th>Temperature</th><th>Fuel_Price</th><th>CPI</th><th>Unemployment</th></tr><tr><td>i64</td><td>str</td><td>f64</td><td>i64</td><td>f64</td><td>f64</td><td>f64</td><td>f64</td></tr></thead><tbody><tr><td>1</td><td>&quot;05-02-2010&quot;</td><td>1643690.9</td><td>0</td><td>42.31</td><td>2.572</td><td>211.096358</td><td>8.106</td></tr><tr><td>1</td><td>&quot;12-02-2010&quot;</td><td>1.6420e6</td><td>1</td><td>38.51</td><td>2.548</td><td>211.24217</td><td>8.106</td></tr><tr><td>1</td><td>&quot;19-02-2010&quot;</td><td>1.6120e6</td><td>0</td><td>39.93</td><td>2.514</td><td>211.289143</td><td>8.106</td></tr></tbody></table></div>"
      ],
      "text/plain": [
       "shape: (3, 8)\n",
       "┌───────┬────────────┬────────────┬────────────┬────────────┬────────────┬────────────┬────────────┐\n",
       "│ Store ┆ Date       ┆ Weekly_Sal ┆ Holiday_Fl ┆ Temperatur ┆ Fuel_Price ┆ CPI        ┆ Unemployme │\n",
       "│ ---   ┆ ---        ┆ es         ┆ ag         ┆ e          ┆ ---        ┆ ---        ┆ nt         │\n",
       "│ i64   ┆ str        ┆ ---        ┆ ---        ┆ ---        ┆ f64        ┆ f64        ┆ ---        │\n",
       "│       ┆            ┆ f64        ┆ i64        ┆ f64        ┆            ┆            ┆ f64        │\n",
       "╞═══════╪════════════╪════════════╪════════════╪════════════╪════════════╪════════════╪════════════╡\n",
       "│ 1     ┆ 05-02-2010 ┆ 1643690.9  ┆ 0          ┆ 42.31      ┆ 2.572      ┆ 211.096358 ┆ 8.106      │\n",
       "│ 1     ┆ 12-02-2010 ┆ 1.6420e6   ┆ 1          ┆ 38.51      ┆ 2.548      ┆ 211.24217  ┆ 8.106      │\n",
       "│ 1     ┆ 19-02-2010 ┆ 1.6120e6   ┆ 0          ┆ 39.93      ┆ 2.514      ┆ 211.289143 ┆ 8.106      │\n",
       "└───────┴────────────┴────────────┴────────────┴────────────┴────────────┴────────────┴────────────┘"
      ]
     },
     "execution_count": 2,
     "metadata": {},
     "output_type": "execute_result"
    }
   ],
   "source": [
    "sales_data = pl.read_csv(path_file('sales.csv'))\n",
    "sales_data.head(3)"
   ]
  },
  {
   "cell_type": "code",
   "execution_count": 3,
   "metadata": {},
   "outputs": [
    {
     "data": {
      "text/plain": [
       "Schema([('Store', Int64),\n",
       "        ('Date', String),\n",
       "        ('Weekly_Sales', Float64),\n",
       "        ('Holiday_Flag', Int64),\n",
       "        ('Temperature', Float64),\n",
       "        ('Fuel_Price', Float64),\n",
       "        ('CPI', Float64),\n",
       "        ('Unemployment', Float64)])"
      ]
     },
     "execution_count": 3,
     "metadata": {},
     "output_type": "execute_result"
    }
   ],
   "source": [
    "sales_data.schema"
   ]
  },
  {
   "cell_type": "code",
   "execution_count": 5,
   "metadata": {},
   "outputs": [
    {
     "data": {
      "text/plain": [
       "Schema([('Store', Int64),\n",
       "        ('Date', Date),\n",
       "        ('Weekly_Sales', Float64),\n",
       "        ('Holiday_Flag', Int64),\n",
       "        ('Temperature', Float64),\n",
       "        ('Fuel_Price', Float64),\n",
       "        ('CPI', Float64),\n",
       "        ('Unemployment', Float64)])"
      ]
     },
     "execution_count": 5,
     "metadata": {},
     "output_type": "execute_result"
    }
   ],
   "source": [
    "sales_data = pl.read_csv(path_file('sales.csv'), \n",
    "                        schema=pl.Schema({\n",
    "                            'Store': pl.Int64(),\n",
    "                            'Date': pl.Date(),\n",
    "                            'Weekly_Sales': pl.Float64(),\n",
    "                            'Holiday_Flag': pl.Int64(),\n",
    "                            'Temperature': pl.Float64(),\n",
    "                            'Fuel_Price': pl.Float64(),\n",
    "                            'CPI': pl.Float64(),\n",
    "                            'Unemployment': pl.Float64(),\n",
    "                        }\n",
    "                        ))\n",
    "sales_data.schema"
   ]
  },
  {
   "cell_type": "code",
   "execution_count": 6,
   "metadata": {},
   "outputs": [
    {
     "data": {
      "text/html": [
       "<div><style>\n",
       ".dataframe > thead > tr,\n",
       ".dataframe > tbody > tr {\n",
       "  text-align: right;\n",
       "  white-space: pre-wrap;\n",
       "}\n",
       "</style>\n",
       "<small>shape: (5, 8)</small><table border=\"1\" class=\"dataframe\"><thead><tr><th>Store</th><th>Date</th><th>Weekly_Sales</th><th>Holiday_Flag</th><th>Temperature</th><th>Fuel_Price</th><th>CPI</th><th>Unemployment</th></tr><tr><td>i64</td><td>date</td><td>f64</td><td>i64</td><td>f64</td><td>f64</td><td>f64</td><td>f64</td></tr></thead><tbody><tr><td>1</td><td>2010-02-05</td><td>1643690.9</td><td>0</td><td>42.31</td><td>2.572</td><td>211.096358</td><td>8.106</td></tr><tr><td>1</td><td>2010-02-12</td><td>1.6420e6</td><td>1</td><td>38.51</td><td>2.548</td><td>211.24217</td><td>8.106</td></tr><tr><td>1</td><td>2010-02-19</td><td>1.6120e6</td><td>0</td><td>39.93</td><td>2.514</td><td>211.289143</td><td>8.106</td></tr><tr><td>1</td><td>2010-02-26</td><td>1.4097e6</td><td>0</td><td>46.63</td><td>2.561</td><td>211.319643</td><td>8.106</td></tr><tr><td>1</td><td>2010-03-05</td><td>1.5548e6</td><td>0</td><td>46.5</td><td>2.625</td><td>211.350143</td><td>8.106</td></tr></tbody></table></div>"
      ],
      "text/plain": [
       "shape: (5, 8)\n",
       "┌───────┬────────────┬────────────┬────────────┬────────────┬────────────┬────────────┬────────────┐\n",
       "│ Store ┆ Date       ┆ Weekly_Sal ┆ Holiday_Fl ┆ Temperatur ┆ Fuel_Price ┆ CPI        ┆ Unemployme │\n",
       "│ ---   ┆ ---        ┆ es         ┆ ag         ┆ e          ┆ ---        ┆ ---        ┆ nt         │\n",
       "│ i64   ┆ date       ┆ ---        ┆ ---        ┆ ---        ┆ f64        ┆ f64        ┆ ---        │\n",
       "│       ┆            ┆ f64        ┆ i64        ┆ f64        ┆            ┆            ┆ f64        │\n",
       "╞═══════╪════════════╪════════════╪════════════╪════════════╪════════════╪════════════╪════════════╡\n",
       "│ 1     ┆ 2010-02-05 ┆ 1643690.9  ┆ 0          ┆ 42.31      ┆ 2.572      ┆ 211.096358 ┆ 8.106      │\n",
       "│ 1     ┆ 2010-02-12 ┆ 1.6420e6   ┆ 1          ┆ 38.51      ┆ 2.548      ┆ 211.24217  ┆ 8.106      │\n",
       "│ 1     ┆ 2010-02-19 ┆ 1.6120e6   ┆ 0          ┆ 39.93      ┆ 2.514      ┆ 211.289143 ┆ 8.106      │\n",
       "│ 1     ┆ 2010-02-26 ┆ 1.4097e6   ┆ 0          ┆ 46.63      ┆ 2.561      ┆ 211.319643 ┆ 8.106      │\n",
       "│ 1     ┆ 2010-03-05 ┆ 1.5548e6   ┆ 0          ┆ 46.5       ┆ 2.625      ┆ 211.350143 ┆ 8.106      │\n",
       "└───────┴────────────┴────────────┴────────────┴────────────┴────────────┴────────────┴────────────┘"
      ]
     },
     "execution_count": 6,
     "metadata": {},
     "output_type": "execute_result"
    }
   ],
   "source": [
    "sales_data.head()"
   ]
  },
  {
   "cell_type": "markdown",
   "metadata": {},
   "source": [
    "#### Manejo de Fechas"
   ]
  },
  {
   "cell_type": "code",
   "execution_count": 7,
   "metadata": {},
   "outputs": [
    {
     "ename": "InvalidOperationError",
     "evalue": "cannot compare 'date/datetime/time' to a string value (create native python { 'date', 'datetime', 'time' } or compare to a temporal column)",
     "output_type": "error",
     "traceback": [
      "\u001b[1;31m---------------------------------------------------------------------------\u001b[0m",
      "\u001b[1;31mInvalidOperationError\u001b[0m                     Traceback (most recent call last)",
      "Cell \u001b[1;32mIn[7], line 1\u001b[0m\n\u001b[1;32m----> 1\u001b[0m sales_data\u001b[38;5;241m.\u001b[39mfilter(pl\u001b[38;5;241m.\u001b[39mcol(\u001b[38;5;124m'\u001b[39m\u001b[38;5;124mDate\u001b[39m\u001b[38;5;124m'\u001b[39m) \u001b[38;5;241m==\u001b[39m \u001b[38;5;124m'\u001b[39m\u001b[38;5;124m2010-02-05\u001b[39m\u001b[38;5;124m'\u001b[39m)\u001b[38;5;241m.\u001b[39mhead()\n",
      "File \u001b[1;32mc:\\Users\\flavi\\anaconda3\\envs\\curso_cf_etl\\Lib\\site-packages\\polars\\dataframe\\frame.py:4726\u001b[0m, in \u001b[0;36mDataFrame.filter\u001b[1;34m(self, *predicates, **constraints)\u001b[0m\n\u001b[0;32m   4572\u001b[0m \u001b[38;5;28;01mdef\u001b[39;00m \u001b[38;5;21mfilter\u001b[39m(\n\u001b[0;32m   4573\u001b[0m     \u001b[38;5;28mself\u001b[39m,\n\u001b[0;32m   4574\u001b[0m     \u001b[38;5;241m*\u001b[39mpredicates: (\n\u001b[1;32m   (...)\u001b[0m\n\u001b[0;32m   4581\u001b[0m     \u001b[38;5;241m*\u001b[39m\u001b[38;5;241m*\u001b[39mconstraints: Any,\n\u001b[0;32m   4582\u001b[0m ) \u001b[38;5;241m-\u001b[39m\u001b[38;5;241m>\u001b[39m DataFrame:\n\u001b[0;32m   4583\u001b[0m \u001b[38;5;250m    \u001b[39m\u001b[38;5;124;03m\"\"\"\u001b[39;00m\n\u001b[0;32m   4584\u001b[0m \u001b[38;5;124;03m    Filter the rows in the DataFrame based on one or more predicate expressions.\u001b[39;00m\n\u001b[0;32m   4585\u001b[0m \n\u001b[1;32m   (...)\u001b[0m\n\u001b[0;32m   4724\u001b[0m \n\u001b[0;32m   4725\u001b[0m \u001b[38;5;124;03m    \"\"\"\u001b[39;00m\n\u001b[1;32m-> 4726\u001b[0m     \u001b[38;5;28;01mreturn\u001b[39;00m \u001b[38;5;28mself\u001b[39m\u001b[38;5;241m.\u001b[39mlazy()\u001b[38;5;241m.\u001b[39mfilter(\u001b[38;5;241m*\u001b[39mpredicates, \u001b[38;5;241m*\u001b[39m\u001b[38;5;241m*\u001b[39mconstraints)\u001b[38;5;241m.\u001b[39mcollect(_eager\u001b[38;5;241m=\u001b[39m\u001b[38;5;28;01mTrue\u001b[39;00m)\n",
      "File \u001b[1;32mc:\\Users\\flavi\\anaconda3\\envs\\curso_cf_etl\\Lib\\site-packages\\polars\\lazyframe\\frame.py:2033\u001b[0m, in \u001b[0;36mLazyFrame.collect\u001b[1;34m(self, type_coercion, predicate_pushdown, projection_pushdown, simplify_expression, slice_pushdown, comm_subplan_elim, comm_subexpr_elim, cluster_with_columns, no_optimization, streaming, engine, background, _eager, **_kwargs)\u001b[0m\n\u001b[0;32m   2031\u001b[0m \u001b[38;5;66;03m# Only for testing purposes\u001b[39;00m\n\u001b[0;32m   2032\u001b[0m callback \u001b[38;5;241m=\u001b[39m _kwargs\u001b[38;5;241m.\u001b[39mget(\u001b[38;5;124m\"\u001b[39m\u001b[38;5;124mpost_opt_callback\u001b[39m\u001b[38;5;124m\"\u001b[39m, callback)\n\u001b[1;32m-> 2033\u001b[0m \u001b[38;5;28;01mreturn\u001b[39;00m wrap_df(ldf\u001b[38;5;241m.\u001b[39mcollect(callback))\n",
      "\u001b[1;31mInvalidOperationError\u001b[0m: cannot compare 'date/datetime/time' to a string value (create native python { 'date', 'datetime', 'time' } or compare to a temporal column)"
     ]
    }
   ],
   "source": [
    "sales_data.filter(pl.col('Date') == '2010-02-05').head()"
   ]
  },
  {
   "cell_type": "code",
   "execution_count": 8,
   "metadata": {},
   "outputs": [
    {
     "data": {
      "text/html": [
       "<div><style>\n",
       ".dataframe > thead > tr,\n",
       ".dataframe > tbody > tr {\n",
       "  text-align: right;\n",
       "  white-space: pre-wrap;\n",
       "}\n",
       "</style>\n",
       "<small>shape: (5, 8)</small><table border=\"1\" class=\"dataframe\"><thead><tr><th>Store</th><th>Date</th><th>Weekly_Sales</th><th>Holiday_Flag</th><th>Temperature</th><th>Fuel_Price</th><th>CPI</th><th>Unemployment</th></tr><tr><td>i64</td><td>date</td><td>f64</td><td>i64</td><td>f64</td><td>f64</td><td>f64</td><td>f64</td></tr></thead><tbody><tr><td>1</td><td>2010-02-05</td><td>1643690.9</td><td>0</td><td>42.31</td><td>2.572</td><td>211.096358</td><td>8.106</td></tr><tr><td>2</td><td>2010-02-05</td><td>2.1370e6</td><td>0</td><td>40.19</td><td>2.572</td><td>210.752605</td><td>8.324</td></tr><tr><td>3</td><td>2010-02-05</td><td>461622.22</td><td>0</td><td>45.71</td><td>2.572</td><td>214.424881</td><td>7.368</td></tr><tr><td>4</td><td>2010-02-05</td><td>2.1351e6</td><td>0</td><td>43.76</td><td>2.598</td><td>126.442065</td><td>8.623</td></tr><tr><td>5</td><td>2010-02-05</td><td>317173.1</td><td>0</td><td>39.7</td><td>2.572</td><td>211.653972</td><td>6.566</td></tr></tbody></table></div>"
      ],
      "text/plain": [
       "shape: (5, 8)\n",
       "┌───────┬────────────┬────────────┬────────────┬────────────┬────────────┬────────────┬────────────┐\n",
       "│ Store ┆ Date       ┆ Weekly_Sal ┆ Holiday_Fl ┆ Temperatur ┆ Fuel_Price ┆ CPI        ┆ Unemployme │\n",
       "│ ---   ┆ ---        ┆ es         ┆ ag         ┆ e          ┆ ---        ┆ ---        ┆ nt         │\n",
       "│ i64   ┆ date       ┆ ---        ┆ ---        ┆ ---        ┆ f64        ┆ f64        ┆ ---        │\n",
       "│       ┆            ┆ f64        ┆ i64        ┆ f64        ┆            ┆            ┆ f64        │\n",
       "╞═══════╪════════════╪════════════╪════════════╪════════════╪════════════╪════════════╪════════════╡\n",
       "│ 1     ┆ 2010-02-05 ┆ 1643690.9  ┆ 0          ┆ 42.31      ┆ 2.572      ┆ 211.096358 ┆ 8.106      │\n",
       "│ 2     ┆ 2010-02-05 ┆ 2.1370e6   ┆ 0          ┆ 40.19      ┆ 2.572      ┆ 210.752605 ┆ 8.324      │\n",
       "│ 3     ┆ 2010-02-05 ┆ 461622.22  ┆ 0          ┆ 45.71      ┆ 2.572      ┆ 214.424881 ┆ 7.368      │\n",
       "│ 4     ┆ 2010-02-05 ┆ 2.1351e6   ┆ 0          ┆ 43.76      ┆ 2.598      ┆ 126.442065 ┆ 8.623      │\n",
       "│ 5     ┆ 2010-02-05 ┆ 317173.1   ┆ 0          ┆ 39.7       ┆ 2.572      ┆ 211.653972 ┆ 6.566      │\n",
       "└───────┴────────────┴────────────┴────────────┴────────────┴────────────┴────────────┴────────────┘"
      ]
     },
     "execution_count": 8,
     "metadata": {},
     "output_type": "execute_result"
    }
   ],
   "source": [
    "from datetime import date\n",
    "sales_data.filter(pl.col('Date') == date(2010,2,5)).head()"
   ]
  },
  {
   "cell_type": "code",
   "execution_count": 9,
   "metadata": {},
   "outputs": [
    {
     "data": {
      "text/html": [
       "<div><style>\n",
       ".dataframe > thead > tr,\n",
       ".dataframe > tbody > tr {\n",
       "  text-align: right;\n",
       "  white-space: pre-wrap;\n",
       "}\n",
       "</style>\n",
       "<small>shape: (5, 2)</small><table border=\"1\" class=\"dataframe\"><thead><tr><th>Y-M</th><th>Total_Sales</th></tr><tr><td>str</td><td>f64</td></tr></thead><tbody><tr><td>&quot;2012-09&quot;</td><td>1.8065e8</td></tr><tr><td>&quot;2010-08&quot;</td><td>1.8764e8</td></tr><tr><td>&quot;2011-09&quot;</td><td>2.2085e8</td></tr><tr><td>&quot;2011-03&quot;</td><td>1.7936e8</td></tr><tr><td>&quot;2012-06&quot;</td><td>2.4061e8</td></tr></tbody></table></div>"
      ],
      "text/plain": [
       "shape: (5, 2)\n",
       "┌─────────┬─────────────┐\n",
       "│ Y-M     ┆ Total_Sales │\n",
       "│ ---     ┆ ---         │\n",
       "│ str     ┆ f64         │\n",
       "╞═════════╪═════════════╡\n",
       "│ 2012-09 ┆ 1.8065e8    │\n",
       "│ 2010-08 ┆ 1.8764e8    │\n",
       "│ 2011-09 ┆ 2.2085e8    │\n",
       "│ 2011-03 ┆ 1.7936e8    │\n",
       "│ 2012-06 ┆ 2.4061e8    │\n",
       "└─────────┴─────────────┘"
      ]
     },
     "execution_count": 9,
     "metadata": {},
     "output_type": "execute_result"
    }
   ],
   "source": [
    "sales_data = sales_data.with_columns(\n",
    "    pl.col('Date').dt.strftime('%Y-%m').alias('Y-M')\n",
    ")\n",
    "sales_data.group_by('Y-M').agg(\n",
    "    pl.sum('Weekly_Sales').alias('Total_Sales')\n",
    ").head()"
   ]
  },
  {
   "cell_type": "code",
   "execution_count": 11,
   "metadata": {},
   "outputs": [
    {
     "data": {
      "text/html": [
       "<div><style>\n",
       ".dataframe > thead > tr,\n",
       ".dataframe > tbody > tr {\n",
       "  text-align: right;\n",
       "  white-space: pre-wrap;\n",
       "}\n",
       "</style>\n",
       "<small>shape: (5, 2)</small><table border=\"1\" class=\"dataframe\"><thead><tr><th>Y-M</th><th>Total_Sales</th></tr><tr><td>str</td><td>f64</td></tr></thead><tbody><tr><td>&quot;2010-04&quot;</td><td>231412368.05</td></tr><tr><td>&quot;2011-05&quot;</td><td>181648158.16</td></tr><tr><td>&quot;2010-08&quot;</td><td>187640110.89</td></tr><tr><td>&quot;2012-02&quot;</td><td>192063579.54</td></tr><tr><td>&quot;2010-11&quot;</td><td>202853370.14</td></tr></tbody></table></div>"
      ],
      "text/plain": [
       "shape: (5, 2)\n",
       "┌─────────┬──────────────┐\n",
       "│ Y-M     ┆ Total_Sales  │\n",
       "│ ---     ┆ ---          │\n",
       "│ str     ┆ f64          │\n",
       "╞═════════╪══════════════╡\n",
       "│ 2010-04 ┆ 231412368.05 │\n",
       "│ 2011-05 ┆ 181648158.16 │\n",
       "│ 2010-08 ┆ 187640110.89 │\n",
       "│ 2012-02 ┆ 192063579.54 │\n",
       "│ 2010-11 ┆ 202853370.14 │\n",
       "└─────────┴──────────────┘"
      ]
     },
     "execution_count": 11,
     "metadata": {},
     "output_type": "execute_result"
    }
   ],
   "source": [
    "pl.Config(set_fmt_float=\"full\")\n",
    "sales_data.group_by('Y-M').agg(\n",
    "    pl.sum('Weekly_Sales').round(2).alias('Total_Sales')\n",
    ").head()"
   ]
  },
  {
   "cell_type": "code",
   "execution_count": 12,
   "metadata": {},
   "outputs": [],
   "source": [
    "from datetime import timedelta\n",
    "sales_data = sales_data.with_columns(\n",
    "    (pl.col('Date') + timedelta(days=5)).alias('Date_p5')\n",
    ")"
   ]
  },
  {
   "cell_type": "code",
   "execution_count": 13,
   "metadata": {},
   "outputs": [
    {
     "data": {
      "text/html": [
       "<div><style>\n",
       ".dataframe > thead > tr,\n",
       ".dataframe > tbody > tr {\n",
       "  text-align: right;\n",
       "  white-space: pre-wrap;\n",
       "}\n",
       "</style>\n",
       "<small>shape: (5, 10)</small><table border=\"1\" class=\"dataframe\"><thead><tr><th>Store</th><th>Date</th><th>Weekly_Sales</th><th>Holiday_Flag</th><th>Temperature</th><th>Fuel_Price</th><th>CPI</th><th>Unemployment</th><th>Y-M</th><th>Date_p5</th></tr><tr><td>i64</td><td>date</td><td>f64</td><td>i64</td><td>f64</td><td>f64</td><td>f64</td><td>f64</td><td>str</td><td>date</td></tr></thead><tbody><tr><td>1</td><td>2010-02-05</td><td>1643690.9</td><td>0</td><td>42.31</td><td>2.572</td><td>211.0963582</td><td>8.106</td><td>&quot;2010-02&quot;</td><td>2010-02-10</td></tr><tr><td>1</td><td>2010-02-12</td><td>1641957.44</td><td>1</td><td>38.51</td><td>2.548</td><td>211.2421698</td><td>8.106</td><td>&quot;2010-02&quot;</td><td>2010-02-17</td></tr><tr><td>1</td><td>2010-02-19</td><td>1611968.17</td><td>0</td><td>39.93</td><td>2.514</td><td>211.2891429</td><td>8.106</td><td>&quot;2010-02&quot;</td><td>2010-02-24</td></tr><tr><td>1</td><td>2010-02-26</td><td>1409727.59</td><td>0</td><td>46.63</td><td>2.561</td><td>211.3196429</td><td>8.106</td><td>&quot;2010-02&quot;</td><td>2010-03-03</td></tr><tr><td>1</td><td>2010-03-05</td><td>1554806.68</td><td>0</td><td>46.5</td><td>2.625</td><td>211.3501429</td><td>8.106</td><td>&quot;2010-03&quot;</td><td>2010-03-10</td></tr></tbody></table></div>"
      ],
      "text/plain": [
       "shape: (5, 10)\n",
       "┌───────┬────────────┬────────────┬────────────┬───┬────────────┬────────────┬─────────┬───────────┐\n",
       "│ Store ┆ Date       ┆ Weekly_Sal ┆ Holiday_Fl ┆ … ┆ CPI        ┆ Unemployme ┆ Y-M     ┆ Date_p5   │\n",
       "│ ---   ┆ ---        ┆ es         ┆ ag         ┆   ┆ ---        ┆ nt         ┆ ---     ┆ ---       │\n",
       "│ i64   ┆ date       ┆ ---        ┆ ---        ┆   ┆ f64        ┆ ---        ┆ str     ┆ date      │\n",
       "│       ┆            ┆ f64        ┆ i64        ┆   ┆            ┆ f64        ┆         ┆           │\n",
       "╞═══════╪════════════╪════════════╪════════════╪═══╪════════════╪════════════╪═════════╪═══════════╡\n",
       "│ 1     ┆ 2010-02-05 ┆ 1643690.9  ┆ 0          ┆ … ┆ 211.096358 ┆ 8.106      ┆ 2010-02 ┆ 2010-02-1 │\n",
       "│       ┆            ┆            ┆            ┆   ┆ 2          ┆            ┆         ┆ 0         │\n",
       "│ 1     ┆ 2010-02-12 ┆ 1641957.44 ┆ 1          ┆ … ┆ 211.242169 ┆ 8.106      ┆ 2010-02 ┆ 2010-02-1 │\n",
       "│       ┆            ┆            ┆            ┆   ┆ 8          ┆            ┆         ┆ 7         │\n",
       "│ 1     ┆ 2010-02-19 ┆ 1611968.17 ┆ 0          ┆ … ┆ 211.289142 ┆ 8.106      ┆ 2010-02 ┆ 2010-02-2 │\n",
       "│       ┆            ┆            ┆            ┆   ┆ 9          ┆            ┆         ┆ 4         │\n",
       "│ 1     ┆ 2010-02-26 ┆ 1409727.59 ┆ 0          ┆ … ┆ 211.319642 ┆ 8.106      ┆ 2010-02 ┆ 2010-03-0 │\n",
       "│       ┆            ┆            ┆            ┆   ┆ 9          ┆            ┆         ┆ 3         │\n",
       "│ 1     ┆ 2010-03-05 ┆ 1554806.68 ┆ 0          ┆ … ┆ 211.350142 ┆ 8.106      ┆ 2010-03 ┆ 2010-03-1 │\n",
       "│       ┆            ┆            ┆            ┆   ┆ 9          ┆            ┆         ┆ 0         │\n",
       "└───────┴────────────┴────────────┴────────────┴───┴────────────┴────────────┴─────────┴───────────┘"
      ]
     },
     "execution_count": 13,
     "metadata": {},
     "output_type": "execute_result"
    }
   ],
   "source": [
    "sales_data.head()"
   ]
  },
  {
   "cell_type": "markdown",
   "metadata": {},
   "source": [
    "### Manejo de Strings"
   ]
  },
  {
   "cell_type": "code",
   "execution_count": 15,
   "metadata": {},
   "outputs": [
    {
     "data": {
      "text/html": [
       "<div><style>\n",
       ".dataframe > thead > tr,\n",
       ".dataframe > tbody > tr {\n",
       "  text-align: right;\n",
       "  white-space: pre-wrap;\n",
       "}\n",
       "</style>\n",
       "<small>shape: (3, 4)</small><table border=\"1\" class=\"dataframe\"><thead><tr><th>store</th><th>city</th><th>country</th><th>address</th></tr><tr><td>i64</td><td>str</td><td>str</td><td>str</td></tr></thead><tbody><tr><td>1</td><td>&quot;Honolulu&quot;</td><td>&quot;United States&quot;</td><td>&quot;09 Florence Way&quot;</td></tr><tr><td>2</td><td>&quot;Tulsa&quot;</td><td>&quot;United States&quot;</td><td>&quot;97 Hollow Ridge Hill&quot;</td></tr><tr><td>3</td><td>&quot;Tacoma&quot;</td><td>&quot;United States&quot;</td><td>&quot;1741 Center Court&quot;</td></tr></tbody></table></div>"
      ],
      "text/plain": [
       "shape: (3, 4)\n",
       "┌───────┬──────────┬───────────────┬──────────────────────┐\n",
       "│ store ┆ city     ┆ country       ┆ address              │\n",
       "│ ---   ┆ ---      ┆ ---           ┆ ---                  │\n",
       "│ i64   ┆ str      ┆ str           ┆ str                  │\n",
       "╞═══════╪══════════╪═══════════════╪══════════════════════╡\n",
       "│ 1     ┆ Honolulu ┆ United States ┆ 09 Florence Way      │\n",
       "│ 2     ┆ Tulsa    ┆ United States ┆ 97 Hollow Ridge Hill │\n",
       "│ 3     ┆ Tacoma   ┆ United States ┆ 1741 Center Court    │\n",
       "└───────┴──────────┴───────────────┴──────────────────────┘"
      ]
     },
     "execution_count": 15,
     "metadata": {},
     "output_type": "execute_result"
    }
   ],
   "source": [
    "store = pl.read_csv(path_file('storedesc.csv'))\n",
    "store.head(3)"
   ]
  },
  {
   "cell_type": "code",
   "execution_count": 47,
   "metadata": {},
   "outputs": [
    {
     "data": {
      "text/html": [
       "<div><style>\n",
       ".dataframe > thead > tr,\n",
       ".dataframe > tbody > tr {\n",
       "  text-align: right;\n",
       "  white-space: pre-wrap;\n",
       "}\n",
       "</style>\n",
       "<small>shape: (50, 5)</small><table border=\"1\" class=\"dataframe\"><thead><tr><th>store</th><th>city</th><th>country</th><th>street_number</th><th>street_name</th></tr><tr><td>i64</td><td>str</td><td>str</td><td>str</td><td>str</td></tr></thead><tbody><tr><td>1</td><td>&quot;Honolulu&quot;</td><td>&quot;United States&quot;</td><td>&quot;09&quot;</td><td>&quot;Florence Way&quot;</td></tr><tr><td>2</td><td>&quot;Tulsa&quot;</td><td>&quot;United States&quot;</td><td>&quot;97&quot;</td><td>&quot;Hollow Ridge Hill&quot;</td></tr><tr><td>3</td><td>&quot;Tacoma&quot;</td><td>&quot;United States&quot;</td><td>&quot;1741&quot;</td><td>&quot;Center Court&quot;</td></tr><tr><td>4</td><td>&quot;Madison&quot;</td><td>&quot;United States&quot;</td><td>&quot;3879&quot;</td><td>&quot;Valley Edge Way&quot;</td></tr><tr><td>5</td><td>&quot;Sacramento&quot;</td><td>&quot;United States&quot;</td><td>&quot;76&quot;</td><td>&quot;Ludington Way&quot;</td></tr><tr><td>&hellip;</td><td>&hellip;</td><td>&hellip;</td><td>&hellip;</td><td>&hellip;</td></tr><tr><td>46</td><td>&quot;Hampton&quot;</td><td>&quot;United States&quot;</td><td>&quot;78&quot;</td><td>&quot;Pine View Pass&quot;</td></tr><tr><td>47</td><td>&quot;Garden Grove&quot;</td><td>&quot;United States&quot;</td><td>&quot;1995&quot;</td><td>&quot;Elgar Crossing&quot;</td></tr><tr><td>48</td><td>&quot;Sacramento&quot;</td><td>&quot;United States&quot;</td><td>&quot;527&quot;</td><td>&quot;Bashford Terrace&quot;</td></tr><tr><td>49</td><td>&quot;Beaverton&quot;</td><td>&quot;United States&quot;</td><td>&quot;97205&quot;</td><td>&quot;Darwin Terrace&quot;</td></tr><tr><td>50</td><td>&quot;Evansville&quot;</td><td>&quot;United States&quot;</td><td>&quot;5&quot;</td><td>&quot;Lindbergh Street&quot;</td></tr></tbody></table></div>"
      ],
      "text/plain": [
       "shape: (50, 5)\n",
       "┌───────┬──────────────┬───────────────┬───────────────┬───────────────────┐\n",
       "│ store ┆ city         ┆ country       ┆ street_number ┆ street_name       │\n",
       "│ ---   ┆ ---          ┆ ---           ┆ ---           ┆ ---               │\n",
       "│ i64   ┆ str          ┆ str           ┆ str           ┆ str               │\n",
       "╞═══════╪══════════════╪═══════════════╪═══════════════╪═══════════════════╡\n",
       "│ 1     ┆ Honolulu     ┆ United States ┆ 09            ┆ Florence Way      │\n",
       "│ 2     ┆ Tulsa        ┆ United States ┆ 97            ┆ Hollow Ridge Hill │\n",
       "│ 3     ┆ Tacoma       ┆ United States ┆ 1741          ┆ Center Court      │\n",
       "│ 4     ┆ Madison      ┆ United States ┆ 3879          ┆ Valley Edge Way   │\n",
       "│ 5     ┆ Sacramento   ┆ United States ┆ 76            ┆ Ludington Way     │\n",
       "│ …     ┆ …            ┆ …             ┆ …             ┆ …                 │\n",
       "│ 46    ┆ Hampton      ┆ United States ┆ 78            ┆ Pine View Pass    │\n",
       "│ 47    ┆ Garden Grove ┆ United States ┆ 1995          ┆ Elgar Crossing    │\n",
       "│ 48    ┆ Sacramento   ┆ United States ┆ 527           ┆ Bashford Terrace  │\n",
       "│ 49    ┆ Beaverton    ┆ United States ┆ 97205         ┆ Darwin Terrace    │\n",
       "│ 50    ┆ Evansville   ┆ United States ┆ 5             ┆ Lindbergh Street  │\n",
       "└───────┴──────────────┴───────────────┴───────────────┴───────────────────┘"
      ]
     },
     "execution_count": 47,
     "metadata": {},
     "output_type": "execute_result"
    }
   ],
   "source": [
    "store.with_columns(\n",
    "    pl.col('address').str.splitn(' ', 2)\n",
    "    .struct.rename_fields(['street_number', 'street_name'])\n",
    "    .alias('address')\n",
    ").unnest('address')"
   ]
  },
  {
   "cell_type": "code",
   "execution_count": 45,
   "metadata": {},
   "outputs": [
    {
     "data": {
      "text/html": [
       "<div><style>\n",
       ".dataframe > thead > tr,\n",
       ".dataframe > tbody > tr {\n",
       "  text-align: right;\n",
       "  white-space: pre-wrap;\n",
       "}\n",
       "</style>\n",
       "<small>shape: (50, 1)</small><table border=\"1\" class=\"dataframe\"><thead><tr><th>street_name_only</th></tr><tr><td>str</td></tr></thead><tbody><tr><td>&quot; Florence Way&quot;</td></tr><tr><td>&quot; Hollow Ridge Hill&quot;</td></tr><tr><td>&quot; Center Court&quot;</td></tr><tr><td>&quot; Valley Edge Way&quot;</td></tr><tr><td>&quot; Ludington Way&quot;</td></tr><tr><td>&hellip;</td></tr><tr><td>&quot; Pine View Pass&quot;</td></tr><tr><td>&quot; Elgar Crossing&quot;</td></tr><tr><td>&quot; Bashford Terrace&quot;</td></tr><tr><td>&quot; Darwin Terrace&quot;</td></tr><tr><td>&quot; Lindbergh Street&quot;</td></tr></tbody></table></div>"
      ],
      "text/plain": [
       "shape: (50, 1)\n",
       "┌────────────────────┐\n",
       "│ street_name_only   │\n",
       "│ ---                │\n",
       "│ str                │\n",
       "╞════════════════════╡\n",
       "│  Florence Way      │\n",
       "│  Hollow Ridge Hill │\n",
       "│  Center Court      │\n",
       "│  Valley Edge Way   │\n",
       "│  Ludington Way     │\n",
       "│ …                  │\n",
       "│  Pine View Pass    │\n",
       "│  Elgar Crossing    │\n",
       "│  Bashford Terrace  │\n",
       "│  Darwin Terrace    │\n",
       "│  Lindbergh Street  │\n",
       "└────────────────────┘"
      ]
     },
     "execution_count": 45,
     "metadata": {},
     "output_type": "execute_result"
    }
   ],
   "source": [
    "store.select(\n",
    "    pl.col('address').str.replace(r'\\d+', '').alias('street_name_only')\n",
    ")"
   ]
  }
 ],
 "metadata": {
  "kernelspec": {
   "display_name": "curso_cf_etl",
   "language": "python",
   "name": "python3"
  },
  "language_info": {
   "codemirror_mode": {
    "name": "ipython",
    "version": 3
   },
   "file_extension": ".py",
   "mimetype": "text/x-python",
   "name": "python",
   "nbconvert_exporter": "python",
   "pygments_lexer": "ipython3",
   "version": "3.11.9"
  }
 },
 "nbformat": 4,
 "nbformat_minor": 2
}
